{
 "cells": [
  {
   "cell_type": "markdown",
   "metadata": {},
   "source": [
    "## 3. Deep Learning Problem: Regression\n",
    "### Ex 3: Predict House Price (Small Dataset)"
   ]
  },
  {
   "cell_type": "code",
   "execution_count": 1,
   "metadata": {},
   "outputs": [],
   "source": [
    "%matplotlib inline\n",
    "import matplotlib.pyplot as plt\n",
    "import pandas as pd\n",
    "import numpy as np\n",
    "from pandas import set_option\n",
    "\n",
    "\n",
    "# data analysis and wrangling\n",
    "import pandas as pd\n",
    "import numpy as np\n",
    "import random as rnd\n",
    "\n",
    "# visualization\n",
    "import seaborn as sns\n",
    "import matplotlib.pyplot as plt\n",
    "%matplotlib inline\n",
    "\n",
    "from sklearn.model_selection import train_test_split\n",
    "\n",
    "# machine learning\n",
    "from sklearn.linear_model import LinearRegression\n",
    "from sklearn.linear_model import Ridge\n",
    "from sklearn.linear_model import Lasso\n",
    "from sklearn.linear_model import ElasticNet\n",
    "from sklearn.tree import DecisionTreeRegressor\n",
    "from sklearn.svm import SVR\n",
    "\n",
    "#deep learning\n",
    "from sklearn.metrics import r2_score\n",
    "from sklearn.metrics import mean_squared_error\n",
    "from sklearn.metrics import mean_absolute_error"
   ]
  },
  {
   "cell_type": "markdown",
   "metadata": {},
   "source": [
    "create 2 variables called X and y: <br>\n",
    "X shall be a matrix with 3 columns (sqft,bdrms,age) <br>\n",
    "y shall be a vector with 1 column (price) <br>"
   ]
  },
  {
   "cell_type": "code",
   "execution_count": 2,
   "metadata": {},
   "outputs": [],
   "source": [
    "df = pd.read_csv('housing-data.csv')"
   ]
  },
  {
   "cell_type": "code",
   "execution_count": 3,
   "metadata": {},
   "outputs": [
    {
     "data": {
      "text/html": [
       "<div>\n",
       "<style scoped>\n",
       "    .dataframe tbody tr th:only-of-type {\n",
       "        vertical-align: middle;\n",
       "    }\n",
       "\n",
       "    .dataframe tbody tr th {\n",
       "        vertical-align: top;\n",
       "    }\n",
       "\n",
       "    .dataframe thead th {\n",
       "        text-align: right;\n",
       "    }\n",
       "</style>\n",
       "<table border=\"1\" class=\"dataframe\">\n",
       "  <thead>\n",
       "    <tr style=\"text-align: right;\">\n",
       "      <th></th>\n",
       "      <th>sqft</th>\n",
       "      <th>bdrms</th>\n",
       "      <th>age</th>\n",
       "      <th>price</th>\n",
       "    </tr>\n",
       "  </thead>\n",
       "  <tbody>\n",
       "    <tr>\n",
       "      <th>0</th>\n",
       "      <td>2104</td>\n",
       "      <td>3</td>\n",
       "      <td>70</td>\n",
       "      <td>399900</td>\n",
       "    </tr>\n",
       "    <tr>\n",
       "      <th>1</th>\n",
       "      <td>1600</td>\n",
       "      <td>3</td>\n",
       "      <td>28</td>\n",
       "      <td>329900</td>\n",
       "    </tr>\n",
       "    <tr>\n",
       "      <th>2</th>\n",
       "      <td>2400</td>\n",
       "      <td>3</td>\n",
       "      <td>44</td>\n",
       "      <td>369000</td>\n",
       "    </tr>\n",
       "    <tr>\n",
       "      <th>3</th>\n",
       "      <td>1416</td>\n",
       "      <td>2</td>\n",
       "      <td>49</td>\n",
       "      <td>232000</td>\n",
       "    </tr>\n",
       "    <tr>\n",
       "      <th>4</th>\n",
       "      <td>3000</td>\n",
       "      <td>4</td>\n",
       "      <td>75</td>\n",
       "      <td>539900</td>\n",
       "    </tr>\n",
       "  </tbody>\n",
       "</table>\n",
       "</div>"
      ],
      "text/plain": [
       "   sqft  bdrms  age   price\n",
       "0  2104      3   70  399900\n",
       "1  1600      3   28  329900\n",
       "2  2400      3   44  369000\n",
       "3  1416      2   49  232000\n",
       "4  3000      4   75  539900"
      ]
     },
     "execution_count": 3,
     "metadata": {},
     "output_type": "execute_result"
    }
   ],
   "source": [
    "df.head()"
   ]
  },
  {
   "cell_type": "code",
   "execution_count": 4,
   "metadata": {},
   "outputs": [
    {
     "data": {
      "text/plain": [
       "(47, 4)"
      ]
     },
     "execution_count": 4,
     "metadata": {},
     "output_type": "execute_result"
    }
   ],
   "source": [
    "df.shape"
   ]
  },
  {
   "cell_type": "code",
   "execution_count": 5,
   "metadata": {},
   "outputs": [
    {
     "data": {
      "image/png": "[encoded data removed]",
      "text/plain": [
       "<Figure size 432x288 with 4 Axes>"
      ]
     },
     "metadata": {
      "needs_background": "light"
     },
     "output_type": "display_data"
    }
   ],
   "source": [
    "df.hist()\n",
    "plt.show()"
   ]
  },
  {
   "cell_type": "code",
   "execution_count": 6,
   "metadata": {},
   "outputs": [],
   "source": [
    "from sklearn.preprocessing import MinMaxScaler\n",
    "array = df.values\n",
    "# separate array into input and output components\n",
    "X = array[:,0:3]\n",
    "Y = array[:,3]"
   ]
  },
  {
   "cell_type": "code",
   "execution_count": 7,
   "metadata": {},
   "outputs": [
    {
     "data": {
      "text/plain": [
       "array([[0.34528406, 0.5       , 0.87837838],\n",
       "       [0.20628792, 0.5       , 0.31081081],\n",
       "       [0.42691671, 0.5       , 0.52702703],\n",
       "       [0.1555433 , 0.25      , 0.59459459],\n",
       "       [0.59238831, 0.75      , 0.94594595],\n",
       "       [0.31246553, 0.75      , 0.75675676],\n",
       "       [0.18808605, 0.5       , 0.09459459],\n",
       "       [0.15857694, 0.5       , 0.7027027 ],\n",
       "       [0.145615  , 0.5       , 0.12162162],\n",
       "       [0.17705461, 0.5       , 0.13513514],\n",
       "       [0.30005516, 0.75      , 0.02702703],\n",
       "       [0.31660232, 0.5       , 0.2972973 ],\n",
       "       [0.28626586, 0.5       , 0.54054054],\n",
       "       [1.        , 1.        , 0.59459459],\n",
       "       [0.11472697, 0.5       , 0.71621622],\n",
       "       [0.39933811, 0.75      , 0.97297297],\n",
       "       [0.12906784, 0.25      , 0.77027027],\n",
       "       [0.10590182, 0.5       , 0.98648649],\n",
       "       [0.48455598, 0.75      , 0.        ],\n",
       "       [0.60093767, 0.75      , 0.21621622],\n",
       "       [0.25234418, 0.5       , 0.52702703],\n",
       "       [0.28571429, 0.25      , 1.        ],\n",
       "       [0.20739106, 0.5       , 0.10810811],\n",
       "       [0.30612245, 0.75      , 0.64864865],\n",
       "       [0.83783784, 0.5       , 0.41891892],\n",
       "       [0.06839493, 0.5       , 0.74324324],\n",
       "       [0.16712631, 0.5       , 0.32432432],\n",
       "       [0.46166575, 0.5       , 0.10810811],\n",
       "       [0.37175951, 0.5       , 0.31081081],\n",
       "       [0.49227799, 0.5       , 0.27027027],\n",
       "       [0.27220077, 0.25      , 0.47297297],\n",
       "       [0.04081633, 0.        , 0.        ],\n",
       "       [0.32763376, 0.75      , 0.94594595],\n",
       "       [0.63017099, 0.5       , 0.83783784],\n",
       "       [0.26447876, 0.75      , 0.25675676],\n",
       "       [0.1613348 , 0.5       , 0.60810811],\n",
       "       [0.10672918, 0.5       , 0.22972973],\n",
       "       [0.35300607, 0.75      , 0.31081081],\n",
       "       [0.92746828, 0.75      , 0.82432432],\n",
       "       [0.36127965, 0.75      , 0.51351351],\n",
       "       [0.22393822, 0.25      , 0.47297297],\n",
       "       [0.38223938, 0.5       , 0.43243243],\n",
       "       [0.47297297, 0.75      , 0.7027027 ],\n",
       "       [0.09597352, 0.5       , 0.95945946],\n",
       "       [0.        , 0.25      , 0.87837838],\n",
       "       [0.27578599, 0.75      , 0.7972973 ],\n",
       "       [0.09680088, 0.5       , 0.08108108]])"
      ]
     },
     "execution_count": 7,
     "metadata": {},
     "output_type": "execute_result"
    }
   ],
   "source": [
    "scaler = MinMaxScaler()\n",
    "rescaledX = scaler.fit_transform(X)\n",
    "X = rescaledX\n",
    "X"
   ]
  },
  {
   "cell_type": "code",
   "execution_count": 8,
   "metadata": {},
   "outputs": [
    {
     "name": "stdout",
     "output_type": "stream",
     "text": [
      "The model performance for testing set\n",
      "--------------------------------------\n",
      "MAE is 72373.38495240992\n",
      "RMSE is 92761.70337516276\n"
     ]
    }
   ],
   "source": [
    "X_train, X_test, Y_train, Y_test = train_test_split(X, Y, test_size=0.2,random_state=42)\n",
    "\n",
    "#Different Regression Machine Learning Methods\n",
    "lin_model = LinearRegression()\n",
    "#lin_model = Ridge()\n",
    "#lin_model = Lasso()\n",
    "#lin_model = ElasticNet()\n",
    "#lin_model = DecisionTreeRegressor()\n",
    "#lin_model = SVR()\n",
    "lin_model.fit(X_train, Y_train)\n",
    "\n",
    "# model evaluation for testing set\n",
    "y_test_predict = lin_model.predict(X_test)\n",
    "mae = mean_absolute_error(Y_test, y_test_predict)\n",
    "rmse = (np.sqrt(mean_squared_error(Y_test, y_test_predict)))\n",
    "r2 = r2_score(Y_test, y_test_predict)\n",
    "\n",
    "print(\"The model performance for testing set\")\n",
    "print(\"--------------------------------------\")\n",
    "print('MAE is {}'.format(mae))\n",
    "print('RMSE is {}'.format(rmse))"
   ]
  },
  {
   "cell_type": "code",
   "execution_count": 9,
   "metadata": {},
   "outputs": [],
   "source": [
    "#Visualize the Predicted Price VS. the Actual Price\n",
    "#df = pd.DataFrame({'Actual': Y_test, 'Predicted': y_test_predict})\n",
    "#df.plot(kind='line',figsize=(18,8))\n",
    "#plt.grid(which='major', linestyle='-', linewidth='0.5', color='green')\n",
    "#plt.grid(which='minor', linestyle=':', linewidth='0.5', color='black')\n",
    "#plt.show()"
   ]
  },
  {
   "cell_type": "code",
   "execution_count": 10,
   "metadata": {},
   "outputs": [
    {
     "name": "stdout",
     "output_type": "stream",
     "text": [
      "10\n",
      "10\n"
     ]
    },
    {
     "data": {
      "image/png": "[encoded data removed]",
      "text/plain": [
       "<Figure size 432x288 with 1 Axes>"
      ]
     },
     "metadata": {
      "needs_background": "light"
     },
     "output_type": "display_data"
    }
   ],
   "source": [
    "# Our predictions\n",
    "plt.scatter(Y_test,y_test_predict)\n",
    "\n",
    "# Perfect predictions\n",
    "plt.plot(Y_test,Y_test,'r')\n",
    "print(len(Y_test))\n",
    "print(len(y_test_predict))"
   ]
  },
  {
   "cell_type": "markdown",
   "metadata": {},
   "source": [
    "### Deep Learning Model"
   ]
  },
  {
   "cell_type": "code",
   "execution_count": 11,
   "metadata": {},
   "outputs": [
    {
     "name": "stdout",
     "output_type": "stream",
     "text": [
      "Epoch 1/200\n",
      "24/24 [==============================] - 1s 30ms/step - loss: 147396723671.0400 - val_loss: 113054334976.0000\n",
      "Epoch 2/200\n",
      "24/24 [==============================] - 0s 3ms/step - loss: 143748537384.9600 - val_loss: 113054089216.0000\n",
      "Epoch 3/200\n",
      "24/24 [==============================] - 0s 3ms/step - loss: 108210259230.7200 - val_loss: 113053679616.0000\n",
      "Epoch 4/200\n",
      "24/24 [==============================] - 0s 3ms/step - loss: 110516325744.6400 - val_loss: 113052958720.0000\n",
      "Epoch 5/200\n",
      "24/24 [==============================] - 0s 3ms/step - loss: 107460552130.5600 - val_loss: 113051582464.0000\n",
      "Epoch 6/200\n",
      "24/24 [==============================] - 0s 3ms/step - loss: 121411250094.0800 - val_loss: 113048952832.0000\n",
      "Epoch 7/200\n",
      "24/24 [==============================] - 0s 3ms/step - loss: 139592325857.2800 - val_loss: 113044135936.0000\n",
      "Epoch 8/200\n",
      "24/24 [==============================] - 0s 3ms/step - loss: 134733315440.6400 - val_loss: 113036369920.0000\n",
      "Epoch 9/200\n",
      "24/24 [==============================] - 0s 3ms/step - loss: 109289106636.8000 - val_loss: 113023385600.0000\n",
      "Epoch 10/200\n",
      "24/24 [==============================] - 0s 3ms/step - loss: 112883864371.2000 - val_loss: 113002938368.0000\n",
      "Epoch 11/200\n",
      "24/24 [==============================] - 0s 3ms/step - loss: 113747974389.7600 - val_loss: 112974725120.0000\n",
      "Epoch 12/200\n",
      "24/24 [==============================] - 0s 3ms/step - loss: 108419186196.4800 - val_loss: 112935550976.0000\n",
      "Epoch 13/200\n",
      "24/24 [==============================] - 0s 3ms/step - loss: 140111684894.7200 - val_loss: 112882081792.0000\n",
      "Epoch 14/200\n",
      "24/24 [==============================] - 0s 3ms/step - loss: 102874546503.6800 - val_loss: 112815775744.0000\n",
      "Epoch 15/200\n",
      "24/24 [==============================] - 0s 3ms/step - loss: 102526177853.4400 - val_loss: 112725155840.0000\n",
      "Epoch 16/200\n",
      "24/24 [==============================] - 0s 3ms/step - loss: 121599793233.9200 - val_loss: 112613842944.0000\n",
      "Epoch 17/200\n",
      "24/24 [==============================] - 0s 3ms/step - loss: 106733191168.0000 - val_loss: 112474439680.0000\n",
      "Epoch 18/200\n",
      "24/24 [==============================] - 0s 3ms/step - loss: 101306930135.0400 - val_loss: 112303628288.0000\n",
      "Epoch 19/200\n",
      "24/24 [==============================] - 0s 3ms/step - loss: 112512448593.9200 - val_loss: 112088334336.0000\n",
      "Epoch 20/200\n",
      "24/24 [==============================] - 0s 3ms/step - loss: 119167285329.9200 - val_loss: 111848292352.0000\n",
      "Epoch 21/200\n",
      "24/24 [==============================] - 0s 3ms/step - loss: 160329241722.8800 - val_loss: 111556558848.0000\n",
      "Epoch 22/200\n",
      "24/24 [==============================] - 0s 3ms/step - loss: 126419180912.6400 - val_loss: 111240273920.0000\n",
      "Epoch 23/200\n",
      "24/24 [==============================] - 0s 3ms/step - loss: 106189180764.1600 - val_loss: 110875918336.0000\n",
      "Epoch 24/200\n",
      "24/24 [==============================] - 0s 3ms/step - loss: 138662156861.4400 - val_loss: 110408941568.0000\n",
      "Epoch 25/200\n",
      "24/24 [==============================] - 0s 3ms/step - loss: 147435038638.0800 - val_loss: 109926539264.0000\n",
      "Epoch 26/200\n",
      "24/24 [==============================] - 0s 3ms/step - loss: 126160439214.0800 - val_loss: 109380591616.0000\n",
      "Epoch 27/200\n",
      "24/24 [==============================] - 0s 3ms/step - loss: 96160554516.4800 - val_loss: 108767174656.0000\n",
      "Epoch 28/200\n",
      "24/24 [==============================] - 0s 3ms/step - loss: 110051059302.4000 - val_loss: 108052758528.0000\n",
      "Epoch 29/200\n",
      "24/24 [==============================] - 0s 3ms/step - loss: 102488627445.7600 - val_loss: 107287977984.0000\n",
      "Epoch 30/200\n",
      "24/24 [==============================] - 0s 3ms/step - loss: 102447927459.8400 - val_loss: 106447519744.0000\n",
      "Epoch 31/200\n",
      "24/24 [==============================] - 0s 3ms/step - loss: 90352378511.3600 - val_loss: 105563209728.0000\n",
      "Epoch 32/200\n",
      "24/24 [==============================] - 0s 4ms/step - loss: 102472142028.8000 - val_loss: 104519335936.0000\n",
      "Epoch 33/200\n",
      "24/24 [==============================] - 0s 3ms/step - loss: 108870651658.2400 - val_loss: 103389077504.0000\n",
      "Epoch 34/200\n",
      "24/24 [==============================] - 0s 3ms/step - loss: 103646333829.1200 - val_loss: 102205939712.0000\n",
      "Epoch 35/200\n",
      "24/24 [==============================] - 0s 3ms/step - loss: 88771972300.8000 - val_loss: 100997193728.0000\n",
      "Epoch 36/200\n",
      "24/24 [==============================] - 0s 3ms/step - loss: 94096482959.3600 - val_loss: 99585310720.0000\n",
      "Epoch 37/200\n",
      "24/24 [==============================] - 0s 3ms/step - loss: 102027922964.4800 - val_loss: 98151038976.0000\n",
      "Epoch 38/200\n",
      "24/24 [==============================] - 0s 7ms/step - loss: 128536791777.2800 - val_loss: 96522977280.0000\n",
      "Epoch 39/200\n",
      "24/24 [==============================] - 0s 3ms/step - loss: 104935185121.2800 - val_loss: 94921080832.0000\n",
      "Epoch 40/200\n",
      "24/24 [==============================] - 0s 3ms/step - loss: 85019156152.3200 - val_loss: 93272752128.0000\n",
      "Epoch 41/200\n",
      "24/24 [==============================] - 0s 3ms/step - loss: 127622819348.4800 - val_loss: 91423506432.0000\n",
      "Epoch 42/200\n",
      "24/24 [==============================] - 0s 3ms/step - loss: 112845987348.4800 - val_loss: 89532317696.0000\n",
      "Epoch 43/200\n",
      "24/24 [==============================] - 0s 3ms/step - loss: 80545917992.9600 - val_loss: 87591657472.0000\n",
      "Epoch 44/200\n",
      "24/24 [==============================] - 0s 3ms/step - loss: 95171060039.6800 - val_loss: 85445312512.0000\n",
      "Epoch 45/200\n",
      "24/24 [==============================] - 0s 3ms/step - loss: 71232824770.5600 - val_loss: 83409625088.0000\n",
      "Epoch 46/200\n",
      "24/24 [==============================] - 0s 3ms/step - loss: 73984457605.1200 - val_loss: 81081892864.0000\n",
      "Epoch 47/200\n",
      "24/24 [==============================] - 0s 3ms/step - loss: 97563923742.7200 - val_loss: 78735622144.0000\n",
      "Epoch 48/200\n",
      "24/24 [==============================] - 0s 3ms/step - loss: 78578516951.0400 - val_loss: 76374220800.0000\n",
      "Epoch 49/200\n",
      "24/24 [==============================] - 0s 3ms/step - loss: 98306267217.9200 - val_loss: 73911820288.0000\n",
      "Epoch 50/200\n",
      "24/24 [==============================] - 0s 3ms/step - loss: 72525937704.9600 - val_loss: 71497293824.0000\n",
      "Epoch 51/200\n",
      "24/24 [==============================] - 0s 3ms/step - loss: 81777326161.9200 - val_loss: 68951556096.0000\n",
      "Epoch 52/200\n",
      "24/24 [==============================] - 0s 3ms/step - loss: 96678224527.3600 - val_loss: 66330357760.0000\n",
      "Epoch 53/200\n",
      "24/24 [==============================] - 0s 3ms/step - loss: 88892972072.9600 - val_loss: 63883968512.0000\n",
      "Epoch 54/200\n",
      "24/24 [==============================] - 0s 3ms/step - loss: 53694682398.7200 - val_loss: 61408534528.0000\n",
      "Epoch 55/200\n",
      "24/24 [==============================] - 0s 3ms/step - loss: 65513929441.2800 - val_loss: 58654855168.0000\n",
      "Epoch 56/200\n",
      "24/24 [==============================] - 0s 3ms/step - loss: 63723906990.0800 - val_loss: 56038178816.0000\n",
      "Epoch 57/200\n",
      "24/24 [==============================] - 0s 3ms/step - loss: 52509046087.6800 - val_loss: 53553709056.0000\n",
      "Epoch 58/200\n",
      "24/24 [==============================] - 0s 3ms/step - loss: 42881039360.0000 - val_loss: 51004223488.0000\n",
      "Epoch 59/200\n",
      "24/24 [==============================] - 0s 3ms/step - loss: 46695251845.1200 - val_loss: 48418459648.0000\n",
      "Epoch 60/200\n",
      "24/24 [==============================] - 0s 3ms/step - loss: 43226579927.0400 - val_loss: 45934075904.0000\n",
      "Epoch 61/200\n",
      "24/24 [==============================] - 0s 3ms/step - loss: 40438639493.1200 - val_loss: 43444932608.0000\n",
      "Epoch 62/200\n",
      "24/24 [==============================] - 0s 3ms/step - loss: 44072617656.3200 - val_loss: 40936652800.0000\n",
      "Epoch 63/200\n",
      "24/24 [==============================] - 0s 3ms/step - loss: 39385672335.3600 - val_loss: 38628171776.0000\n",
      "Epoch 64/200\n",
      "24/24 [==============================] - 0s 3ms/step - loss: 40675508920.3200 - val_loss: 36330708992.0000\n",
      "Epoch 65/200\n",
      "24/24 [==============================] - 0s 3ms/step - loss: 36326180003.8400 - val_loss: 34221455360.0000\n",
      "Epoch 66/200\n",
      "24/24 [==============================] - 0s 3ms/step - loss: 48608109854.7200 - val_loss: 32061083648.0000\n",
      "Epoch 67/200\n",
      "24/24 [==============================] - 0s 3ms/step - loss: 25662629314.5600 - val_loss: 30251880448.0000\n",
      "Epoch 68/200\n",
      "24/24 [==============================] - 0s 3ms/step - loss: 33420013404.1600 - val_loss: 28206479360.0000\n"
     ]
    },
    {
     "name": "stdout",
     "output_type": "stream",
     "text": [
      "Epoch 69/200\n",
      "24/24 [==============================] - 0s 3ms/step - loss: 39223774494.7200 - val_loss: 26497320960.0000\n",
      "Epoch 70/200\n",
      "24/24 [==============================] - 0s 3ms/step - loss: 18585173390.3600 - val_loss: 24827529216.0000\n",
      "Epoch 71/200\n",
      "24/24 [==============================] - 0s 3ms/step - loss: 15284138659.8400 - val_loss: 23284277248.0000\n",
      "Epoch 72/200\n",
      "24/24 [==============================] - 0s 3ms/step - loss: 23122567649.2800 - val_loss: 21663846400.0000\n",
      "Epoch 73/200\n",
      "24/24 [==============================] - 0s 3ms/step - loss: 26265510277.1200 - val_loss: 20314767360.0000\n",
      "Epoch 74/200\n",
      "24/24 [==============================] - 0s 3ms/step - loss: 12624859648.0000 - val_loss: 19187443712.0000\n",
      "Epoch 75/200\n",
      "24/24 [==============================] - 0s 3ms/step - loss: 26671960760.3200 - val_loss: 17875038208.0000\n",
      "Epoch 76/200\n",
      "24/24 [==============================] - 0s 3ms/step - loss: 10154895774.7200 - val_loss: 17033097216.0000\n",
      "Epoch 77/200\n",
      "24/24 [==============================] - 0s 3ms/step - loss: 23252819927.0400 - val_loss: 15876935680.0000\n",
      "Epoch 78/200\n",
      "24/24 [==============================] - 0s 3ms/step - loss: 14764306575.3600 - val_loss: 15063017472.0000\n",
      "Epoch 79/200\n",
      "24/24 [==============================] - 0s 3ms/step - loss: 22393264168.9600 - val_loss: 14302832640.0000\n",
      "Epoch 80/200\n",
      "24/24 [==============================] - 0s 3ms/step - loss: 13797656944.6400 - val_loss: 13604744192.0000\n",
      "Epoch 81/200\n",
      "24/24 [==============================] - 0s 3ms/step - loss: 18867357122.5600 - val_loss: 13028358144.0000\n",
      "Epoch 82/200\n",
      "24/24 [==============================] - 0s 3ms/step - loss: 4849451484.1600 - val_loss: 12631972864.0000\n",
      "Epoch 83/200\n",
      "24/24 [==============================] - 0s 3ms/step - loss: 10669783511.0400 - val_loss: 12048104448.0000\n",
      "Epoch 84/200\n",
      "24/24 [==============================] - 0s 7ms/step - loss: 9076785633.2800 - val_loss: 11694364672.0000\n",
      "Epoch 85/200\n",
      "24/24 [==============================] - 0s 3ms/step - loss: 7713153351.6800 - val_loss: 11346246656.0000\n",
      "Epoch 86/200\n",
      "24/24 [==============================] - 0s 3ms/step - loss: 12778819727.3600 - val_loss: 11005886464.0000\n",
      "Epoch 87/200\n",
      "24/24 [==============================] - 0s 3ms/step - loss: 11608352747.5200 - val_loss: 10744730624.0000\n",
      "Epoch 88/200\n",
      "24/24 [==============================] - 0s 3ms/step - loss: 9442189573.1200 - val_loss: 10596183040.0000\n",
      "Epoch 89/200\n",
      "24/24 [==============================] - 0s 3ms/step - loss: 6778850058.2400 - val_loss: 10416450560.0000\n",
      "Epoch 90/200\n",
      "24/24 [==============================] - 0s 3ms/step - loss: 8127488891.5200 - val_loss: 10265593856.0000\n",
      "Epoch 91/200\n",
      "24/24 [==============================] - 0s 3ms/step - loss: 5586667811.8400 - val_loss: 10128776192.0000\n",
      "Epoch 92/200\n",
      "24/24 [==============================] - 0s 3ms/step - loss: 5562202562.5600 - val_loss: 10039162880.0000\n",
      "Epoch 93/200\n",
      "24/24 [==============================] - 0s 3ms/step - loss: 6102520002.5600 - val_loss: 9956714496.0000\n",
      "Epoch 94/200\n",
      "24/24 [==============================] - 0s 3ms/step - loss: 5886643624.9600 - val_loss: 9884146688.0000\n",
      "Epoch 95/200\n",
      "24/24 [==============================] - 0s 3ms/step - loss: 7406739947.5200 - val_loss: 9842717696.0000\n",
      "Epoch 96/200\n",
      "24/24 [==============================] - 0s 3ms/step - loss: 5455822919.6800 - val_loss: 9784354816.0000\n",
      "Epoch 97/200\n",
      "24/24 [==============================] - 0s 3ms/step - loss: 9513456257.2800 - val_loss: 9744841728.0000\n",
      "Epoch 98/200\n",
      "24/24 [==============================] - 0s 3ms/step - loss: 6734327623.6800 - val_loss: 9728467968.0000\n",
      "Epoch 99/200\n",
      "24/24 [==============================] - 0s 3ms/step - loss: 13271311339.5200 - val_loss: 9706754048.0000\n",
      "Epoch 100/200\n",
      "24/24 [==============================] - 0s 3ms/step - loss: 7357936563.2000 - val_loss: 9697300480.0000\n",
      "Epoch 101/200\n",
      "24/24 [==============================] - 0s 3ms/step - loss: 8415393976.3200 - val_loss: 9687630848.0000\n",
      "Epoch 102/200\n",
      "24/24 [==============================] - 0s 3ms/step - loss: 7549738536.9600 - val_loss: 9678317568.0000\n",
      "Epoch 103/200\n",
      "24/24 [==============================] - 0s 3ms/step - loss: 5987358341.1200 - val_loss: 9681208320.0000\n",
      "Epoch 104/200\n",
      "24/24 [==============================] - 0s 3ms/step - loss: 14925981204.4800 - val_loss: 9672323072.0000\n",
      "Epoch 105/200\n",
      "24/24 [==============================] - 0s 3ms/step - loss: 5357792148.4800 - val_loss: 9672504320.0000\n",
      "Epoch 106/200\n",
      "24/24 [==============================] - 0s 3ms/step - loss: 7340460636.1600 - val_loss: 9682126848.0000\n",
      "Epoch 107/200\n",
      "24/24 [==============================] - 0s 3ms/step - loss: 8563776756.1600 - val_loss: 9670687744.0000\n",
      "Epoch 108/200\n",
      "24/24 [==============================] - 0s 3ms/step - loss: 8168833484.8000 - val_loss: 9675381760.0000\n",
      "Epoch 109/200\n",
      "24/24 [==============================] - 0s 3ms/step - loss: 6252293053.4400 - val_loss: 9673467904.0000\n",
      "Epoch 110/200\n",
      "24/24 [==============================] - 0s 3ms/step - loss: 6107090408.9600 - val_loss: 9674798080.0000\n",
      "Epoch 111/200\n",
      "24/24 [==============================] - 0s 3ms/step - loss: 10526833397.7600 - val_loss: 9667381248.0000\n",
      "Epoch 112/200\n",
      "24/24 [==============================] - 0s 3ms/step - loss: 5384731187.2000 - val_loss: 9669114880.0000\n",
      "Epoch 113/200\n",
      "24/24 [==============================] - 0s 3ms/step - loss: 10916258877.4400 - val_loss: 9692387328.0000\n",
      "Epoch 114/200\n",
      "24/24 [==============================] - 0s 3ms/step - loss: 8633450199.0400 - val_loss: 9678833664.0000\n",
      "Epoch 115/200\n",
      "24/24 [==============================] - 0s 3ms/step - loss: 10239801692.1600 - val_loss: 9662781440.0000\n",
      "Epoch 116/200\n",
      "24/24 [==============================] - 0s 3ms/step - loss: 10028919111.6800 - val_loss: 9679794176.0000\n",
      "Epoch 117/200\n",
      "24/24 [==============================] - 0s 3ms/step - loss: 4355283329.2800 - val_loss: 9670548480.0000\n",
      "Epoch 118/200\n",
      "24/24 [==============================] - 0s 3ms/step - loss: 7134517810.5600 - val_loss: 9649936384.0000\n",
      "Epoch 119/200\n",
      "24/24 [==============================] - 0s 3ms/step - loss: 6819448017.6000 - val_loss: 9643107328.0000\n",
      "Epoch 120/200\n",
      "24/24 [==============================] - 0s 3ms/step - loss: 4102092139.5200 - val_loss: 9647426560.0000\n",
      "Epoch 121/200\n",
      "24/24 [==============================] - 0s 3ms/step - loss: 7885469880.3200 - val_loss: 9653256192.0000\n",
      "Epoch 122/200\n",
      "24/24 [==============================] - 0s 3ms/step - loss: 10059536834.8800 - val_loss: 9655698432.0000\n",
      "Epoch 123/200\n",
      "24/24 [==============================] - 0s 3ms/step - loss: 11018277465.6000 - val_loss: 9661302784.0000\n",
      "Epoch 124/200\n",
      "24/24 [==============================] - 0s 3ms/step - loss: 8136652431.3600 - val_loss: 9638935552.0000\n",
      "Epoch 125/200\n",
      "24/24 [==============================] - 0s 3ms/step - loss: 5166130245.1200 - val_loss: 9647147008.0000\n",
      "Epoch 126/200\n",
      "24/24 [==============================] - 0s 3ms/step - loss: 6934284840.9600 - val_loss: 9642843136.0000\n",
      "Epoch 127/200\n",
      "24/24 [==============================] - 0s 3ms/step - loss: 6576670074.8800 - val_loss: 9629724672.0000\n",
      "Epoch 128/200\n",
      "24/24 [==============================] - 0s 3ms/step - loss: 4373414126.0800 - val_loss: 9617024000.0000\n",
      "Epoch 129/200\n",
      "24/24 [==============================] - 0s 3ms/step - loss: 7901345853.4400 - val_loss: 9609733120.0000\n",
      "Epoch 130/200\n",
      "24/24 [==============================] - 0s 7ms/step - loss: 7652328222.7200 - val_loss: 9607739392.0000\n",
      "Epoch 131/200\n",
      "24/24 [==============================] - 0s 3ms/step - loss: 7760253236.8800 - val_loss: 9631512576.0000\n",
      "Epoch 132/200\n",
      "24/24 [==============================] - 0s 3ms/step - loss: 9339257896.9600 - val_loss: 9625090048.0000\n",
      "Epoch 133/200\n",
      "24/24 [==============================] - 0s 3ms/step - loss: 6723260631.0400 - val_loss: 9593273344.0000\n",
      "Epoch 134/200\n",
      "24/24 [==============================] - 0s 3ms/step - loss: 8087041064.9600 - val_loss: 9579577344.0000\n",
      "Epoch 135/200\n",
      "24/24 [==============================] - 0s 3ms/step - loss: 6242759488.0000 - val_loss: 9570690048.0000\n",
      "Epoch 136/200\n",
      "24/24 [==============================] - 0s 3ms/step - loss: 9344641024.0000 - val_loss: 9591934976.0000\n",
      "Epoch 137/200\n"
     ]
    },
    {
     "name": "stdout",
     "output_type": "stream",
     "text": [
      "24/24 [==============================] - 0s 3ms/step - loss: 8762246553.6000 - val_loss: 9598548992.0000\n",
      "Epoch 138/200\n",
      "24/24 [==============================] - 0s 3ms/step - loss: 9022521344.0000 - val_loss: 9582438400.0000\n",
      "Epoch 139/200\n",
      "24/24 [==============================] - 0s 3ms/step - loss: 6281389057.6000 - val_loss: 9549197312.0000\n",
      "Epoch 140/200\n",
      "24/24 [==============================] - 0s 6ms/step - loss: 4970530327.0400 - val_loss: 9553582080.0000\n",
      "Epoch 141/200\n",
      "24/24 [==============================] - 0s 3ms/step - loss: 6197721180.1600 - val_loss: 9525795840.0000\n",
      "Epoch 142/200\n",
      "24/24 [==============================] - 0s 3ms/step - loss: 6058086574.0800 - val_loss: 9559193600.0000\n",
      "Epoch 143/200\n",
      "24/24 [==============================] - 0s 3ms/step - loss: 12259785523.2000 - val_loss: 9565969408.0000\n",
      "Epoch 144/200\n",
      "24/24 [==============================] - 0s 3ms/step - loss: 4801203466.5600 - val_loss: 9503059968.0000\n",
      "Epoch 145/200\n",
      "24/24 [==============================] - 0s 3ms/step - loss: 8704574389.7600 - val_loss: 9543883776.0000\n",
      "Epoch 146/200\n",
      "24/24 [==============================] - 0s 3ms/step - loss: 6836494182.4000 - val_loss: 9542804480.0000\n",
      "Epoch 147/200\n",
      "24/24 [==============================] - 0s 3ms/step - loss: 10036813987.8400 - val_loss: 9530820608.0000\n",
      "Epoch 148/200\n",
      "24/24 [==============================] - 0s 4ms/step - loss: 5680875345.9200 - val_loss: 9496425472.0000\n",
      "Epoch 149/200\n",
      "24/24 [==============================] - 0s 4ms/step - loss: 6513389726.7200 - val_loss: 9503348736.0000\n",
      "Epoch 150/200\n",
      "24/24 [==============================] - 0s 3ms/step - loss: 6700054425.6000 - val_loss: 9502717952.0000\n",
      "Epoch 151/200\n",
      "24/24 [==============================] - 0s 3ms/step - loss: 5418147189.7600 - val_loss: 9444143104.0000\n",
      "Epoch 152/200\n",
      "24/24 [==============================] - 0s 3ms/step - loss: 11920995205.1200 - val_loss: 9448597504.0000\n",
      "Epoch 153/200\n",
      "24/24 [==============================] - 0s 3ms/step - loss: 6216952084.4800 - val_loss: 9470330880.0000\n",
      "Epoch 154/200\n",
      "24/24 [==============================] - 0s 3ms/step - loss: 14402959482.8800 - val_loss: 9457570816.0000\n",
      "Epoch 155/200\n",
      "24/24 [==============================] - 0s 3ms/step - loss: 6051227207.6800 - val_loss: 9453190144.0000\n",
      "Epoch 156/200\n",
      "24/24 [==============================] - 0s 3ms/step - loss: 7086337282.0800 - val_loss: 9440733184.0000\n",
      "Epoch 157/200\n",
      "24/24 [==============================] - 0s 3ms/step - loss: 7734230732.8000 - val_loss: 9442550784.0000\n",
      "Epoch 158/200\n",
      "24/24 [==============================] - 0s 3ms/step - loss: 7241873879.0400 - val_loss: 9436233728.0000\n",
      "Epoch 159/200\n",
      "24/24 [==============================] - 0s 3ms/step - loss: 5416798982.2400 - val_loss: 9410207744.0000\n",
      "Epoch 160/200\n",
      "24/24 [==============================] - 0s 3ms/step - loss: 11484254750.7200 - val_loss: 9421918208.0000\n",
      "Epoch 161/200\n",
      "24/24 [==============================] - 0s 3ms/step - loss: 4395825605.1200 - val_loss: 9421893632.0000\n",
      "Epoch 162/200\n",
      "24/24 [==============================] - 0s 3ms/step - loss: 5769208832.0000 - val_loss: 9425753088.0000\n",
      "Epoch 163/200\n",
      "24/24 [==============================] - 0s 3ms/step - loss: 6793030270.7200 - val_loss: 9399890944.0000\n",
      "Epoch 164/200\n",
      "24/24 [==============================] - 0s 3ms/step - loss: 9224031539.2000 - val_loss: 9386148864.0000\n",
      "Epoch 165/200\n",
      "24/24 [==============================] - 0s 3ms/step - loss: 10029017006.0800 - val_loss: 9391347712.0000\n",
      "Epoch 166/200\n",
      "24/24 [==============================] - 0s 3ms/step - loss: 6044591667.8400 - val_loss: 9360927744.0000\n",
      "Epoch 167/200\n",
      "24/24 [==============================] - 0s 3ms/step - loss: 7592142730.2400 - val_loss: 9380303872.0000\n",
      "Epoch 168/200\n",
      "24/24 [==============================] - 0s 3ms/step - loss: 5136032256.0000 - val_loss: 9349773312.0000\n",
      "Epoch 169/200\n",
      "24/24 [==============================] - 0s 3ms/step - loss: 8010442336.3200 - val_loss: 9362140160.0000\n",
      "Epoch 170/200\n",
      "24/24 [==============================] - 0s 3ms/step - loss: 3766000450.5600 - val_loss: 9334294528.0000\n",
      "Epoch 171/200\n",
      "24/24 [==============================] - 0s 3ms/step - loss: 8866603048.9600 - val_loss: 9349735424.0000\n",
      "Epoch 172/200\n",
      "24/24 [==============================] - 0s 3ms/step - loss: 11033070837.7600 - val_loss: 9356549120.0000\n",
      "Epoch 173/200\n",
      "24/24 [==============================] - 0s 3ms/step - loss: 7790633006.0800 - val_loss: 9330210816.0000\n",
      "Epoch 174/200\n",
      "24/24 [==============================] - 0s 3ms/step - loss: 5248496834.5600 - val_loss: 9317670912.0000\n",
      "Epoch 175/200\n",
      "24/24 [==============================] - 0s 3ms/step - loss: 5430644418.5600 - val_loss: 9320572928.0000\n",
      "Epoch 176/200\n",
      "24/24 [==============================] - 0s 7ms/step - loss: 11041705615.3600 - val_loss: 9317271552.0000\n",
      "Epoch 177/200\n",
      "24/24 [==============================] - 0s 3ms/step - loss: 6116402539.5200 - val_loss: 9301858304.0000\n",
      "Epoch 178/200\n",
      "24/24 [==============================] - 0s 3ms/step - loss: 5541197550.0800 - val_loss: 9280202752.0000\n",
      "Epoch 179/200\n",
      "24/24 [==============================] - 0s 3ms/step - loss: 6026544440.3200 - val_loss: 9314134016.0000\n",
      "Epoch 180/200\n",
      "24/24 [==============================] - 0s 3ms/step - loss: 6043063724.3200 - val_loss: 9292961792.0000\n",
      "Epoch 181/200\n",
      "24/24 [==============================] - 0s 3ms/step - loss: 6893009428.4800 - val_loss: 9286081536.0000\n",
      "Epoch 182/200\n",
      "24/24 [==============================] - 0s 3ms/step - loss: 5356380631.0400 - val_loss: 9236330496.0000\n",
      "Epoch 183/200\n",
      "24/24 [==============================] - 0s 3ms/step - loss: 5386488883.2800 - val_loss: 9255096320.0000\n",
      "Epoch 184/200\n",
      "24/24 [==============================] - 0s 3ms/step - loss: 7170263080.9600 - val_loss: 9238002688.0000\n",
      "Epoch 185/200\n",
      "24/24 [==============================] - 0s 3ms/step - loss: 3680187489.2800 - val_loss: 9243714560.0000\n",
      "Epoch 186/200\n",
      "24/24 [==============================] - 0s 3ms/step - loss: 7361194565.1200 - val_loss: 9238347776.0000\n",
      "Epoch 187/200\n",
      "24/24 [==============================] - 0s 3ms/step - loss: 9344021565.4400 - val_loss: 9219388416.0000\n",
      "Epoch 188/200\n",
      "24/24 [==============================] - 0s 3ms/step - loss: 7266509445.1200 - val_loss: 9209275392.0000\n",
      "Epoch 189/200\n",
      "24/24 [==============================] - 0s 3ms/step - loss: 7367740545.7600 - val_loss: 9208265728.0000\n",
      "Epoch 190/200\n",
      "24/24 [==============================] - 0s 3ms/step - loss: 8911115601.9200 - val_loss: 9225560064.0000\n",
      "Epoch 191/200\n",
      "24/24 [==============================] - 0s 3ms/step - loss: 9308099133.4400 - val_loss: 9226186752.0000\n",
      "Epoch 192/200\n",
      "24/24 [==============================] - 0s 3ms/step - loss: 8759306478.0800 - val_loss: 9186183168.0000\n",
      "Epoch 193/200\n",
      "24/24 [==============================] - 0s 3ms/step - loss: 5969623234.5600 - val_loss: 9187451904.0000\n",
      "Epoch 194/200\n",
      "24/24 [==============================] - 0s 3ms/step - loss: 7994451947.5200 - val_loss: 9194141696.0000\n",
      "Epoch 195/200\n",
      "24/24 [==============================] - 0s 3ms/step - loss: 6414587985.9200 - val_loss: 9181086720.0000\n",
      "Epoch 196/200\n",
      "24/24 [==============================] - 0s 3ms/step - loss: 5866258600.9600 - val_loss: 9165047808.0000\n",
      "Epoch 197/200\n",
      "24/24 [==============================] - 0s 3ms/step - loss: 7321156889.6000 - val_loss: 9176653824.0000\n",
      "Epoch 198/200\n",
      "24/24 [==============================] - 0s 3ms/step - loss: 7809790282.2400 - val_loss: 9163703296.0000\n",
      "Epoch 199/200\n",
      "24/24 [==============================] - 0s 3ms/step - loss: 7637276631.0400 - val_loss: 9154820096.0000\n",
      "Epoch 200/200\n",
      "24/24 [==============================] - 0s 3ms/step - loss: 5024134819.8400 - val_loss: 9128012800.0000\n",
      "dict_keys(['loss', 'val_loss'])\n"
     ]
    },
    {
     "data": {
      "image/png": "[encoded data removed]",
      "text/plain": [
       "<Figure size 432x288 with 1 Axes>"
      ]
     },
     "metadata": {
      "needs_background": "light"
     },
     "output_type": "display_data"
    }
   ],
   "source": [
    "from keras.models import Sequential\n",
    "from keras.layers import Dense\n",
    "# define the keras model\n",
    "model = Sequential()\n",
    "model.add(Dense(32, input_dim=3, activation='relu'))\n",
    "model.add(Dense(16, activation='relu'))\n",
    "model.add(Dense(8, activation='relu'))\n",
    "model.add(Dense(1))  #activation='linear'\n",
    "\n",
    "# compile the keras model\n",
    "model.compile(loss='mse', optimizer='adam')\n",
    "\n",
    "#3. with validation loss --> history graph  (Learning Curves to Diagnose Machine Learning Model Performance slide)\n",
    "history = model.fit(X_train, Y_train, epochs=200, batch_size=1, validation_split=0.33)\n",
    "# list all data in history\n",
    "print(history.history.keys())\n",
    "# summarize history for loss\n",
    "plt.plot(history.history['loss'])\n",
    "plt.plot(history.history['val_loss'])\n",
    "plt.title('model loss')\n",
    "plt.ylabel('loss')\n",
    "plt.xlabel('epoch')\n",
    "plt.legend(['train', 'test'], loc='upper left')\n",
    "plt.show()"
   ]
  },
  {
   "cell_type": "code",
   "execution_count": 12,
   "metadata": {},
   "outputs": [
    {
     "name": "stdout",
     "output_type": "stream",
     "text": [
      "The model performance for testing set\n",
      "--------------------------------------\n",
      "MAE is 110526.7625\n",
      "RMSE is 132721.95379582187\n"
     ]
    }
   ],
   "source": [
    "# model evaluation for testing set\n",
    "y_test_predict = model.predict(X_test)\n",
    "mae = mean_absolute_error(Y_test, y_test_predict)\n",
    "rmse = (np.sqrt(mean_squared_error(Y_test, y_test_predict)))\n",
    "r2 = r2_score(Y_test, y_test_predict)\n",
    "\n",
    "print(\"The model performance for testing set\")\n",
    "print(\"--------------------------------------\")\n",
    "print('MAE is {}'.format(mae))\n",
    "print('RMSE is {}'.format(rmse))"
   ]
  },
  {
   "cell_type": "code",
   "execution_count": 13,
   "metadata": {},
   "outputs": [
    {
     "data": {
      "text/plain": [
       "array([[297940.75],\n",
       "       [365746.3 ],\n",
       "       [283702.56],\n",
       "       [349972.5 ],\n",
       "       [386318.8 ],\n",
       "       [264168.12],\n",
       "       [325778.34],\n",
       "       [362817.  ],\n",
       "       [448921.72],\n",
       "       [320360.88]], dtype=float32)"
      ]
     },
     "execution_count": 13,
     "metadata": {},
     "output_type": "execute_result"
    }
   ],
   "source": [
    "y_test_predict"
   ]
  },
  {
   "cell_type": "code",
   "execution_count": 14,
   "metadata": {},
   "outputs": [
    {
     "data": {
      "text/plain": [
       "array([469000, 287000, 464500, 299000, 573900, 229900, 329999, 599000,\n",
       "       539900, 249900])"
      ]
     },
     "execution_count": 14,
     "metadata": {},
     "output_type": "execute_result"
    }
   ],
   "source": [
    "Y_test"
   ]
  },
  {
   "cell_type": "code",
   "execution_count": 15,
   "metadata": {},
   "outputs": [
    {
     "name": "stdout",
     "output_type": "stream",
     "text": [
      "10\n",
      "10\n"
     ]
    },
    {
     "data": {
      "image/png": "[encoded data removed]",
      "text/plain": [
       "<Figure size 432x288 with 1 Axes>"
      ]
     },
     "metadata": {
      "needs_background": "light"
     },
     "output_type": "display_data"
    }
   ],
   "source": [
    "# Our predictions\n",
    "plt.scatter(Y_test,y_test_predict)\n",
    "\n",
    "# Perfect predictions\n",
    "plt.plot(Y_test,Y_test,'r')\n",
    "plt.xlabel('True Values', fontsize=15)\n",
    "plt.ylabel('Predictions', fontsize=15)\n",
    "print(len(Y_test))\n",
    "print(len(y_test_predict))"
   ]
  },
  {
   "cell_type": "code",
   "execution_count": null,
   "metadata": {},
   "outputs": [],
   "source": []
  }
 ],
 "metadata": {
  "kernelspec": {
   "display_name": "Python 3",
   "language": "python",
   "name": "python3"
  },
  "language_info": {
   "codemirror_mode": {
    "name": "ipython",
    "version": 3
   },
   "file_extension": ".py",
   "mimetype": "text/x-python",
   "name": "python",
   "nbconvert_exporter": "python",
   "pygments_lexer": "ipython3",
   "version": "3.6.13"
  }
 },
 "nbformat": 4,
 "nbformat_minor": 2
}
