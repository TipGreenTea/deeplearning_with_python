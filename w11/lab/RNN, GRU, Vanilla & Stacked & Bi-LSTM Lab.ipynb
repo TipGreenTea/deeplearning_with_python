{
 "cells": [
  {
   "cell_type": "code",
   "execution_count": 42,
   "metadata": {},
   "outputs": [],
   "source": [
    "import pandas as pd\n",
    "import numpy as np\n",
    "%matplotlib inline\n",
    "import matplotlib.pyplot as plt\n",
    "from pandas.tseries.offsets import MonthEnd\n",
    "from sklearn.preprocessing import MinMaxScaler\n",
    "from keras.layers import LSTM, SimpleRNN, GRU, Bidirectional\n",
    "from keras import backend as K\n",
    "from keras.models import Sequential\n",
    "from keras.layers import Dense\n",
    "from keras.layers import LSTM"
   ]
  },
  {
   "cell_type": "markdown",
   "metadata": {},
   "source": [
    "## Time series forecasting"
   ]
  },
  {
   "cell_type": "code",
   "execution_count": 43,
   "metadata": {},
   "outputs": [
    {
     "data": {
      "text/html": [
       "<div>\n",
       "<style scoped>\n",
       "    .dataframe tbody tr th:only-of-type {\n",
       "        vertical-align: middle;\n",
       "    }\n",
       "\n",
       "    .dataframe tbody tr th {\n",
       "        vertical-align: top;\n",
       "    }\n",
       "\n",
       "    .dataframe thead th {\n",
       "        text-align: right;\n",
       "    }\n",
       "</style>\n",
       "<table border=\"1\" class=\"dataframe\">\n",
       "  <thead>\n",
       "    <tr style=\"text-align: right;\">\n",
       "      <th></th>\n",
       "      <th>Adjustments</th>\n",
       "      <th>Unadjusted</th>\n",
       "      <th>Seasonally adjusted</th>\n",
       "    </tr>\n",
       "  </thead>\n",
       "  <tbody>\n",
       "    <tr>\n",
       "      <th>0</th>\n",
       "      <td>Jan-1991</td>\n",
       "      <td>12588862</td>\n",
       "      <td>15026890</td>\n",
       "    </tr>\n",
       "    <tr>\n",
       "      <th>1</th>\n",
       "      <td>Feb-1991</td>\n",
       "      <td>12154321</td>\n",
       "      <td>15304585</td>\n",
       "    </tr>\n",
       "    <tr>\n",
       "      <th>2</th>\n",
       "      <td>Mar-1991</td>\n",
       "      <td>14337072</td>\n",
       "      <td>15413591</td>\n",
       "    </tr>\n",
       "    <tr>\n",
       "      <th>3</th>\n",
       "      <td>Apr-1991</td>\n",
       "      <td>15108570</td>\n",
       "      <td>15293409</td>\n",
       "    </tr>\n",
       "    <tr>\n",
       "      <th>4</th>\n",
       "      <td>May-1991</td>\n",
       "      <td>17225734</td>\n",
       "      <td>15676083</td>\n",
       "    </tr>\n",
       "  </tbody>\n",
       "</table>\n",
       "</div>"
      ],
      "text/plain": [
       "  Adjustments  Unadjusted  Seasonally adjusted\n",
       "0    Jan-1991    12588862             15026890\n",
       "1    Feb-1991    12154321             15304585\n",
       "2    Mar-1991    14337072             15413591\n",
       "3    Apr-1991    15108570             15293409\n",
       "4    May-1991    17225734             15676083"
      ]
     },
     "execution_count": 43,
     "metadata": {},
     "output_type": "execute_result"
    }
   ],
   "source": [
    "df = pd.read_csv('monthysales.csv',\n",
    "                 skiprows=6, skipfooter=9,\n",
    "                 engine='python')\n",
    "df.head()"
   ]
  },
  {
   "cell_type": "code",
   "execution_count": 44,
   "metadata": {},
   "outputs": [
    {
     "data": {
      "text/html": [
       "<div>\n",
       "<style scoped>\n",
       "    .dataframe tbody tr th:only-of-type {\n",
       "        vertical-align: middle;\n",
       "    }\n",
       "\n",
       "    .dataframe tbody tr th {\n",
       "        vertical-align: top;\n",
       "    }\n",
       "\n",
       "    .dataframe thead th {\n",
       "        text-align: right;\n",
       "    }\n",
       "</style>\n",
       "<table border=\"1\" class=\"dataframe\">\n",
       "  <thead>\n",
       "    <tr style=\"text-align: right;\">\n",
       "      <th></th>\n",
       "      <th>Unadjusted</th>\n",
       "      <th>Seasonally adjusted</th>\n",
       "    </tr>\n",
       "    <tr>\n",
       "      <th>Adjustments</th>\n",
       "      <th></th>\n",
       "      <th></th>\n",
       "    </tr>\n",
       "  </thead>\n",
       "  <tbody>\n",
       "    <tr>\n",
       "      <th>1991-01-31</th>\n",
       "      <td>12588862</td>\n",
       "      <td>15026890</td>\n",
       "    </tr>\n",
       "    <tr>\n",
       "      <th>1991-02-28</th>\n",
       "      <td>12154321</td>\n",
       "      <td>15304585</td>\n",
       "    </tr>\n",
       "    <tr>\n",
       "      <th>1991-03-31</th>\n",
       "      <td>14337072</td>\n",
       "      <td>15413591</td>\n",
       "    </tr>\n",
       "    <tr>\n",
       "      <th>1991-04-30</th>\n",
       "      <td>15108570</td>\n",
       "      <td>15293409</td>\n",
       "    </tr>\n",
       "    <tr>\n",
       "      <th>1991-05-31</th>\n",
       "      <td>17225734</td>\n",
       "      <td>15676083</td>\n",
       "    </tr>\n",
       "  </tbody>\n",
       "</table>\n",
       "</div>"
      ],
      "text/plain": [
       "             Unadjusted  Seasonally adjusted\n",
       "Adjustments                                 \n",
       "1991-01-31     12588862             15026890\n",
       "1991-02-28     12154321             15304585\n",
       "1991-03-31     14337072             15413591\n",
       "1991-04-30     15108570             15293409\n",
       "1991-05-31     17225734             15676083"
      ]
     },
     "execution_count": 44,
     "metadata": {},
     "output_type": "execute_result"
    }
   ],
   "source": [
    "df['Adjustments'] = pd.to_datetime(df['Adjustments']) + MonthEnd(1)  #the last date of each month\n",
    "df = df.set_index('Adjustments')\n",
    "df.head()"
   ]
  },
  {
   "cell_type": "code",
   "execution_count": 45,
   "metadata": {},
   "outputs": [
    {
     "data": {
      "text/plain": [
       "<AxesSubplot:xlabel='Adjustments'>"
      ]
     },
     "execution_count": 45,
     "metadata": {},
     "output_type": "execute_result"
    },
    {
     "data": {
      "image/png": "[encoded data removed]",
      "text/plain": [
       "<Figure size 432x288 with 1 Axes>"
      ]
     },
     "metadata": {
      "needs_background": "light"
     },
     "output_type": "display_data"
    }
   ],
   "source": [
    "df.plot()"
   ]
  },
  {
   "cell_type": "code",
   "execution_count": 46,
   "metadata": {},
   "outputs": [],
   "source": [
    "split_date = pd.Timestamp('01-01-2011')"
   ]
  },
  {
   "cell_type": "code",
   "execution_count": 47,
   "metadata": {},
   "outputs": [],
   "source": [
    "#Split train and test set ordered by time\n",
    "train = df.loc[:split_date, ['Unadjusted']]\n",
    "test = df.loc[split_date:, ['Unadjusted']]"
   ]
  },
  {
   "cell_type": "code",
   "execution_count": 48,
   "metadata": {},
   "outputs": [
    {
     "data": {
      "text/plain": [
       "<matplotlib.legend.Legend at 0x1519d11d0>"
      ]
     },
     "execution_count": 48,
     "metadata": {},
     "output_type": "execute_result"
    },
    {
     "data": {
      "image/png": "[encoded data removed]",
      "text/plain": [
       "<Figure size 432x288 with 1 Axes>"
      ]
     },
     "metadata": {
      "needs_background": "light"
     },
     "output_type": "display_data"
    }
   ],
   "source": [
    "ax = train.plot()\n",
    "test.plot(ax=ax)\n",
    "plt.legend(['train', 'test'])"
   ]
  },
  {
   "cell_type": "code",
   "execution_count": 49,
   "metadata": {},
   "outputs": [],
   "source": [
    "sc = MinMaxScaler()\n",
    "train_sc = sc.fit_transform(train)\n",
    "test_sc = sc.transform(test)"
   ]
  },
  {
   "cell_type": "code",
   "execution_count": 50,
   "metadata": {},
   "outputs": [
    {
     "data": {
      "text/plain": [
       "array([[0.01402033],\n",
       "       [0.        ],\n",
       "       [0.0704258 ],\n",
       "       [0.09531795]])"
      ]
     },
     "execution_count": 50,
     "metadata": {},
     "output_type": "execute_result"
    }
   ],
   "source": [
    "train_sc[:4]"
   ]
  },
  {
   "cell_type": "markdown",
   "metadata": {},
   "source": [
    "# Windows"
   ]
  },
  {
   "cell_type": "code",
   "execution_count": 51,
   "metadata": {},
   "outputs": [
    {
     "data": {
      "text/plain": [
       "(240, 1)"
      ]
     },
     "execution_count": 51,
     "metadata": {},
     "output_type": "execute_result"
    }
   ],
   "source": [
    "train_sc.shape"
   ]
  },
  {
   "cell_type": "code",
   "execution_count": 52,
   "metadata": {},
   "outputs": [
    {
     "data": {
      "text/html": [
       "<div>\n",
       "<style scoped>\n",
       "    .dataframe tbody tr th:only-of-type {\n",
       "        vertical-align: middle;\n",
       "    }\n",
       "\n",
       "    .dataframe tbody tr th {\n",
       "        vertical-align: top;\n",
       "    }\n",
       "\n",
       "    .dataframe thead th {\n",
       "        text-align: right;\n",
       "    }\n",
       "</style>\n",
       "<table border=\"1\" class=\"dataframe\">\n",
       "  <thead>\n",
       "    <tr style=\"text-align: right;\">\n",
       "      <th></th>\n",
       "      <th>Scaled</th>\n",
       "    </tr>\n",
       "    <tr>\n",
       "      <th>Adjustments</th>\n",
       "      <th></th>\n",
       "    </tr>\n",
       "  </thead>\n",
       "  <tbody>\n",
       "    <tr>\n",
       "      <th>1991-01-31</th>\n",
       "      <td>0.014020</td>\n",
       "    </tr>\n",
       "    <tr>\n",
       "      <th>1991-02-28</th>\n",
       "      <td>0.000000</td>\n",
       "    </tr>\n",
       "    <tr>\n",
       "      <th>1991-03-31</th>\n",
       "      <td>0.070426</td>\n",
       "    </tr>\n",
       "    <tr>\n",
       "      <th>1991-04-30</th>\n",
       "      <td>0.095318</td>\n",
       "    </tr>\n",
       "    <tr>\n",
       "      <th>1991-05-31</th>\n",
       "      <td>0.163628</td>\n",
       "    </tr>\n",
       "  </tbody>\n",
       "</table>\n",
       "</div>"
      ],
      "text/plain": [
       "               Scaled\n",
       "Adjustments          \n",
       "1991-01-31   0.014020\n",
       "1991-02-28   0.000000\n",
       "1991-03-31   0.070426\n",
       "1991-04-30   0.095318\n",
       "1991-05-31   0.163628"
      ]
     },
     "execution_count": 52,
     "metadata": {},
     "output_type": "execute_result"
    }
   ],
   "source": [
    "train_sc_df = pd.DataFrame(train_sc, columns=['Scaled'], index=train.index)\n",
    "test_sc_df = pd.DataFrame(test_sc, columns=['Scaled'], index=test.index)\n",
    "train_sc_df.head()"
   ]
  },
  {
   "cell_type": "code",
   "execution_count": 53,
   "metadata": {},
   "outputs": [],
   "source": [
    "for s in range(1, 13):\n",
    "    train_sc_df['shift_{}'.format(s)] = train_sc_df['Scaled'].shift(s) #shift fn from pandas to get features from the past to predict the future\n",
    "    test_sc_df['shift_{}'.format(s)] = test_sc_df['Scaled'].shift(s)"
   ]
  },
  {
   "cell_type": "code",
   "execution_count": 54,
   "metadata": {},
   "outputs": [
    {
     "data": {
      "text/html": [
       "<div>\n",
       "<style scoped>\n",
       "    .dataframe tbody tr th:only-of-type {\n",
       "        vertical-align: middle;\n",
       "    }\n",
       "\n",
       "    .dataframe tbody tr th {\n",
       "        vertical-align: top;\n",
       "    }\n",
       "\n",
       "    .dataframe thead th {\n",
       "        text-align: right;\n",
       "    }\n",
       "</style>\n",
       "<table border=\"1\" class=\"dataframe\">\n",
       "  <thead>\n",
       "    <tr style=\"text-align: right;\">\n",
       "      <th></th>\n",
       "      <th>Scaled</th>\n",
       "      <th>shift_1</th>\n",
       "      <th>shift_2</th>\n",
       "      <th>shift_3</th>\n",
       "      <th>shift_4</th>\n",
       "      <th>shift_5</th>\n",
       "      <th>shift_6</th>\n",
       "      <th>shift_7</th>\n",
       "      <th>shift_8</th>\n",
       "      <th>shift_9</th>\n",
       "      <th>shift_10</th>\n",
       "      <th>shift_11</th>\n",
       "      <th>shift_12</th>\n",
       "    </tr>\n",
       "    <tr>\n",
       "      <th>Adjustments</th>\n",
       "      <th></th>\n",
       "      <th></th>\n",
       "      <th></th>\n",
       "      <th></th>\n",
       "      <th></th>\n",
       "      <th></th>\n",
       "      <th></th>\n",
       "      <th></th>\n",
       "      <th></th>\n",
       "      <th></th>\n",
       "      <th></th>\n",
       "      <th></th>\n",
       "      <th></th>\n",
       "    </tr>\n",
       "  </thead>\n",
       "  <tbody>\n",
       "    <tr>\n",
       "      <th>1991-01-31</th>\n",
       "      <td>0.014020</td>\n",
       "      <td>NaN</td>\n",
       "      <td>NaN</td>\n",
       "      <td>NaN</td>\n",
       "      <td>NaN</td>\n",
       "      <td>NaN</td>\n",
       "      <td>NaN</td>\n",
       "      <td>NaN</td>\n",
       "      <td>NaN</td>\n",
       "      <td>NaN</td>\n",
       "      <td>NaN</td>\n",
       "      <td>NaN</td>\n",
       "      <td>NaN</td>\n",
       "    </tr>\n",
       "    <tr>\n",
       "      <th>1991-02-28</th>\n",
       "      <td>0.000000</td>\n",
       "      <td>0.014020</td>\n",
       "      <td>NaN</td>\n",
       "      <td>NaN</td>\n",
       "      <td>NaN</td>\n",
       "      <td>NaN</td>\n",
       "      <td>NaN</td>\n",
       "      <td>NaN</td>\n",
       "      <td>NaN</td>\n",
       "      <td>NaN</td>\n",
       "      <td>NaN</td>\n",
       "      <td>NaN</td>\n",
       "      <td>NaN</td>\n",
       "    </tr>\n",
       "    <tr>\n",
       "      <th>1991-03-31</th>\n",
       "      <td>0.070426</td>\n",
       "      <td>0.000000</td>\n",
       "      <td>0.014020</td>\n",
       "      <td>NaN</td>\n",
       "      <td>NaN</td>\n",
       "      <td>NaN</td>\n",
       "      <td>NaN</td>\n",
       "      <td>NaN</td>\n",
       "      <td>NaN</td>\n",
       "      <td>NaN</td>\n",
       "      <td>NaN</td>\n",
       "      <td>NaN</td>\n",
       "      <td>NaN</td>\n",
       "    </tr>\n",
       "    <tr>\n",
       "      <th>1991-04-30</th>\n",
       "      <td>0.095318</td>\n",
       "      <td>0.070426</td>\n",
       "      <td>0.000000</td>\n",
       "      <td>0.014020</td>\n",
       "      <td>NaN</td>\n",
       "      <td>NaN</td>\n",
       "      <td>NaN</td>\n",
       "      <td>NaN</td>\n",
       "      <td>NaN</td>\n",
       "      <td>NaN</td>\n",
       "      <td>NaN</td>\n",
       "      <td>NaN</td>\n",
       "      <td>NaN</td>\n",
       "    </tr>\n",
       "    <tr>\n",
       "      <th>1991-05-31</th>\n",
       "      <td>0.163628</td>\n",
       "      <td>0.095318</td>\n",
       "      <td>0.070426</td>\n",
       "      <td>0.000000</td>\n",
       "      <td>0.014020</td>\n",
       "      <td>NaN</td>\n",
       "      <td>NaN</td>\n",
       "      <td>NaN</td>\n",
       "      <td>NaN</td>\n",
       "      <td>NaN</td>\n",
       "      <td>NaN</td>\n",
       "      <td>NaN</td>\n",
       "      <td>NaN</td>\n",
       "    </tr>\n",
       "    <tr>\n",
       "      <th>1991-06-30</th>\n",
       "      <td>0.135141</td>\n",
       "      <td>0.163628</td>\n",
       "      <td>0.095318</td>\n",
       "      <td>0.070426</td>\n",
       "      <td>0.000000</td>\n",
       "      <td>0.014020</td>\n",
       "      <td>NaN</td>\n",
       "      <td>NaN</td>\n",
       "      <td>NaN</td>\n",
       "      <td>NaN</td>\n",
       "      <td>NaN</td>\n",
       "      <td>NaN</td>\n",
       "      <td>NaN</td>\n",
       "    </tr>\n",
       "    <tr>\n",
       "      <th>1991-07-31</th>\n",
       "      <td>0.123958</td>\n",
       "      <td>0.135141</td>\n",
       "      <td>0.163628</td>\n",
       "      <td>0.095318</td>\n",
       "      <td>0.070426</td>\n",
       "      <td>0.000000</td>\n",
       "      <td>0.014020</td>\n",
       "      <td>NaN</td>\n",
       "      <td>NaN</td>\n",
       "      <td>NaN</td>\n",
       "      <td>NaN</td>\n",
       "      <td>NaN</td>\n",
       "      <td>NaN</td>\n",
       "    </tr>\n",
       "    <tr>\n",
       "      <th>1991-08-31</th>\n",
       "      <td>0.126174</td>\n",
       "      <td>0.123958</td>\n",
       "      <td>0.135141</td>\n",
       "      <td>0.163628</td>\n",
       "      <td>0.095318</td>\n",
       "      <td>0.070426</td>\n",
       "      <td>0.000000</td>\n",
       "      <td>0.014020</td>\n",
       "      <td>NaN</td>\n",
       "      <td>NaN</td>\n",
       "      <td>NaN</td>\n",
       "      <td>NaN</td>\n",
       "      <td>NaN</td>\n",
       "    </tr>\n",
       "    <tr>\n",
       "      <th>1991-09-30</th>\n",
       "      <td>0.092309</td>\n",
       "      <td>0.126174</td>\n",
       "      <td>0.123958</td>\n",
       "      <td>0.135141</td>\n",
       "      <td>0.163628</td>\n",
       "      <td>0.095318</td>\n",
       "      <td>0.070426</td>\n",
       "      <td>0.000000</td>\n",
       "      <td>0.014020</td>\n",
       "      <td>NaN</td>\n",
       "      <td>NaN</td>\n",
       "      <td>NaN</td>\n",
       "      <td>NaN</td>\n",
       "    </tr>\n",
       "    <tr>\n",
       "      <th>1991-10-31</th>\n",
       "      <td>0.111395</td>\n",
       "      <td>0.092309</td>\n",
       "      <td>0.126174</td>\n",
       "      <td>0.123958</td>\n",
       "      <td>0.135141</td>\n",
       "      <td>0.163628</td>\n",
       "      <td>0.095318</td>\n",
       "      <td>0.070426</td>\n",
       "      <td>0.000000</td>\n",
       "      <td>0.014020</td>\n",
       "      <td>NaN</td>\n",
       "      <td>NaN</td>\n",
       "      <td>NaN</td>\n",
       "    </tr>\n",
       "    <tr>\n",
       "      <th>1991-11-30</th>\n",
       "      <td>0.131738</td>\n",
       "      <td>0.111395</td>\n",
       "      <td>0.092309</td>\n",
       "      <td>0.126174</td>\n",
       "      <td>0.123958</td>\n",
       "      <td>0.135141</td>\n",
       "      <td>0.163628</td>\n",
       "      <td>0.095318</td>\n",
       "      <td>0.070426</td>\n",
       "      <td>0.000000</td>\n",
       "      <td>0.014020</td>\n",
       "      <td>NaN</td>\n",
       "      <td>NaN</td>\n",
       "    </tr>\n",
       "    <tr>\n",
       "      <th>1991-12-31</th>\n",
       "      <td>0.200913</td>\n",
       "      <td>0.131738</td>\n",
       "      <td>0.111395</td>\n",
       "      <td>0.092309</td>\n",
       "      <td>0.126174</td>\n",
       "      <td>0.123958</td>\n",
       "      <td>0.135141</td>\n",
       "      <td>0.163628</td>\n",
       "      <td>0.095318</td>\n",
       "      <td>0.070426</td>\n",
       "      <td>0.000000</td>\n",
       "      <td>0.01402</td>\n",
       "      <td>NaN</td>\n",
       "    </tr>\n",
       "    <tr>\n",
       "      <th>1992-01-31</th>\n",
       "      <td>0.030027</td>\n",
       "      <td>0.200913</td>\n",
       "      <td>0.131738</td>\n",
       "      <td>0.111395</td>\n",
       "      <td>0.092309</td>\n",
       "      <td>0.126174</td>\n",
       "      <td>0.123958</td>\n",
       "      <td>0.135141</td>\n",
       "      <td>0.163628</td>\n",
       "      <td>0.095318</td>\n",
       "      <td>0.070426</td>\n",
       "      <td>0.00000</td>\n",
       "      <td>0.01402</td>\n",
       "    </tr>\n",
       "  </tbody>\n",
       "</table>\n",
       "</div>"
      ],
      "text/plain": [
       "               Scaled   shift_1   shift_2   shift_3   shift_4   shift_5  \\\n",
       "Adjustments                                                               \n",
       "1991-01-31   0.014020       NaN       NaN       NaN       NaN       NaN   \n",
       "1991-02-28   0.000000  0.014020       NaN       NaN       NaN       NaN   \n",
       "1991-03-31   0.070426  0.000000  0.014020       NaN       NaN       NaN   \n",
       "1991-04-30   0.095318  0.070426  0.000000  0.014020       NaN       NaN   \n",
       "1991-05-31   0.163628  0.095318  0.070426  0.000000  0.014020       NaN   \n",
       "1991-06-30   0.135141  0.163628  0.095318  0.070426  0.000000  0.014020   \n",
       "1991-07-31   0.123958  0.135141  0.163628  0.095318  0.070426  0.000000   \n",
       "1991-08-31   0.126174  0.123958  0.135141  0.163628  0.095318  0.070426   \n",
       "1991-09-30   0.092309  0.126174  0.123958  0.135141  0.163628  0.095318   \n",
       "1991-10-31   0.111395  0.092309  0.126174  0.123958  0.135141  0.163628   \n",
       "1991-11-30   0.131738  0.111395  0.092309  0.126174  0.123958  0.135141   \n",
       "1991-12-31   0.200913  0.131738  0.111395  0.092309  0.126174  0.123958   \n",
       "1992-01-31   0.030027  0.200913  0.131738  0.111395  0.092309  0.126174   \n",
       "\n",
       "              shift_6   shift_7   shift_8   shift_9  shift_10  shift_11  \\\n",
       "Adjustments                                                               \n",
       "1991-01-31        NaN       NaN       NaN       NaN       NaN       NaN   \n",
       "1991-02-28        NaN       NaN       NaN       NaN       NaN       NaN   \n",
       "1991-03-31        NaN       NaN       NaN       NaN       NaN       NaN   \n",
       "1991-04-30        NaN       NaN       NaN       NaN       NaN       NaN   \n",
       "1991-05-31        NaN       NaN       NaN       NaN       NaN       NaN   \n",
       "1991-06-30        NaN       NaN       NaN       NaN       NaN       NaN   \n",
       "1991-07-31   0.014020       NaN       NaN       NaN       NaN       NaN   \n",
       "1991-08-31   0.000000  0.014020       NaN       NaN       NaN       NaN   \n",
       "1991-09-30   0.070426  0.000000  0.014020       NaN       NaN       NaN   \n",
       "1991-10-31   0.095318  0.070426  0.000000  0.014020       NaN       NaN   \n",
       "1991-11-30   0.163628  0.095318  0.070426  0.000000  0.014020       NaN   \n",
       "1991-12-31   0.135141  0.163628  0.095318  0.070426  0.000000   0.01402   \n",
       "1992-01-31   0.123958  0.135141  0.163628  0.095318  0.070426   0.00000   \n",
       "\n",
       "             shift_12  \n",
       "Adjustments            \n",
       "1991-01-31        NaN  \n",
       "1991-02-28        NaN  \n",
       "1991-03-31        NaN  \n",
       "1991-04-30        NaN  \n",
       "1991-05-31        NaN  \n",
       "1991-06-30        NaN  \n",
       "1991-07-31        NaN  \n",
       "1991-08-31        NaN  \n",
       "1991-09-30        NaN  \n",
       "1991-10-31        NaN  \n",
       "1991-11-30        NaN  \n",
       "1991-12-31        NaN  \n",
       "1992-01-31    0.01402  "
      ]
     },
     "execution_count": 54,
     "metadata": {},
     "output_type": "execute_result"
    }
   ],
   "source": [
    "train_sc_df.head(13)"
   ]
  },
  {
   "cell_type": "code",
   "execution_count": 55,
   "metadata": {},
   "outputs": [],
   "source": [
    "X_train = train_sc_df.dropna().drop('Scaled', axis=1)\n",
    "y_train = train_sc_df.dropna()[['Scaled']]\n",
    "\n",
    "X_test = test_sc_df.dropna().drop('Scaled', axis=1)\n",
    "y_test = test_sc_df.dropna()[['Scaled']]"
   ]
  },
  {
   "cell_type": "code",
   "execution_count": 56,
   "metadata": {
    "scrolled": true
   },
   "outputs": [
    {
     "data": {
      "text/html": [
       "<div>\n",
       "<style scoped>\n",
       "    .dataframe tbody tr th:only-of-type {\n",
       "        vertical-align: middle;\n",
       "    }\n",
       "\n",
       "    .dataframe tbody tr th {\n",
       "        vertical-align: top;\n",
       "    }\n",
       "\n",
       "    .dataframe thead th {\n",
       "        text-align: right;\n",
       "    }\n",
       "</style>\n",
       "<table border=\"1\" class=\"dataframe\">\n",
       "  <thead>\n",
       "    <tr style=\"text-align: right;\">\n",
       "      <th></th>\n",
       "      <th>shift_1</th>\n",
       "      <th>shift_2</th>\n",
       "      <th>shift_3</th>\n",
       "      <th>shift_4</th>\n",
       "      <th>shift_5</th>\n",
       "      <th>shift_6</th>\n",
       "      <th>shift_7</th>\n",
       "      <th>shift_8</th>\n",
       "      <th>shift_9</th>\n",
       "      <th>shift_10</th>\n",
       "      <th>shift_11</th>\n",
       "      <th>shift_12</th>\n",
       "    </tr>\n",
       "    <tr>\n",
       "      <th>Adjustments</th>\n",
       "      <th></th>\n",
       "      <th></th>\n",
       "      <th></th>\n",
       "      <th></th>\n",
       "      <th></th>\n",
       "      <th></th>\n",
       "      <th></th>\n",
       "      <th></th>\n",
       "      <th></th>\n",
       "      <th></th>\n",
       "      <th></th>\n",
       "      <th></th>\n",
       "    </tr>\n",
       "  </thead>\n",
       "  <tbody>\n",
       "    <tr>\n",
       "      <th>1992-01-31</th>\n",
       "      <td>0.200913</td>\n",
       "      <td>0.131738</td>\n",
       "      <td>0.111395</td>\n",
       "      <td>0.092309</td>\n",
       "      <td>0.126174</td>\n",
       "      <td>0.123958</td>\n",
       "      <td>0.135141</td>\n",
       "      <td>0.163628</td>\n",
       "      <td>0.095318</td>\n",
       "      <td>0.070426</td>\n",
       "      <td>0.000000</td>\n",
       "      <td>0.014020</td>\n",
       "    </tr>\n",
       "    <tr>\n",
       "      <th>1992-02-29</th>\n",
       "      <td>0.030027</td>\n",
       "      <td>0.200913</td>\n",
       "      <td>0.131738</td>\n",
       "      <td>0.111395</td>\n",
       "      <td>0.092309</td>\n",
       "      <td>0.126174</td>\n",
       "      <td>0.123958</td>\n",
       "      <td>0.135141</td>\n",
       "      <td>0.163628</td>\n",
       "      <td>0.095318</td>\n",
       "      <td>0.070426</td>\n",
       "      <td>0.000000</td>\n",
       "    </tr>\n",
       "    <tr>\n",
       "      <th>1992-03-31</th>\n",
       "      <td>0.019993</td>\n",
       "      <td>0.030027</td>\n",
       "      <td>0.200913</td>\n",
       "      <td>0.131738</td>\n",
       "      <td>0.111395</td>\n",
       "      <td>0.092309</td>\n",
       "      <td>0.126174</td>\n",
       "      <td>0.123958</td>\n",
       "      <td>0.135141</td>\n",
       "      <td>0.163628</td>\n",
       "      <td>0.095318</td>\n",
       "      <td>0.070426</td>\n",
       "    </tr>\n",
       "    <tr>\n",
       "      <th>1992-04-30</th>\n",
       "      <td>0.065964</td>\n",
       "      <td>0.019993</td>\n",
       "      <td>0.030027</td>\n",
       "      <td>0.200913</td>\n",
       "      <td>0.131738</td>\n",
       "      <td>0.111395</td>\n",
       "      <td>0.092309</td>\n",
       "      <td>0.126174</td>\n",
       "      <td>0.123958</td>\n",
       "      <td>0.135141</td>\n",
       "      <td>0.163628</td>\n",
       "      <td>0.095318</td>\n",
       "    </tr>\n",
       "    <tr>\n",
       "      <th>1992-05-31</th>\n",
       "      <td>0.109831</td>\n",
       "      <td>0.065964</td>\n",
       "      <td>0.019993</td>\n",
       "      <td>0.030027</td>\n",
       "      <td>0.200913</td>\n",
       "      <td>0.131738</td>\n",
       "      <td>0.111395</td>\n",
       "      <td>0.092309</td>\n",
       "      <td>0.126174</td>\n",
       "      <td>0.123958</td>\n",
       "      <td>0.135141</td>\n",
       "      <td>0.163628</td>\n",
       "    </tr>\n",
       "  </tbody>\n",
       "</table>\n",
       "</div>"
      ],
      "text/plain": [
       "              shift_1   shift_2   shift_3   shift_4   shift_5   shift_6  \\\n",
       "Adjustments                                                               \n",
       "1992-01-31   0.200913  0.131738  0.111395  0.092309  0.126174  0.123958   \n",
       "1992-02-29   0.030027  0.200913  0.131738  0.111395  0.092309  0.126174   \n",
       "1992-03-31   0.019993  0.030027  0.200913  0.131738  0.111395  0.092309   \n",
       "1992-04-30   0.065964  0.019993  0.030027  0.200913  0.131738  0.111395   \n",
       "1992-05-31   0.109831  0.065964  0.019993  0.030027  0.200913  0.131738   \n",
       "\n",
       "              shift_7   shift_8   shift_9  shift_10  shift_11  shift_12  \n",
       "Adjustments                                                              \n",
       "1992-01-31   0.135141  0.163628  0.095318  0.070426  0.000000  0.014020  \n",
       "1992-02-29   0.123958  0.135141  0.163628  0.095318  0.070426  0.000000  \n",
       "1992-03-31   0.126174  0.123958  0.135141  0.163628  0.095318  0.070426  \n",
       "1992-04-30   0.092309  0.126174  0.123958  0.135141  0.163628  0.095318  \n",
       "1992-05-31   0.111395  0.092309  0.126174  0.123958  0.135141  0.163628  "
      ]
     },
     "execution_count": 56,
     "metadata": {},
     "output_type": "execute_result"
    }
   ],
   "source": [
    "X_train.head()"
   ]
  },
  {
   "cell_type": "code",
   "execution_count": 57,
   "metadata": {},
   "outputs": [
    {
     "data": {
      "text/plain": [
       "(228, 12)"
      ]
     },
     "execution_count": 57,
     "metadata": {},
     "output_type": "execute_result"
    }
   ],
   "source": [
    "X_train.shape"
   ]
  },
  {
   "cell_type": "code",
   "execution_count": 58,
   "metadata": {},
   "outputs": [],
   "source": [
    "X_train = X_train.values\n",
    "X_test= X_test.values\n",
    "\n",
    "y_train = y_train.values\n",
    "y_test = y_test.values"
   ]
  },
  {
   "cell_type": "markdown",
   "metadata": {},
   "source": [
    "###  1. Create LSTM model on Windows with 12 timesteps 1 feature to predict the next sale"
   ]
  },
  {
   "cell_type": "code",
   "execution_count": 59,
   "metadata": {},
   "outputs": [],
   "source": [
    "X_train_t = X_train.reshape(X_train.shape[0], 12, 1)\n",
    "X_test_t = X_test.reshape(X_test.shape[0], 12, 1)"
   ]
  },
  {
   "cell_type": "code",
   "execution_count": 60,
   "metadata": {},
   "outputs": [
    {
     "data": {
      "text/plain": [
       "(228, 12, 1)"
      ]
     },
     "execution_count": 60,
     "metadata": {},
     "output_type": "execute_result"
    }
   ],
   "source": [
    "X_train_t.shape"
   ]
  },
  {
   "cell_type": "code",
   "execution_count": 61,
   "metadata": {},
   "outputs": [],
   "source": [
    "K.clear_session()\n",
    "model = Sequential()\n",
    "model.add(LSTM(6, input_shape=(12, 1)))\n",
    "model.add(Dense(1))\n",
    "model.compile(loss='mean_squared_error', optimizer='adam')"
   ]
  },
  {
   "cell_type": "code",
   "execution_count": 62,
   "metadata": {},
   "outputs": [
    {
     "name": "stdout",
     "output_type": "stream",
     "text": [
      "Model: \"sequential\"\n",
      "_________________________________________________________________\n",
      "Layer (type)                 Output Shape              Param #   \n",
      "=================================================================\n",
      "lstm (LSTM)                  (None, 6)                 192       \n",
      "_________________________________________________________________\n",
      "dense (Dense)                (None, 1)                 7         \n",
      "=================================================================\n",
      "Total params: 199\n",
      "Trainable params: 199\n",
      "Non-trainable params: 0\n",
      "_________________________________________________________________\n"
     ]
    }
   ],
   "source": [
    "model.summary()"
   ]
  },
  {
   "cell_type": "code",
   "execution_count": 63,
   "metadata": {},
   "outputs": [
    {
     "data": {
      "text/plain": [
       "<tensorflow.python.keras.callbacks.History at 0x151e17b00>"
      ]
     },
     "execution_count": 63,
     "metadata": {},
     "output_type": "execute_result"
    }
   ],
   "source": [
    "model.fit(X_train_t, y_train, epochs=600,\n",
    "          batch_size=32, verbose=0)"
   ]
  },
  {
   "cell_type": "code",
   "execution_count": 64,
   "metadata": {},
   "outputs": [
    {
     "data": {
      "text/plain": [
       "[<matplotlib.lines.Line2D at 0x1517fafd0>]"
      ]
     },
     "execution_count": 64,
     "metadata": {},
     "output_type": "execute_result"
    },
    {
     "data": {
      "image/png": "[encoded data removed]",
      "text/plain": [
       "<Figure size 432x288 with 1 Axes>"
      ]
     },
     "metadata": {
      "needs_background": "light"
     },
     "output_type": "display_data"
    }
   ],
   "source": [
    "y_pred = model.predict(X_test_t)\n",
    "plt.plot(y_test)\n",
    "plt.plot(y_pred)"
   ]
  },
  {
   "cell_type": "markdown",
   "metadata": {},
   "source": [
    "###  2. Create Stacked LSTM with 2 layers on Windows with 12 timesteps 1 feature to predict the next sale "
   ]
  },
  {
   "cell_type": "code",
   "execution_count": null,
   "metadata": {},
   "outputs": [],
   "source": []
  },
  {
   "cell_type": "code",
   "execution_count": null,
   "metadata": {},
   "outputs": [],
   "source": []
  },
  {
   "cell_type": "code",
   "execution_count": null,
   "metadata": {},
   "outputs": [],
   "source": []
  },
  {
   "cell_type": "markdown",
   "metadata": {},
   "source": [
    "###  3. Create Stacked LSTM with 4 layers on Windows with 12 timesteps 1 feature to predict the next sale "
   ]
  },
  {
   "cell_type": "code",
   "execution_count": null,
   "metadata": {},
   "outputs": [],
   "source": []
  },
  {
   "cell_type": "code",
   "execution_count": null,
   "metadata": {},
   "outputs": [],
   "source": []
  },
  {
   "cell_type": "code",
   "execution_count": null,
   "metadata": {},
   "outputs": [],
   "source": []
  },
  {
   "cell_type": "markdown",
   "metadata": {},
   "source": [
    "###  4. Create RNN model on Windows with 12 timesteps 1 feature to predict the next sale "
   ]
  },
  {
   "cell_type": "code",
   "execution_count": null,
   "metadata": {},
   "outputs": [],
   "source": []
  },
  {
   "cell_type": "code",
   "execution_count": null,
   "metadata": {},
   "outputs": [],
   "source": []
  },
  {
   "cell_type": "markdown",
   "metadata": {},
   "source": [
    "###  5. Create GRU model on Windows with 12 timesteps 1 feature to predict the next sale "
   ]
  },
  {
   "cell_type": "code",
   "execution_count": null,
   "metadata": {},
   "outputs": [],
   "source": []
  },
  {
   "cell_type": "code",
   "execution_count": null,
   "metadata": {},
   "outputs": [],
   "source": []
  },
  {
   "cell_type": "markdown",
   "metadata": {},
   "source": [
    "###  6. Create Bidirectional-LSTM model on Windows with 12 timesteps 1 feature to predict the next sale "
   ]
  },
  {
   "cell_type": "code",
   "execution_count": null,
   "metadata": {},
   "outputs": [],
   "source": []
  },
  {
   "cell_type": "code",
   "execution_count": null,
   "metadata": {},
   "outputs": [],
   "source": []
  },
  {
   "cell_type": "markdown",
   "metadata": {},
   "source": [
    "### 7. Create Bidirectional-GRU model on Windows with 12 timesteps 1 feature to predict the next sale "
   ]
  },
  {
   "cell_type": "code",
   "execution_count": null,
   "metadata": {},
   "outputs": [],
   "source": []
  },
  {
   "cell_type": "code",
   "execution_count": null,
   "metadata": {},
   "outputs": [],
   "source": []
  },
  {
   "cell_type": "code",
   "execution_count": null,
   "metadata": {},
   "outputs": [],
   "source": []
  }
 ],
 "metadata": {
  "kernelspec": {
   "display_name": "Python 3",
   "language": "python",
   "name": "python3"
  },
  "language_info": {
   "codemirror_mode": {
    "name": "ipython",
    "version": 3
   },
   "file_extension": ".py",
   "mimetype": "text/x-python",
   "name": "python",
   "nbconvert_exporter": "python",
   "pygments_lexer": "ipython3",
   "version": "3.6.13"
  }
 },
 "nbformat": 4,
 "nbformat_minor": 2
}
