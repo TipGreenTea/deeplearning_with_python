{
 "cells": [
  {
   "cell_type": "markdown",
   "id": "57e81cb7",
   "metadata": {},
   "source": [
    "## MNIST Digit Classification\n",
    "- Images of digits were taken from a variety of scanned documents, normalized in size and centered. This makes it an excellent dataset for evaluating models, allowing the developer to focus on the machine learning with very little data cleaning or preparation required. Each image is a 28 ⇥ 28 pixel square (784 pixels total).\n",
    "- 60,000 images are used to train a model and a separate set of 10,000 images are used to test it.\n",
    "- It is a digit recognition task. As such there are 10 digits (0 to 9) or 10 classes to predict."
   ]
  },
  {
   "cell_type": "code",
   "execution_count": 38,
   "id": "073c1aef",
   "metadata": {},
   "outputs": [],
   "source": [
    "import pandas as pd\n",
    "import numpy as np\n",
    "%matplotlib inline\n",
    "import matplotlib.pyplot as plt"
   ]
  },
  {
   "cell_type": "code",
   "execution_count": 39,
   "id": "3a76d3a3",
   "metadata": {},
   "outputs": [
    {
     "data": {
      "image/png": "[encoded data removed]",
      "text/plain": [
       "<Figure size 432x288 with 4 Axes>"
      ]
     },
     "metadata": {
      "needs_background": "light"
     },
     "output_type": "display_data"
    }
   ],
   "source": [
    "# Plot ad hoc mnist instances\n",
    "from keras.datasets import mnist\n",
    "\n",
    "# load (downloaded if needed) the MNIST dataset\n",
    "(X_train, y_train), (X_test, y_test) = mnist.load_data()\n",
    "# plot 4 images as gray scale\n",
    "plt.subplot(221)\n",
    "plt.imshow(X_train[0], cmap=plt.get_cmap('gray'))\n",
    "plt.subplot(222)\n",
    "plt.imshow(X_train[1], cmap=plt.get_cmap('gray'))\n",
    "plt.subplot(223)\n",
    "plt.imshow(X_train[2], cmap=plt.get_cmap('gray'))\n",
    "plt.subplot(224)\n",
    "plt.imshow(X_train[3], cmap=plt.get_cmap('gray'))\n",
    "# show the plot\n",
    "plt.show()"
   ]
  },
  {
   "cell_type": "code",
   "execution_count": 40,
   "id": "fd8935d2",
   "metadata": {},
   "outputs": [
    {
     "data": {
      "text/plain": [
       "(10000,)"
      ]
     },
     "execution_count": 40,
     "metadata": {},
     "output_type": "execute_result"
    }
   ],
   "source": [
    "y_test.shape"
   ]
  },
  {
   "cell_type": "code",
   "execution_count": 41,
   "id": "e337d32d",
   "metadata": {},
   "outputs": [
    {
     "data": {
      "text/plain": [
       "7"
      ]
     },
     "execution_count": 41,
     "metadata": {},
     "output_type": "execute_result"
    }
   ],
   "source": [
    "y_test[0]"
   ]
  },
  {
   "cell_type": "markdown",
   "id": "5032a990",
   "metadata": {},
   "source": [
    "## 1. Baseline Model with Multilayer Perceptrons or Artificial Neural Network (ANN)\n",
    "- Do we really need a complex model like a convolutional neural network to get the best results with MNIST? \n",
    "- You can get good results using a very simple neural network model with a single hidden layer. \n",
    "- We will use this as a baseline for comparison to more complex convolutional neural network models.\n",
    "- The training dataset is structured as a 3-dimensional array of (instance, image width and image height). \n",
    "- For a Multilayer Perceptron model we must reduce the images down into a vector of pixels. \n",
    "- In this case the 28 x 28 sized images will be 784 pixel input vectors. \n",
    "- We can do this transform easily using the reshape() function on the NumPy array.\n",
    "\n",
    "<img src='ann.png'>"
   ]
  },
  {
   "cell_type": "code",
   "execution_count": 42,
   "id": "261735d7",
   "metadata": {},
   "outputs": [],
   "source": [
    "from keras.datasets import mnist\n",
    "from keras.models import Sequential\n",
    "from keras.layers import Dense\n",
    "from keras.layers import Dropout"
   ]
  },
  {
   "cell_type": "code",
   "execution_count": 43,
   "id": "106d5f7d",
   "metadata": {},
   "outputs": [
    {
     "data": {
      "text/plain": [
       "(60000, 28, 28)"
      ]
     },
     "execution_count": 43,
     "metadata": {},
     "output_type": "execute_result"
    }
   ],
   "source": [
    "X_train.shape"
   ]
  },
  {
   "cell_type": "code",
   "execution_count": 44,
   "id": "653e9546",
   "metadata": {},
   "outputs": [
    {
     "data": {
      "text/plain": [
       "784"
      ]
     },
     "execution_count": 44,
     "metadata": {},
     "output_type": "execute_result"
    }
   ],
   "source": [
    "# flatten 28*28 images to a 784 vector for each image\n",
    "num_pixels = X_train.shape[1] * X_train.shape[2]\n",
    "num_pixels"
   ]
  },
  {
   "cell_type": "code",
   "execution_count": 45,
   "id": "c3babda4",
   "metadata": {},
   "outputs": [],
   "source": [
    "X_train = X_train.reshape((X_train.shape[0], num_pixels)).astype('float32')\n",
    "X_test = X_test.reshape((X_test.shape[0], num_pixels)).astype('float32')"
   ]
  },
  {
   "cell_type": "code",
   "execution_count": 46,
   "id": "f22b80db",
   "metadata": {},
   "outputs": [
    {
     "data": {
      "text/plain": [
       "(60000, 784)"
      ]
     },
     "execution_count": 46,
     "metadata": {},
     "output_type": "execute_result"
    }
   ],
   "source": [
    "X_train.shape"
   ]
  },
  {
   "cell_type": "code",
   "execution_count": 47,
   "id": "e5634c2d",
   "metadata": {},
   "outputs": [
    {
     "data": {
      "text/plain": [
       "(10000, 784)"
      ]
     },
     "execution_count": 47,
     "metadata": {},
     "output_type": "execute_result"
    }
   ],
   "source": [
    "X_test.shape"
   ]
  },
  {
   "cell_type": "markdown",
   "id": "69679e97",
   "metadata": {},
   "source": [
    "The pixel values are grayscale between 0 and 255. It is almost always a good idea to perform some scaling of input values when using neural network models. Because the scale is well known and well behaved, we can very quickly normalize the pixel values to the range 0 and 1 by dividing each value by the maximum of 255."
   ]
  },
  {
   "cell_type": "code",
   "execution_count": 48,
   "id": "9d172987",
   "metadata": {},
   "outputs": [],
   "source": [
    "# normalize inputs from 0-255 to 0-1\n",
    "X_train = X_train / 255\n",
    "X_test = X_test / 255"
   ]
  },
  {
   "cell_type": "code",
   "execution_count": 49,
   "id": "9cb2a7ef",
   "metadata": {},
   "outputs": [
    {
     "data": {
      "text/plain": [
       "(10000,)"
      ]
     },
     "execution_count": 49,
     "metadata": {},
     "output_type": "execute_result"
    }
   ],
   "source": [
    "y_test.shape"
   ]
  },
  {
   "cell_type": "code",
   "execution_count": 50,
   "id": "640d67d6",
   "metadata": {},
   "outputs": [
    {
     "data": {
      "text/plain": [
       "(10000, 10)"
      ]
     },
     "execution_count": 50,
     "metadata": {},
     "output_type": "execute_result"
    }
   ],
   "source": [
    "from keras.utils.np_utils import to_categorical\n",
    "# one hot encode outputs\n",
    "y_train = to_categorical(y_train)\n",
    "y_test = to_categorical(y_test)\n",
    "y_test.shape"
   ]
  },
  {
   "cell_type": "code",
   "execution_count": 51,
   "id": "b885f18b",
   "metadata": {},
   "outputs": [
    {
     "data": {
      "text/plain": [
       "10"
      ]
     },
     "execution_count": 51,
     "metadata": {},
     "output_type": "execute_result"
    }
   ],
   "source": [
    "num_classes = y_test.shape[1]\n",
    "num_classes"
   ]
  },
  {
   "cell_type": "markdown",
   "id": "eb56f7bb",
   "metadata": {},
   "source": [
    "## We are now ready to create our simple neural network model.\n",
    "- The model is a simple neural network with one hidden layer with the same number of neurons as there are inputs (784). \n",
    "- A rectifier activation function is used for the neurons in the hidden layer. \n",
    "- A softmax activation function is used on the output layer to turn the outputs into probability-like values and allow one class of the 10 to be selected as the model’s output prediction. \n",
    "\n",
    "<img src='1.png' width=150 height=150>"
   ]
  },
  {
   "cell_type": "code",
   "execution_count": 52,
   "id": "13043ac1",
   "metadata": {},
   "outputs": [
    {
     "name": "stdout",
     "output_type": "stream",
     "text": [
      "Model: \"sequential\"\n",
      "_________________________________________________________________\n",
      "Layer (type)                 Output Shape              Param #   \n",
      "=================================================================\n",
      "dense (Dense)                (None, 32)                25120     \n",
      "_________________________________________________________________\n",
      "dense_1 (Dense)              (None, 10)                330       \n",
      "=================================================================\n",
      "Total params: 25,450\n",
      "Trainable params: 25,450\n",
      "Non-trainable params: 0\n",
      "_________________________________________________________________\n"
     ]
    }
   ],
   "source": [
    "import keras.backend as K\n",
    "K.clear_session()\n",
    "\n",
    "# create model\n",
    "model = Sequential()\n",
    "model.add(Dense(32, input_dim=784, activation='relu'))\n",
    "model.add(Dense(10, activation='softmax'))\n",
    "# Compile model\n",
    "model.compile(loss='categorical_crossentropy', optimizer='adam', metrics=['accuracy'])\n",
    "model.summary()"
   ]
  },
  {
   "cell_type": "code",
   "execution_count": 53,
   "id": "7ea0f028",
   "metadata": {},
   "outputs": [
    {
     "name": "stdout",
     "output_type": "stream",
     "text": [
      "Epoch 1/10\n",
      "210/210 [==============================] - 3s 8ms/step - loss: 1.1502 - accuracy: 0.6802 - val_loss: 0.3491 - val_accuracy: 0.9033\n",
      "Epoch 2/10\n",
      "210/210 [==============================] - 2s 8ms/step - loss: 0.3227 - accuracy: 0.9119 - val_loss: 0.2732 - val_accuracy: 0.9236\n",
      "Epoch 3/10\n",
      "210/210 [==============================] - 2s 12ms/step - loss: 0.2555 - accuracy: 0.9285 - val_loss: 0.2356 - val_accuracy: 0.9331\n",
      "Epoch 4/10\n",
      "210/210 [==============================] - 1s 4ms/step - loss: 0.2201 - accuracy: 0.9367 - val_loss: 0.2160 - val_accuracy: 0.9382\n",
      "Epoch 5/10\n",
      "210/210 [==============================] - 1s 3ms/step - loss: 0.1890 - accuracy: 0.9463 - val_loss: 0.2021 - val_accuracy: 0.9425\n",
      "Epoch 6/10\n",
      "210/210 [==============================] - 1s 3ms/step - loss: 0.1709 - accuracy: 0.9499 - val_loss: 0.1910 - val_accuracy: 0.9448\n",
      "Epoch 7/10\n",
      "210/210 [==============================] - 1s 3ms/step - loss: 0.1600 - accuracy: 0.9546 - val_loss: 0.1789 - val_accuracy: 0.9482\n",
      "Epoch 8/10\n",
      "210/210 [==============================] - 1s 3ms/step - loss: 0.1443 - accuracy: 0.9594 - val_loss: 0.1736 - val_accuracy: 0.9501\n",
      "Epoch 9/10\n",
      "210/210 [==============================] - 1s 3ms/step - loss: 0.1353 - accuracy: 0.9614 - val_loss: 0.1649 - val_accuracy: 0.9529\n",
      "Epoch 10/10\n",
      "210/210 [==============================] - 1s 3ms/step - loss: 0.1210 - accuracy: 0.9655 - val_loss: 0.1641 - val_accuracy: 0.9528\n"
     ]
    },
    {
     "data": {
      "text/plain": [
       "<tensorflow.python.keras.callbacks.History at 0x15cc99320>"
      ]
     },
     "execution_count": 53,
     "metadata": {},
     "output_type": "execute_result"
    }
   ],
   "source": [
    "# Fit the model\n",
    "model.fit(X_train, y_train, validation_split=0.3, epochs=10, batch_size=200)"
   ]
  },
  {
   "cell_type": "code",
   "execution_count": 54,
   "id": "d5d7c94b",
   "metadata": {},
   "outputs": [
    {
     "name": "stdout",
     "output_type": "stream",
     "text": [
      "Accuracy: 95.42\n"
     ]
    }
   ],
   "source": [
    "# Final evaluation of the model\n",
    "_, accuracy = model.evaluate(X_test, y_test, verbose=0)\n",
    "print('Accuracy: %.2f' % (accuracy*100))"
   ]
  },
  {
   "cell_type": "markdown",
   "id": "74652bc2",
   "metadata": {},
   "source": [
    "## Try another ANN"
   ]
  },
  {
   "cell_type": "code",
   "execution_count": 55,
   "id": "d32052b8",
   "metadata": {},
   "outputs": [],
   "source": [
    "model = Sequential()\n",
    "model.add(Dense(512, input_dim=28*28, activation='relu'))\n",
    "model.add(Dense(256, activation='relu'))\n",
    "model.add(Dense(128, activation='relu'))\n",
    "model.add(Dense(32, activation='relu'))\n",
    "model.add(Dense(10, activation='softmax'))\n",
    "model.compile(loss='categorical_crossentropy',\n",
    "              optimizer='rmsprop',\n",
    "              metrics=['accuracy'])"
   ]
  },
  {
   "cell_type": "code",
   "execution_count": 56,
   "id": "e5d402d8",
   "metadata": {},
   "outputs": [
    {
     "name": "stdout",
     "output_type": "stream",
     "text": [
      "Epoch 1/10\n",
      "329/329 [==============================] - 6s 15ms/step - loss: 0.6094 - accuracy: 0.8049 - val_loss: 0.2374 - val_accuracy: 0.9276\n",
      "Epoch 2/10\n",
      "329/329 [==============================] - 5s 15ms/step - loss: 0.1142 - accuracy: 0.9641 - val_loss: 0.2399 - val_accuracy: 0.9190\n",
      "Epoch 3/10\n",
      "329/329 [==============================] - 5s 14ms/step - loss: 0.0729 - accuracy: 0.9782 - val_loss: 0.1533 - val_accuracy: 0.9581\n",
      "Epoch 4/10\n",
      "329/329 [==============================] - 5s 16ms/step - loss: 0.0498 - accuracy: 0.9845 - val_loss: 0.1120 - val_accuracy: 0.9704\n",
      "Epoch 5/10\n",
      "329/329 [==============================] - 5s 16ms/step - loss: 0.0357 - accuracy: 0.9893 - val_loss: 0.1195 - val_accuracy: 0.9699\n",
      "Epoch 6/10\n",
      "329/329 [==============================] - 6s 20ms/step - loss: 0.0294 - accuracy: 0.9907 - val_loss: 0.1636 - val_accuracy: 0.9638\n",
      "Epoch 7/10\n",
      "329/329 [==============================] - 7s 22ms/step - loss: 0.0231 - accuracy: 0.9935 - val_loss: 0.1278 - val_accuracy: 0.9738\n",
      "Epoch 8/10\n",
      "329/329 [==============================] - 8s 25ms/step - loss: 0.0200 - accuracy: 0.9941 - val_loss: 0.1300 - val_accuracy: 0.9757\n",
      "Epoch 9/10\n",
      "329/329 [==============================] - 8s 25ms/step - loss: 0.0160 - accuracy: 0.9952 - val_loss: 0.1506 - val_accuracy: 0.9732\n",
      "Epoch 10/10\n",
      "329/329 [==============================] - 9s 29ms/step - loss: 0.0136 - accuracy: 0.9954 - val_loss: 0.1533 - val_accuracy: 0.9752\n"
     ]
    },
    {
     "data": {
      "text/plain": [
       "<tensorflow.python.keras.callbacks.History at 0x14be1cfd0>"
      ]
     },
     "execution_count": 56,
     "metadata": {},
     "output_type": "execute_result"
    }
   ],
   "source": [
    "model.fit(X_train, y_train, batch_size=128, epochs=10, verbose=1, validation_split=0.3)"
   ]
  },
  {
   "cell_type": "code",
   "execution_count": 58,
   "id": "245bf567",
   "metadata": {},
   "outputs": [
    {
     "name": "stdout",
     "output_type": "stream",
     "text": [
      "313/313 [==============================] - 1s 3ms/step - loss: 0.1064 - accuracy: 0.9811\n"
     ]
    },
    {
     "data": {
      "text/plain": [
       "0.9811000227928162"
      ]
     },
     "execution_count": 58,
     "metadata": {},
     "output_type": "execute_result"
    }
   ],
   "source": [
    "test_accuracy = model.evaluate(X_test, y_test)[1]\n",
    "test_accuracy"
   ]
  },
  {
   "cell_type": "markdown",
   "id": "b7575da2",
   "metadata": {},
   "source": [
    "## 2. Simple Convolutional Neural Network for MNIST\n",
    "- Next we need to load the MNIST dataset and reshape it so that it is suitable for use training a CNN. \n",
    "- In Keras, <strong> the layers used for two-dimensional convolutions expect pixel values with the dimensions [samples][width][height][channels]. </strong>\n",
    "- Note, we are forcing so-called channels-last ordering for consistency in this example. \n",
    "- <strong> In the case of RGB, the last dimension channels would be 3 for the red, green and blue components and it would be like having 3 image inputs for every color image. </strong>\n",
    "- <strong> In the case of MNIST where the channels values are grayscale, the pixel dimension is set to 1. </strong>\n",
    "\n",
    "<img src='cnn.png'>"
   ]
  },
  {
   "cell_type": "code",
   "execution_count": 59,
   "id": "72064d3d",
   "metadata": {},
   "outputs": [],
   "source": [
    "from keras.models import Sequential\n",
    "from keras.layers import Dense\n",
    "from keras.layers import Dropout\n",
    "from keras.layers import Flatten\n",
    "from keras.layers.convolutional import Conv2D\n",
    "from keras.layers.convolutional import MaxPooling2D"
   ]
  },
  {
   "cell_type": "code",
   "execution_count": 60,
   "id": "0d5060df",
   "metadata": {},
   "outputs": [],
   "source": [
    "# load data\n",
    "(X_train, y_train), (X_test, y_test) = mnist.load_data()\n",
    "# reshape to be [samples][width][height][channels]\n",
    "X_train = X_train.reshape(X_train.shape[0], 28, 28, 1).astype('float32')\n",
    "X_test = X_test.reshape(X_test.shape[0], 28, 28, 1).astype('float32')"
   ]
  },
  {
   "cell_type": "code",
   "execution_count": 61,
   "id": "6d7ec8ff",
   "metadata": {},
   "outputs": [],
   "source": [
    "# normalize inputs from 0-255 to 0-1\n",
    "X_train = X_train / 255\n",
    "X_test = X_test / 255\n",
    "# one hot encode outputs\n",
    "y_train = to_categorical(y_train)\n",
    "y_test = to_categorical(y_test)\n",
    "num_classes = y_test.shape[1]"
   ]
  },
  {
   "cell_type": "markdown",
   "id": "e638bb0d",
   "metadata": {},
   "source": [
    "Next we define our neural network model. Convolutional neural networks are more complex than standard Multilayer Perceptrons, so we will start by using a simple structure to begin with that uses all of the elements for state-of-the-art results. \n",
    "<br>Below summarizes the network architecture.\n",
    "- 1. The first hidden layer is a convolutional layer called a Conv2D. <br> The layer has 32 feature maps, with the size of 5 x 5 and a rectifier activation function.  <br> This is the input layer, expecting images with the structure outline above.\n",
    "- 2. Next we define a pooling layer that takes the maximum value called MaxPooling2D. <br> It is configured with a pool size of 2 x 2.\n",
    "- 3. The next layer is a regularization layer using dropout called Dropout. <br> It is configured to randomly exclude 20% of neurons in the layer in order to reduce overfitting.\n",
    "- 4. Next is a layer that converts the 2D matrix data to a vector called Flatten. <br> It allows the output to be processed by standard fully connected layers.\n",
    "- 5. Next a fully connected layer with 128 neurons and rectifier activation function is used.\n",
    "- 6. Finally, the output layer has 10 neurons for the 10 classes and a softmax activation function to output probability-like predictions for each class.\n",
    "\n",
    "<img src='2.png' width=200 height=250>"
   ]
  },
  {
   "cell_type": "code",
   "execution_count": 62,
   "id": "354ec3b5",
   "metadata": {},
   "outputs": [],
   "source": [
    "# define a simple CNN model\n",
    "model = Sequential()\n",
    "model.add(Conv2D(32, (5, 5), input_shape=(28, 28, 1), activation='relu'))\n",
    "model.add(MaxPooling2D())\n",
    "model.add(Dropout(0.2))\n",
    "model.add(Flatten())\n",
    "model.add(Dense(128, activation='relu'))\n",
    "model.add(Dense(num_classes, activation='softmax'))\n",
    "# Compile model\n",
    "model.compile(loss='categorical_crossentropy', optimizer='adam', metrics=['accuracy'])"
   ]
  },
  {
   "cell_type": "code",
   "execution_count": 63,
   "id": "dc04737a",
   "metadata": {},
   "outputs": [
    {
     "name": "stdout",
     "output_type": "stream",
     "text": [
      "Epoch 1/10\n",
      "300/300 [==============================] - 42s 133ms/step - loss: 0.4876 - accuracy: 0.8612 - val_loss: 0.0764 - val_accuracy: 0.9761\n",
      "Epoch 2/10\n",
      "300/300 [==============================] - 28s 93ms/step - loss: 0.0749 - accuracy: 0.9780 - val_loss: 0.0492 - val_accuracy: 0.9841\n",
      "Epoch 3/10\n",
      "300/300 [==============================] - 28s 93ms/step - loss: 0.0480 - accuracy: 0.9854 - val_loss: 0.0437 - val_accuracy: 0.9860\n",
      "Epoch 4/10\n",
      "300/300 [==============================] - 29s 96ms/step - loss: 0.0387 - accuracy: 0.9881 - val_loss: 0.0375 - val_accuracy: 0.9881\n",
      "Epoch 5/10\n",
      "300/300 [==============================] - 24s 79ms/step - loss: 0.0321 - accuracy: 0.9896 - val_loss: 0.0368 - val_accuracy: 0.9872\n",
      "Epoch 6/10\n",
      "300/300 [==============================] - 26s 87ms/step - loss: 0.0250 - accuracy: 0.9920 - val_loss: 0.0347 - val_accuracy: 0.9885\n",
      "Epoch 7/10\n",
      "300/300 [==============================] - 28s 93ms/step - loss: 0.0198 - accuracy: 0.9938 - val_loss: 0.0379 - val_accuracy: 0.9875\n",
      "Epoch 8/10\n",
      "300/300 [==============================] - 25s 83ms/step - loss: 0.0193 - accuracy: 0.9936 - val_loss: 0.0342 - val_accuracy: 0.9887\n",
      "Epoch 9/10\n",
      "300/300 [==============================] - 25s 85ms/step - loss: 0.0142 - accuracy: 0.9956 - val_loss: 0.0338 - val_accuracy: 0.9888\n",
      "Epoch 10/10\n",
      "300/300 [==============================] - 28s 92ms/step - loss: 0.0117 - accuracy: 0.9963 - val_loss: 0.0369 - val_accuracy: 0.9882\n"
     ]
    },
    {
     "data": {
      "text/plain": [
       "<tensorflow.python.keras.callbacks.History at 0x15d0eb978>"
      ]
     },
     "execution_count": 63,
     "metadata": {},
     "output_type": "execute_result"
    }
   ],
   "source": [
    "# Fit the model\n",
    "model.fit(X_train, y_train, validation_data=(X_test, y_test), epochs=10, batch_size=200)"
   ]
  },
  {
   "cell_type": "code",
   "execution_count": 64,
   "id": "29baa1ae",
   "metadata": {},
   "outputs": [
    {
     "name": "stdout",
     "output_type": "stream",
     "text": [
      "Accuracy: 98.82\n"
     ]
    }
   ],
   "source": [
    "# Final evaluation of the model\n",
    "_, accuracy = model.evaluate(X_test, y_test, verbose=0)\n",
    "print('Accuracy: %.2f' % (accuracy*100))"
   ]
  },
  {
   "cell_type": "markdown",
   "id": "ffc22af9",
   "metadata": {},
   "source": [
    "## 3. Larger Convolutional Neural Network for MNIST\n",
    "- This time we define a larger CNN architecture with additional convolutional, max pooling layers and fully connected layers. The network topology can be summarized as follows.\n",
    "<br> 1. Convolutional layer with 30 feature maps of size 5 x 5. \n",
    "<br> 2. Pooling layer taking the max over 2 x 2 patches.\n",
    "<br> 3. Convolutional layer with 15 feature maps of size 3 x 3. \n",
    "<br> 4. Pooling layer taking the max over 2 x 2 patches.\n",
    "<br> 5. Dropout layer with a probability of 20%.\n",
    "<br> 6. Flatten layer.\n",
    "<br> 7. Fully connected layer with 128 neurons and rectifier activation. \n",
    "<br> 8. Fully connected layer with 50 neurons and rectifier activation. \n",
    "<br> 9. Output layer.\n",
    "\n",
    "<img src='3.png' width=200 height=250>"
   ]
  },
  {
   "cell_type": "code",
   "execution_count": 65,
   "id": "ce94325b",
   "metadata": {},
   "outputs": [
    {
     "name": "stdout",
     "output_type": "stream",
     "text": [
      "Epoch 1/10\n",
      "300/300 [==============================] - 34s 111ms/step - loss: 0.8537 - accuracy: 0.7322 - val_loss: 0.0837 - val_accuracy: 0.9738\n",
      "Epoch 2/10\n",
      "300/300 [==============================] - 32s 107ms/step - loss: 0.1076 - accuracy: 0.9685 - val_loss: 0.0477 - val_accuracy: 0.9845\n",
      "Epoch 3/10\n",
      "300/300 [==============================] - 40s 132ms/step - loss: 0.0697 - accuracy: 0.9787 - val_loss: 0.0359 - val_accuracy: 0.9877\n",
      "Epoch 4/10\n",
      "300/300 [==============================] - 85s 284ms/step - loss: 0.0570 - accuracy: 0.9821 - val_loss: 0.0309 - val_accuracy: 0.9889\n",
      "Epoch 5/10\n",
      "300/300 [==============================] - 147s 492ms/step - loss: 0.0494 - accuracy: 0.9848 - val_loss: 0.0325 - val_accuracy: 0.9897\n",
      "Epoch 6/10\n",
      "300/300 [==============================] - 103s 344ms/step - loss: 0.0413 - accuracy: 0.9872 - val_loss: 0.0301 - val_accuracy: 0.9894\n",
      "Epoch 7/10\n",
      "300/300 [==============================] - 94s 313ms/step - loss: 0.0378 - accuracy: 0.9875 - val_loss: 0.0282 - val_accuracy: 0.9912\n",
      "Epoch 8/10\n",
      "300/300 [==============================] - 80s 266ms/step - loss: 0.0338 - accuracy: 0.9898 - val_loss: 0.0244 - val_accuracy: 0.9913\n",
      "Epoch 9/10\n",
      "300/300 [==============================] - 80s 265ms/step - loss: 0.0312 - accuracy: 0.9900 - val_loss: 0.0301 - val_accuracy: 0.9899\n",
      "Epoch 10/10\n",
      "300/300 [==============================] - 81s 270ms/step - loss: 0.0295 - accuracy: 0.9910 - val_loss: 0.0253 - val_accuracy: 0.9924\n",
      "Accuracy: 99.24\n"
     ]
    }
   ],
   "source": [
    "# Larger CNN for the MNIST Dataset\n",
    "from keras.datasets import mnist\n",
    "from keras.models import Sequential\n",
    "from keras.layers import Dense\n",
    "from keras.layers import Dropout\n",
    "from keras.layers import Flatten\n",
    "from keras.layers.convolutional import Conv2D\n",
    "from keras.layers.convolutional import MaxPooling2D\n",
    "from keras.utils import np_utils\n",
    "# load data\n",
    "(X_train, y_train), (X_test, y_test) = mnist.load_data()\n",
    "# reshape to be [samples][width][height][channels]\n",
    "X_train = X_train.reshape((X_train.shape[0], 28, 28, 1)).astype('float32')\n",
    "X_test = X_test.reshape((X_test.shape[0], 28, 28, 1)).astype('float32')\n",
    "# normalize inputs from 0-255 to 0-1\n",
    "X_train = X_train / 255\n",
    "X_test = X_test / 255\n",
    "# one hot encode outputs\n",
    "y_train = np_utils.to_categorical(y_train)\n",
    "y_test = np_utils.to_categorical(y_test)\n",
    "num_classes = y_test.shape[1]\n",
    "# define the larger model\n",
    "model = Sequential()\n",
    "model.add(Conv2D(30, (5, 5), input_shape=(28, 28, 1), activation= 'relu'))\n",
    "model.add(MaxPooling2D())\n",
    "model.add(Conv2D(15, (3, 3), activation= 'relu' ))\n",
    "model.add(MaxPooling2D())\n",
    "model.add(Dropout(0.2))\n",
    "model.add(Flatten())\n",
    "model.add(Dense(128, activation= 'relu' ))\n",
    "model.add(Dense(50, activation= 'relu' ))\n",
    "model.add(Dense(num_classes, activation= 'softmax' ))\n",
    "# Compile model\n",
    "model.compile(loss= 'categorical_crossentropy' , optimizer= 'adam' , metrics=[ 'accuracy' ])\n",
    "# Fit the model\n",
    "model.fit(X_train, y_train, validation_data=(X_test, y_test), epochs=10, batch_size=200)\n",
    "# Final evaluation of the model\n",
    "_, accuracy = model.evaluate(X_test, y_test, verbose=0)\n",
    "print('Accuracy: %.2f' % (accuracy*100))"
   ]
  },
  {
   "cell_type": "code",
   "execution_count": null,
   "id": "cd261e19",
   "metadata": {},
   "outputs": [],
   "source": []
  }
 ],
 "metadata": {
  "kernelspec": {
   "display_name": "Python 3",
   "language": "python",
   "name": "python3"
  },
  "language_info": {
   "codemirror_mode": {
    "name": "ipython",
    "version": 3
   },
   "file_extension": ".py",
   "mimetype": "text/x-python",
   "name": "python",
   "nbconvert_exporter": "python",
   "pygments_lexer": "ipython3",
   "version": "3.6.13"
  }
 },
 "nbformat": 4,
 "nbformat_minor": 5
}
