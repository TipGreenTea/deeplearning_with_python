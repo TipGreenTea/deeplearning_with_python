{
 "cells": [
  {
   "cell_type": "markdown",
   "metadata": {},
   "source": [
    "## 3. Deep Learning Problem: Regression\n",
    "### Ex 3: Predict House Price (Small Dataset)"
   ]
  },
  {
   "cell_type": "code",
   "execution_count": 2,
   "metadata": {},
   "outputs": [],
   "source": [
    "%matplotlib inline\n",
    "import matplotlib.pyplot as plt\n",
    "import pandas as pd\n",
    "import numpy as np\n",
    "from pandas import set_option\n",
    "\n",
    "\n",
    "# data analysis and wrangling\n",
    "import pandas as pd\n",
    "import numpy as np\n",
    "import random as rnd\n",
    "\n",
    "# visualization\n",
    "import seaborn as sns\n",
    "import matplotlib.pyplot as plt\n",
    "%matplotlib inline\n",
    "\n",
    "from sklearn.model_selection import train_test_split\n",
    "\n",
    "# machine learning\n",
    "from sklearn.linear_model import LinearRegression\n",
    "from sklearn.linear_model import Ridge\n",
    "from sklearn.linear_model import Lasso\n",
    "from sklearn.linear_model import ElasticNet\n",
    "from sklearn.tree import DecisionTreeRegressor\n",
    "from sklearn.svm import SVR\n",
    "\n",
    "#deep learning\n",
    "from sklearn.metrics import r2_score\n",
    "from sklearn.metrics import mean_squared_error\n",
    "from sklearn.metrics import mean_absolute_error"
   ]
  },
  {
   "cell_type": "markdown",
   "metadata": {},
   "source": [
    "create 2 variables called X and y: <br>\n",
    "X shall be a matrix with 3 columns (sqft,bdrms,age) <br>\n",
    "y shall be a vector with 1 column (price) <br>"
   ]
  },
  {
   "cell_type": "code",
   "execution_count": 3,
   "metadata": {},
   "outputs": [],
   "source": [
    "df = pd.read_csv('housing-data.csv')"
   ]
  },
  {
   "cell_type": "code",
   "execution_count": 4,
   "metadata": {},
   "outputs": [
    {
     "data": {
      "text/html": [
       "<div>\n",
       "<style scoped>\n",
       "    .dataframe tbody tr th:only-of-type {\n",
       "        vertical-align: middle;\n",
       "    }\n",
       "\n",
       "    .dataframe tbody tr th {\n",
       "        vertical-align: top;\n",
       "    }\n",
       "\n",
       "    .dataframe thead th {\n",
       "        text-align: right;\n",
       "    }\n",
       "</style>\n",
       "<table border=\"1\" class=\"dataframe\">\n",
       "  <thead>\n",
       "    <tr style=\"text-align: right;\">\n",
       "      <th></th>\n",
       "      <th>sqft</th>\n",
       "      <th>bdrms</th>\n",
       "      <th>age</th>\n",
       "      <th>price</th>\n",
       "    </tr>\n",
       "  </thead>\n",
       "  <tbody>\n",
       "    <tr>\n",
       "      <th>0</th>\n",
       "      <td>2104</td>\n",
       "      <td>3</td>\n",
       "      <td>70</td>\n",
       "      <td>399900</td>\n",
       "    </tr>\n",
       "    <tr>\n",
       "      <th>1</th>\n",
       "      <td>1600</td>\n",
       "      <td>3</td>\n",
       "      <td>28</td>\n",
       "      <td>329900</td>\n",
       "    </tr>\n",
       "    <tr>\n",
       "      <th>2</th>\n",
       "      <td>2400</td>\n",
       "      <td>3</td>\n",
       "      <td>44</td>\n",
       "      <td>369000</td>\n",
       "    </tr>\n",
       "    <tr>\n",
       "      <th>3</th>\n",
       "      <td>1416</td>\n",
       "      <td>2</td>\n",
       "      <td>49</td>\n",
       "      <td>232000</td>\n",
       "    </tr>\n",
       "    <tr>\n",
       "      <th>4</th>\n",
       "      <td>3000</td>\n",
       "      <td>4</td>\n",
       "      <td>75</td>\n",
       "      <td>539900</td>\n",
       "    </tr>\n",
       "  </tbody>\n",
       "</table>\n",
       "</div>"
      ],
      "text/plain": [
       "   sqft  bdrms  age   price\n",
       "0  2104      3   70  399900\n",
       "1  1600      3   28  329900\n",
       "2  2400      3   44  369000\n",
       "3  1416      2   49  232000\n",
       "4  3000      4   75  539900"
      ]
     },
     "execution_count": 4,
     "metadata": {},
     "output_type": "execute_result"
    }
   ],
   "source": [
    "df.head()"
   ]
  },
  {
   "cell_type": "code",
   "execution_count": 5,
   "metadata": {},
   "outputs": [
    {
     "data": {
      "text/plain": [
       "(47, 4)"
      ]
     },
     "execution_count": 5,
     "metadata": {},
     "output_type": "execute_result"
    }
   ],
   "source": [
    "df.shape"
   ]
  },
  {
   "cell_type": "code",
   "execution_count": 6,
   "metadata": {},
   "outputs": [
    {
     "data": {
      "image/png": "[encoded data removed]",
      "text/plain": [
       "<Figure size 432x288 with 4 Axes>"
      ]
     },
     "metadata": {
      "needs_background": "light"
     },
     "output_type": "display_data"
    }
   ],
   "source": [
    "df.hist()\n",
    "plt.show()"
   ]
  },
  {
   "cell_type": "code",
   "execution_count": 7,
   "metadata": {},
   "outputs": [],
   "source": [
    "from sklearn.preprocessing import MinMaxScaler\n",
    "array = df.values\n",
    "# separate array into input and output components\n",
    "X = array[:,0:3]\n",
    "Y = array[:,3]"
   ]
  },
  {
   "cell_type": "code",
   "execution_count": 8,
   "metadata": {},
   "outputs": [
    {
     "data": {
      "text/plain": [
       "array([[0.34528406, 0.5       , 0.87837838],\n",
       "       [0.20628792, 0.5       , 0.31081081],\n",
       "       [0.42691671, 0.5       , 0.52702703],\n",
       "       [0.1555433 , 0.25      , 0.59459459],\n",
       "       [0.59238831, 0.75      , 0.94594595],\n",
       "       [0.31246553, 0.75      , 0.75675676],\n",
       "       [0.18808605, 0.5       , 0.09459459],\n",
       "       [0.15857694, 0.5       , 0.7027027 ],\n",
       "       [0.145615  , 0.5       , 0.12162162],\n",
       "       [0.17705461, 0.5       , 0.13513514],\n",
       "       [0.30005516, 0.75      , 0.02702703],\n",
       "       [0.31660232, 0.5       , 0.2972973 ],\n",
       "       [0.28626586, 0.5       , 0.54054054],\n",
       "       [1.        , 1.        , 0.59459459],\n",
       "       [0.11472697, 0.5       , 0.71621622],\n",
       "       [0.39933811, 0.75      , 0.97297297],\n",
       "       [0.12906784, 0.25      , 0.77027027],\n",
       "       [0.10590182, 0.5       , 0.98648649],\n",
       "       [0.48455598, 0.75      , 0.        ],\n",
       "       [0.60093767, 0.75      , 0.21621622],\n",
       "       [0.25234418, 0.5       , 0.52702703],\n",
       "       [0.28571429, 0.25      , 1.        ],\n",
       "       [0.20739106, 0.5       , 0.10810811],\n",
       "       [0.30612245, 0.75      , 0.64864865],\n",
       "       [0.83783784, 0.5       , 0.41891892],\n",
       "       [0.06839493, 0.5       , 0.74324324],\n",
       "       [0.16712631, 0.5       , 0.32432432],\n",
       "       [0.46166575, 0.5       , 0.10810811],\n",
       "       [0.37175951, 0.5       , 0.31081081],\n",
       "       [0.49227799, 0.5       , 0.27027027],\n",
       "       [0.27220077, 0.25      , 0.47297297],\n",
       "       [0.04081633, 0.        , 0.        ],\n",
       "       [0.32763376, 0.75      , 0.94594595],\n",
       "       [0.63017099, 0.5       , 0.83783784],\n",
       "       [0.26447876, 0.75      , 0.25675676],\n",
       "       [0.1613348 , 0.5       , 0.60810811],\n",
       "       [0.10672918, 0.5       , 0.22972973],\n",
       "       [0.35300607, 0.75      , 0.31081081],\n",
       "       [0.92746828, 0.75      , 0.82432432],\n",
       "       [0.36127965, 0.75      , 0.51351351],\n",
       "       [0.22393822, 0.25      , 0.47297297],\n",
       "       [0.38223938, 0.5       , 0.43243243],\n",
       "       [0.47297297, 0.75      , 0.7027027 ],\n",
       "       [0.09597352, 0.5       , 0.95945946],\n",
       "       [0.        , 0.25      , 0.87837838],\n",
       "       [0.27578599, 0.75      , 0.7972973 ],\n",
       "       [0.09680088, 0.5       , 0.08108108]])"
      ]
     },
     "execution_count": 8,
     "metadata": {},
     "output_type": "execute_result"
    }
   ],
   "source": [
    "scaler = MinMaxScaler()\n",
    "rescaledX = scaler.fit_transform(X)\n",
    "X = rescaledX\n",
    "X"
   ]
  },
  {
   "cell_type": "code",
   "execution_count": 9,
   "metadata": {},
   "outputs": [
    {
     "name": "stdout",
     "output_type": "stream",
     "text": [
      "The model performance for testing set\n",
      "--------------------------------------\n",
      "MAE is 72373.38495240992\n",
      "RMSE is 92761.70337516276\n"
     ]
    }
   ],
   "source": [
    "X_train, X_test, Y_train, Y_test = train_test_split(X, Y, test_size=0.2,random_state=42)\n",
    "\n",
    "#Different Regression Machine Learning Methods\n",
    "lin_model = LinearRegression()\n",
    "#lin_model = Ridge()\n",
    "#lin_model = Lasso()\n",
    "#lin_model = ElasticNet()\n",
    "#lin_model = DecisionTreeRegressor()\n",
    "#lin_model = SVR()\n",
    "lin_model.fit(X_train, Y_train)\n",
    "\n",
    "# model evaluation for testing set\n",
    "y_test_predict = lin_model.predict(X_test)\n",
    "mae = mean_absolute_error(Y_test, y_test_predict)\n",
    "rmse = (np.sqrt(mean_squared_error(Y_test, y_test_predict)))\n",
    "r2 = r2_score(Y_test, y_test_predict)\n",
    "\n",
    "print(\"The model performance for testing set\")\n",
    "print(\"--------------------------------------\")\n",
    "print('MAE is {}'.format(mae))\n",
    "print('RMSE is {}'.format(rmse))"
   ]
  },
  {
   "cell_type": "code",
   "execution_count": 10,
   "metadata": {},
   "outputs": [],
   "source": [
    "#Visualize the Predicted Price VS. the Actual Price\n",
    "#df = pd.DataFrame({'Actual': Y_test, 'Predicted': y_test_predict})\n",
    "#df.plot(kind='line',figsize=(18,8))\n",
    "#plt.grid(which='major', linestyle='-', linewidth='0.5', color='green')\n",
    "#plt.grid(which='minor', linestyle=':', linewidth='0.5', color='black')\n",
    "#plt.show()"
   ]
  },
  {
   "cell_type": "code",
   "execution_count": 11,
   "metadata": {},
   "outputs": [
    {
     "name": "stdout",
     "output_type": "stream",
     "text": [
      "10\n",
      "10\n"
     ]
    },
    {
     "data": {
      "image/png": "[encoded data removed]",
      "text/plain": [
       "<Figure size 432x288 with 1 Axes>"
      ]
     },
     "metadata": {
      "needs_background": "light"
     },
     "output_type": "display_data"
    }
   ],
   "source": [
    "# Our predictions\n",
    "plt.scatter(Y_test,y_test_predict)\n",
    "\n",
    "# Perfect predictions\n",
    "plt.plot(Y_test,Y_test,'r')\n",
    "print(len(Y_test))\n",
    "print(len(y_test_predict))"
   ]
  },
  {
   "cell_type": "markdown",
   "metadata": {},
   "source": [
    "### Deep Learning Model"
   ]
  },
  {
   "cell_type": "code",
   "execution_count": 12,
   "metadata": {},
   "outputs": [
    {
     "name": "stdout",
     "output_type": "stream",
     "text": [
      "Epoch 1/200\n",
      "24/24 [==============================] - 2s 33ms/step - loss: 104793145016.3200 - val_loss: 113054457856.0000\n",
      "Epoch 2/200\n",
      "24/24 [==============================] - 0s 4ms/step - loss: 112541125836.8000 - val_loss: 113054203904.0000\n",
      "Epoch 3/200\n",
      "24/24 [==============================] - 0s 5ms/step - loss: 111211989073.9200 - val_loss: 113053794304.0000\n",
      "Epoch 4/200\n",
      "24/24 [==============================] - 0s 5ms/step - loss: 142046586470.4000 - val_loss: 113053122560.0000\n",
      "Epoch 5/200\n",
      "24/24 [==============================] - 0s 5ms/step - loss: 123824454369.2800 - val_loss: 113051860992.0000\n",
      "Epoch 6/200\n",
      "24/24 [==============================] - 0s 4ms/step - loss: 112606123458.5600 - val_loss: 113049567232.0000\n",
      "Epoch 7/200\n",
      "24/24 [==============================] - 0s 5ms/step - loss: 117691878932.4800 - val_loss: 113045667840.0000\n",
      "Epoch 8/200\n",
      "24/24 [==============================] - 0s 5ms/step - loss: 109632346357.7600 - val_loss: 113039810560.0000\n",
      "Epoch 9/200\n",
      "24/24 [==============================] - 0s 4ms/step - loss: 95553100759.0400 - val_loss: 113030586368.0000\n",
      "Epoch 10/200\n",
      "24/24 [==============================] - 0s 5ms/step - loss: 130459888844.8000 - val_loss: 113017257984.0000\n",
      "Epoch 11/200\n",
      "24/24 [==============================] - 0s 5ms/step - loss: 110916290150.4000 - val_loss: 112999022592.0000\n",
      "Epoch 12/200\n",
      "24/24 [==============================] - 0s 6ms/step - loss: 97749567897.6000 - val_loss: 112974839808.0000\n",
      "Epoch 13/200\n",
      "24/24 [==============================] - 0s 5ms/step - loss: 119125010350.0800 - val_loss: 112940507136.0000\n",
      "Epoch 14/200\n",
      "24/24 [==============================] - 0s 4ms/step - loss: 102402384199.6800 - val_loss: 112898555904.0000\n",
      "Epoch 15/200\n",
      "24/24 [==============================] - 0s 5ms/step - loss: 146205182197.7600 - val_loss: 112843374592.0000\n",
      "Epoch 16/200\n",
      "24/24 [==============================] - 0s 5ms/step - loss: 126620607447.0400 - val_loss: 112776200192.0000\n",
      "Epoch 17/200\n",
      "24/24 [==============================] - 0s 5ms/step - loss: 106370591948.8000 - val_loss: 112697729024.0000\n",
      "Epoch 18/200\n",
      "24/24 [==============================] - 0s 4ms/step - loss: 108565155020.8000 - val_loss: 112594477056.0000\n",
      "Epoch 19/200\n",
      "24/24 [==============================] - 0s 4ms/step - loss: 110936222269.4400 - val_loss: 112475414528.0000\n",
      "Epoch 20/200\n",
      "24/24 [==============================] - 0s 4ms/step - loss: 125882027376.6400 - val_loss: 112335552512.0000\n",
      "Epoch 21/200\n",
      "24/24 [==============================] - 0s 5ms/step - loss: 164388549754.8800 - val_loss: 112168738816.0000\n",
      "Epoch 22/200\n",
      "24/24 [==============================] - 0s 5ms/step - loss: 126017531904.0000 - val_loss: 111979782144.0000\n",
      "Epoch 23/200\n",
      "24/24 [==============================] - 0s 5ms/step - loss: 160902471680.0000 - val_loss: 111763603456.0000\n",
      "Epoch 24/200\n",
      "24/24 [==============================] - 0s 4ms/step - loss: 112013791068.1600 - val_loss: 111528230912.0000\n",
      "Epoch 25/200\n",
      "24/24 [==============================] - 0s 4ms/step - loss: 112963067576.3200 - val_loss: 111240495104.0000\n",
      "Epoch 26/200\n",
      "24/24 [==============================] - 0s 4ms/step - loss: 114171860910.0800 - val_loss: 110923300864.0000\n",
      "Epoch 27/200\n",
      "24/24 [==============================] - 0s 4ms/step - loss: 97111676764.1600 - val_loss: 110576656384.0000\n",
      "Epoch 28/200\n",
      "24/24 [==============================] - 0s 4ms/step - loss: 134632560394.2400 - val_loss: 110179123200.0000\n",
      "Epoch 29/200\n",
      "24/24 [==============================] - 0s 5ms/step - loss: 146181706219.5200 - val_loss: 109733740544.0000\n",
      "Epoch 30/200\n",
      "24/24 [==============================] - 0s 6ms/step - loss: 120922637762.5600 - val_loss: 109246095360.0000\n",
      "Epoch 31/200\n",
      "24/24 [==============================] - 0s 8ms/step - loss: 118668227379.2000 - val_loss: 108714303488.0000\n",
      "Epoch 32/200\n",
      "24/24 [==============================] - 0s 5ms/step - loss: 133615834071.0400 - val_loss: 108152668160.0000\n",
      "Epoch 33/200\n",
      "24/24 [==============================] - 0s 5ms/step - loss: 102559035228.1600 - val_loss: 107543789568.0000\n",
      "Epoch 34/200\n",
      "24/24 [==============================] - 0s 5ms/step - loss: 95868649144.3200 - val_loss: 106877337600.0000\n",
      "Epoch 35/200\n",
      "24/24 [==============================] - 0s 5ms/step - loss: 116578178826.2400 - val_loss: 106104848384.0000\n",
      "Epoch 36/200\n",
      "24/24 [==============================] - 0s 4ms/step - loss: 118860322897.9200 - val_loss: 105314328576.0000\n",
      "Epoch 37/200\n",
      "24/24 [==============================] - 0s 6ms/step - loss: 125669396316.1600 - val_loss: 104498708480.0000\n",
      "Epoch 38/200\n",
      "24/24 [==============================] - 0s 10ms/step - loss: 110665986048.0000 - val_loss: 103587954688.0000\n",
      "Epoch 39/200\n",
      "24/24 [==============================] - 0s 5ms/step - loss: 105445919621.1200 - val_loss: 102651011072.0000\n",
      "Epoch 40/200\n",
      "24/24 [==============================] - 0s 6ms/step - loss: 130887987036.1600 - val_loss: 101603991552.0000\n",
      "Epoch 41/200\n",
      "24/24 [==============================] - 0s 4ms/step - loss: 122903632281.6000 - val_loss: 100513447936.0000\n",
      "Epoch 42/200\n",
      "24/24 [==============================] - 0s 5ms/step - loss: 115540279787.5200 - val_loss: 99366068224.0000\n",
      "Epoch 43/200\n",
      "24/24 [==============================] - 0s 5ms/step - loss: 103032848711.6800 - val_loss: 98143117312.0000\n",
      "Epoch 44/200\n",
      "24/24 [==============================] - 0s 5ms/step - loss: 101506893414.4000 - val_loss: 96904560640.0000\n",
      "Epoch 45/200\n",
      "24/24 [==============================] - 0s 5ms/step - loss: 98123806801.9200 - val_loss: 95539789824.0000\n",
      "Epoch 46/200\n",
      "24/24 [==============================] - 0s 5ms/step - loss: 114905917358.0800 - val_loss: 94143258624.0000\n",
      "Epoch 47/200\n",
      "24/24 [==============================] - 0s 4ms/step - loss: 107043277701.1200 - val_loss: 92664619008.0000\n",
      "Epoch 48/200\n",
      "24/24 [==============================] - 0s 4ms/step - loss: 77899034378.2400 - val_loss: 91192442880.0000\n",
      "Epoch 49/200\n",
      "24/24 [==============================] - 0s 5ms/step - loss: 77556031324.1600 - val_loss: 89644670976.0000\n",
      "Epoch 50/200\n",
      "24/24 [==============================] - 0s 5ms/step - loss: 85424360980.4800 - val_loss: 87917666304.0000\n",
      "Epoch 51/200\n",
      "24/24 [==============================] - 0s 4ms/step - loss: 94015403458.5600 - val_loss: 86245244928.0000\n",
      "Epoch 52/200\n",
      "24/24 [==============================] - 0s 4ms/step - loss: 85093343559.6800 - val_loss: 84498825216.0000\n",
      "Epoch 53/200\n",
      "24/24 [==============================] - 0s 4ms/step - loss: 83257373327.3600 - val_loss: 82688950272.0000\n",
      "Epoch 54/200\n",
      "24/24 [==============================] - 0s 5ms/step - loss: 73648488939.5200 - val_loss: 80846200832.0000\n",
      "Epoch 55/200\n",
      "24/24 [==============================] - 0s 5ms/step - loss: 71252721336.3200 - val_loss: 78956871680.0000\n",
      "Epoch 56/200\n",
      "24/24 [==============================] - 0s 4ms/step - loss: 91421248061.4400 - val_loss: 76978233344.0000\n",
      "Epoch 57/200\n",
      "24/24 [==============================] - 0s 4ms/step - loss: 79874965176.3200 - val_loss: 74957783040.0000\n",
      "Epoch 58/200\n",
      "24/24 [==============================] - 0s 4ms/step - loss: 76867848929.2800 - val_loss: 72975892480.0000\n",
      "Epoch 59/200\n",
      "24/24 [==============================] - 0s 4ms/step - loss: 85156153262.0800 - val_loss: 70832480256.0000\n",
      "Epoch 60/200\n",
      "24/24 [==============================] - 0s 5ms/step - loss: 70415792947.2000 - val_loss: 68765384704.0000\n",
      "Epoch 61/200\n",
      "24/24 [==============================] - 0s 5ms/step - loss: 78888470528.0000 - val_loss: 66700787712.0000\n",
      "Epoch 62/200\n",
      "24/24 [==============================] - 0s 16ms/step - loss: 64125257072.6400 - val_loss: 64544460800.0000\n",
      "Epoch 63/200\n",
      "24/24 [==============================] - 0s 6ms/step - loss: 63333992448.0000 - val_loss: 62431432704.0000\n",
      "Epoch 64/200\n",
      "24/24 [==============================] - 0s 5ms/step - loss: 95154516459.5200 - val_loss: 60231360512.0000\n",
      "Epoch 65/200\n",
      "24/24 [==============================] - 0s 8ms/step - loss: 50782014423.0400 - val_loss: 58228563968.0000\n",
      "Epoch 66/200\n",
      "24/24 [==============================] - 0s 7ms/step - loss: 71988289290.2400 - val_loss: 55980417024.0000\n",
      "Epoch 67/200\n",
      "24/24 [==============================] - 0s 5ms/step - loss: 60103620526.0800 - val_loss: 53830029312.0000\n",
      "Epoch 68/200\n"
     ]
    },
    {
     "name": "stdout",
     "output_type": "stream",
     "text": [
      "24/24 [==============================] - 0s 7ms/step - loss: 51650951680.0000 - val_loss: 51741835264.0000\n",
      "Epoch 69/200\n",
      "24/24 [==============================] - 0s 6ms/step - loss: 49426313707.5200 - val_loss: 49770913792.0000\n",
      "Epoch 70/200\n",
      "24/24 [==============================] - 0s 5ms/step - loss: 75125139701.7600 - val_loss: 47542173696.0000\n",
      "Epoch 71/200\n",
      "24/24 [==============================] - 0s 6ms/step - loss: 56706915491.8400 - val_loss: 45439930368.0000\n",
      "Epoch 72/200\n",
      "24/24 [==============================] - 0s 5ms/step - loss: 47210788126.7200 - val_loss: 43549859840.0000\n",
      "Epoch 73/200\n",
      "24/24 [==============================] - 0s 5ms/step - loss: 47890507520.0000 - val_loss: 41446952960.0000\n",
      "Epoch 74/200\n",
      "24/24 [==============================] - 0s 5ms/step - loss: 63928320655.3600 - val_loss: 39568027648.0000\n",
      "Epoch 75/200\n",
      "24/24 [==============================] - 0s 6ms/step - loss: 37658296811.5200 - val_loss: 37700620288.0000\n",
      "Epoch 76/200\n",
      "24/24 [==============================] - 0s 5ms/step - loss: 34168991989.7600 - val_loss: 35863171072.0000\n",
      "Epoch 77/200\n",
      "24/24 [==============================] - 0s 5ms/step - loss: 61535936020.4800 - val_loss: 33986572288.0000\n",
      "Epoch 78/200\n",
      "24/24 [==============================] - 0s 4ms/step - loss: 34761245081.6000 - val_loss: 32339851264.0000\n",
      "Epoch 79/200\n",
      "24/24 [==============================] - 0s 5ms/step - loss: 34146956451.8400 - val_loss: 30673577984.0000\n",
      "Epoch 80/200\n",
      "24/24 [==============================] - 0s 5ms/step - loss: 47584666910.7200 - val_loss: 28997515264.0000\n",
      "Epoch 81/200\n",
      "24/24 [==============================] - 0s 5ms/step - loss: 40794786603.8400 - val_loss: 27513419776.0000\n",
      "Epoch 82/200\n",
      "24/24 [==============================] - 0s 5ms/step - loss: 31602534010.8800 - val_loss: 26101444608.0000\n",
      "Epoch 83/200\n",
      "24/24 [==============================] - 0s 4ms/step - loss: 20001051115.5200 - val_loss: 24810627072.0000\n",
      "Epoch 84/200\n",
      "24/24 [==============================] - 0s 10ms/step - loss: 48568174673.9200 - val_loss: 23386304512.0000\n",
      "Epoch 85/200\n",
      "24/24 [==============================] - 0s 5ms/step - loss: 19986268477.4400 - val_loss: 22296070144.0000\n",
      "Epoch 86/200\n",
      "24/24 [==============================] - 0s 4ms/step - loss: 27442750167.0400 - val_loss: 21034045440.0000\n",
      "Epoch 87/200\n",
      "24/24 [==============================] - 0s 4ms/step - loss: 23882437591.0400 - val_loss: 19938816000.0000\n",
      "Epoch 88/200\n",
      "24/24 [==============================] - 0s 4ms/step - loss: 17503694602.2400 - val_loss: 18987569152.0000\n",
      "Epoch 89/200\n",
      "24/24 [==============================] - 0s 4ms/step - loss: 38964370718.7200 - val_loss: 17980565504.0000\n",
      "Epoch 90/200\n",
      "24/24 [==============================] - 0s 4ms/step - loss: 12507172771.8400 - val_loss: 17186670592.0000\n",
      "Epoch 91/200\n",
      "24/24 [==============================] - 0s 4ms/step - loss: 13845793136.6400 - val_loss: 16338379776.0000\n",
      "Epoch 92/200\n",
      "24/24 [==============================] - 0s 4ms/step - loss: 13772756700.1600 - val_loss: 15559771136.0000\n",
      "Epoch 93/200\n",
      "24/24 [==============================] - 0s 4ms/step - loss: 14306008688.6400 - val_loss: 14888817664.0000\n",
      "Epoch 94/200\n",
      "24/24 [==============================] - 0s 4ms/step - loss: 30468516044.8000 - val_loss: 14255627264.0000\n",
      "Epoch 95/200\n",
      "24/24 [==============================] - 0s 5ms/step - loss: 23296146022.4000 - val_loss: 13684191232.0000\n",
      "Epoch 96/200\n",
      "24/24 [==============================] - 0s 5ms/step - loss: 10314954813.4400 - val_loss: 13271737344.0000\n",
      "Epoch 97/200\n",
      "24/24 [==============================] - 0s 6ms/step - loss: 13056778910.7200 - val_loss: 12777027584.0000\n",
      "Epoch 98/200\n",
      "24/24 [==============================] - 0s 5ms/step - loss: 12766963738.8800 - val_loss: 12387658752.0000\n",
      "Epoch 99/200\n",
      "24/24 [==============================] - 0s 6ms/step - loss: 6065838696.9600 - val_loss: 12087367680.0000\n",
      "Epoch 100/200\n",
      "24/24 [==============================] - 0s 6ms/step - loss: 11824726805.7600 - val_loss: 11699016704.0000\n",
      "Epoch 101/200\n",
      "24/24 [==============================] - 0s 6ms/step - loss: 7771300582.4000 - val_loss: 11428201472.0000\n",
      "Epoch 102/200\n",
      "24/24 [==============================] - 0s 5ms/step - loss: 8289760691.2000 - val_loss: 11145062400.0000\n",
      "Epoch 103/200\n",
      "24/24 [==============================] - 0s 6ms/step - loss: 6104434575.3600 - val_loss: 10959010816.0000\n",
      "Epoch 104/200\n",
      "24/24 [==============================] - 0s 7ms/step - loss: 18002030968.3200 - val_loss: 10723261440.0000\n",
      "Epoch 105/200\n",
      "24/24 [==============================] - 0s 4ms/step - loss: 7644091299.8400 - val_loss: 10575349760.0000\n",
      "Epoch 106/200\n",
      "24/24 [==============================] - 0s 4ms/step - loss: 13647543623.6800 - val_loss: 10422031360.0000\n",
      "Epoch 107/200\n",
      "24/24 [==============================] - 0s 7ms/step - loss: 9633932165.1200 - val_loss: 10282553344.0000\n",
      "Epoch 108/200\n",
      "24/24 [==============================] - 0s 5ms/step - loss: 9534993807.3600 - val_loss: 10193005568.0000\n",
      "Epoch 109/200\n",
      "24/24 [==============================] - 0s 7ms/step - loss: 14351016033.2800 - val_loss: 10114684928.0000\n",
      "Epoch 110/200\n",
      "24/24 [==============================] - 0s 7ms/step - loss: 6587925114.8800 - val_loss: 10053226496.0000\n",
      "Epoch 111/200\n",
      "24/24 [==============================] - 0s 5ms/step - loss: 8987872944.6400 - val_loss: 9994547200.0000\n",
      "Epoch 112/200\n",
      "24/24 [==============================] - 0s 5ms/step - loss: 11976510504.9600 - val_loss: 9923664896.0000\n",
      "Epoch 113/200\n",
      "24/24 [==============================] - 0s 9ms/step - loss: 6027476602.8800 - val_loss: 9898038272.0000\n",
      "Epoch 114/200\n",
      "24/24 [==============================] - 0s 6ms/step - loss: 6349912074.2400 - val_loss: 9859652608.0000\n",
      "Epoch 115/200\n",
      "24/24 [==============================] - 0s 5ms/step - loss: 14248056217.6000 - val_loss: 9816844288.0000\n",
      "Epoch 116/200\n",
      "24/24 [==============================] - 0s 4ms/step - loss: 8787559096.3200 - val_loss: 9802867712.0000\n",
      "Epoch 117/200\n",
      "24/24 [==============================] - 0s 4ms/step - loss: 5245090984.6400 - val_loss: 9787428864.0000\n",
      "Epoch 118/200\n",
      "24/24 [==============================] - 0s 10ms/step - loss: 9452600862.7200 - val_loss: 9771018240.0000\n",
      "Epoch 119/200\n",
      "24/24 [==============================] - 0s 6ms/step - loss: 11306996899.8400 - val_loss: 9759660032.0000\n",
      "Epoch 120/200\n",
      "24/24 [==============================] - 0s 7ms/step - loss: 8355181877.7600 - val_loss: 9753191424.0000\n",
      "Epoch 121/200\n",
      "24/24 [==============================] - 0s 4ms/step - loss: 5457035520.0000 - val_loss: 9747640320.0000\n",
      "Epoch 122/200\n",
      "24/24 [==============================] - 0s 5ms/step - loss: 4721647928.3200 - val_loss: 9740380160.0000\n",
      "Epoch 123/200\n",
      "24/24 [==============================] - 0s 6ms/step - loss: 6973272985.6000 - val_loss: 9739533312.0000\n",
      "Epoch 124/200\n",
      "24/24 [==============================] - 0s 6ms/step - loss: 6370923450.8000 - val_loss: 9738554368.0000\n",
      "Epoch 125/200\n",
      "24/24 [==============================] - 0s 4ms/step - loss: 8760738160.6400 - val_loss: 9737875456.0000\n",
      "Epoch 126/200\n",
      "24/24 [==============================] - 0s 6ms/step - loss: 5894480248.9600 - val_loss: 9742512128.0000\n",
      "Epoch 127/200\n",
      "24/24 [==============================] - 0s 4ms/step - loss: 9654169661.4400 - val_loss: 9737985024.0000\n",
      "Epoch 128/200\n",
      "24/24 [==============================] - 0s 4ms/step - loss: 9750787461.1200 - val_loss: 9746286592.0000\n",
      "Epoch 129/200\n",
      "24/24 [==============================] - 0s 5ms/step - loss: 5321351283.2000 - val_loss: 9738102784.0000\n",
      "Epoch 130/200\n",
      "24/24 [==============================] - 0s 11ms/step - loss: 8945535160.3200 - val_loss: 9746575360.0000\n",
      "Epoch 131/200\n",
      "24/24 [==============================] - 0s 8ms/step - loss: 12587823308.8000 - val_loss: 9740414976.0000\n",
      "Epoch 132/200\n",
      "24/24 [==============================] - 0s 4ms/step - loss: 8333758080.6400 - val_loss: 9740994560.0000\n",
      "Epoch 133/200\n",
      "24/24 [==============================] - 0s 4ms/step - loss: 9046733025.2800 - val_loss: 9747108864.0000\n",
      "Epoch 134/200\n",
      "24/24 [==============================] - 0s 7ms/step - loss: 5182519040.0000 - val_loss: 9741652992.0000\n",
      "Epoch 135/200\n",
      "24/24 [==============================] - 0s 4ms/step - loss: 5473279078.4000 - val_loss: 9739184128.0000\n",
      "Epoch 136/200\n"
     ]
    },
    {
     "name": "stdout",
     "output_type": "stream",
     "text": [
      "24/24 [==============================] - 0s 8ms/step - loss: 5077147898.8800 - val_loss: 9738063872.0000\n",
      "Epoch 137/200\n",
      "24/24 [==============================] - 0s 6ms/step - loss: 8383477800.9600 - val_loss: 9753205760.0000\n",
      "Epoch 138/200\n",
      "24/24 [==============================] - 0s 8ms/step - loss: 10532652282.8800 - val_loss: 9752451072.0000\n",
      "Epoch 139/200\n",
      "24/24 [==============================] - 0s 4ms/step - loss: 7011981568.0000 - val_loss: 9730983936.0000\n",
      "Epoch 140/200\n",
      "24/24 [==============================] - 0s 7ms/step - loss: 5886274242.5600 - val_loss: 9716052992.0000\n",
      "Epoch 141/200\n",
      "24/24 [==============================] - 0s 4ms/step - loss: 7919943669.7600 - val_loss: 9751406592.0000\n",
      "Epoch 142/200\n",
      "24/24 [==============================] - 0s 7ms/step - loss: 7915403028.4800 - val_loss: 9730357248.0000\n",
      "Epoch 143/200\n",
      "24/24 [==============================] - 0s 6ms/step - loss: 5081044878.4000 - val_loss: 9734443008.0000\n",
      "Epoch 144/200\n",
      "24/24 [==============================] - 0s 4ms/step - loss: 7034307402.2400 - val_loss: 9715650560.0000\n",
      "Epoch 145/200\n",
      "24/24 [==============================] - 0s 5ms/step - loss: 8060593323.5200 - val_loss: 9733236736.0000\n",
      "Epoch 146/200\n",
      "24/24 [==============================] - 0s 5ms/step - loss: 4814165724.1600 - val_loss: 9722925056.0000\n",
      "Epoch 147/200\n",
      "24/24 [==============================] - 0s 7ms/step - loss: 5995237982.7200 - val_loss: 9714881536.0000\n",
      "Epoch 148/200\n",
      "24/24 [==============================] - 0s 5ms/step - loss: 7909431418.8800 - val_loss: 9713379328.0000\n",
      "Epoch 149/200\n",
      "24/24 [==============================] - 0s 6ms/step - loss: 6977370234.8800 - val_loss: 9705857024.0000\n",
      "Epoch 150/200\n",
      "24/24 [==============================] - 0s 7ms/step - loss: 7381745292.8000 - val_loss: 9714257920.0000\n",
      "Epoch 151/200\n",
      "24/24 [==============================] - 0s 4ms/step - loss: 7757190819.8400 - val_loss: 9720477696.0000\n",
      "Epoch 152/200\n",
      "24/24 [==============================] - 0s 4ms/step - loss: 8745344819.2000 - val_loss: 9693501440.0000\n",
      "Epoch 153/200\n",
      "24/24 [==============================] - 0s 4ms/step - loss: 9624544768.0000 - val_loss: 9703570432.0000\n",
      "Epoch 154/200\n",
      "24/24 [==============================] - 0s 7ms/step - loss: 5611306593.2800 - val_loss: 9706547200.0000\n",
      "Epoch 155/200\n",
      "24/24 [==============================] - 0s 5ms/step - loss: 8996625244.1600 - val_loss: 9689550848.0000\n",
      "Epoch 156/200\n",
      "24/24 [==============================] - 0s 7ms/step - loss: 5299040800.0000 - val_loss: 9682081792.0000\n",
      "Epoch 157/200\n",
      "24/24 [==============================] - 0s 6ms/step - loss: 3955365113.6000 - val_loss: 9656884224.0000\n",
      "Epoch 158/200\n",
      "24/24 [==============================] - 0s 6ms/step - loss: 6513977600.0000 - val_loss: 9651375104.0000\n",
      "Epoch 159/200\n",
      "24/24 [==============================] - 0s 6ms/step - loss: 5715727349.7600 - val_loss: 9702674432.0000\n",
      "Epoch 160/200\n",
      "24/24 [==============================] - 0s 6ms/step - loss: 8373307541.7600 - val_loss: 9661191168.0000\n",
      "Epoch 161/200\n",
      "24/24 [==============================] - 0s 6ms/step - loss: 5434725585.9200 - val_loss: 9657254912.0000\n",
      "Epoch 162/200\n",
      "24/24 [==============================] - 0s 5ms/step - loss: 6273183825.9200 - val_loss: 9651076096.0000\n",
      "Epoch 163/200\n",
      "24/24 [==============================] - 0s 5ms/step - loss: 5264666266.3600 - val_loss: 9642917888.0000\n",
      "Epoch 164/200\n",
      "24/24 [==============================] - 0s 8ms/step - loss: 9174855536.6400 - val_loss: 9654977536.0000\n",
      "Epoch 165/200\n",
      "24/24 [==============================] - 0s 6ms/step - loss: 4826259178.4000 - val_loss: 9636179968.0000\n",
      "Epoch 166/200\n",
      "24/24 [==============================] - 0s 7ms/step - loss: 9982671206.4000 - val_loss: 9640344576.0000\n",
      "Epoch 167/200\n",
      "24/24 [==============================] - 0s 6ms/step - loss: 7706317352.9600 - val_loss: 9632586752.0000\n",
      "Epoch 168/200\n",
      "24/24 [==============================] - 0s 6ms/step - loss: 5621702768.6400 - val_loss: 9595964416.0000\n",
      "Epoch 169/200\n",
      "24/24 [==============================] - 0s 6ms/step - loss: 8642938122.2400 - val_loss: 9605108736.0000\n",
      "Epoch 170/200\n",
      "24/24 [==============================] - 0s 7ms/step - loss: 11137814978.5600 - val_loss: 9619146752.0000\n",
      "Epoch 171/200\n",
      "24/24 [==============================] - 0s 6ms/step - loss: 5575047557.1200 - val_loss: 9611785216.0000\n",
      "Epoch 172/200\n",
      "24/24 [==============================] - 0s 6ms/step - loss: 5749064268.8000 - val_loss: 9600208896.0000\n",
      "Epoch 173/200\n",
      "24/24 [==============================] - 0s 6ms/step - loss: 6794643783.6800 - val_loss: 9603148800.0000\n",
      "Epoch 174/200\n",
      "24/24 [==============================] - 0s 6ms/step - loss: 7177596977.4200 - val_loss: 9615534080.0000\n",
      "Epoch 175/200\n",
      "24/24 [==============================] - 0s 5ms/step - loss: 4395101745.9200 - val_loss: 9590417408.0000\n",
      "Epoch 176/200\n",
      "24/24 [==============================] - 0s 11ms/step - loss: 12431289180.1600 - val_loss: 9578548224.0000\n",
      "Epoch 177/200\n",
      "24/24 [==============================] - 0s 6ms/step - loss: 6169521575.6800 - val_loss: 9594071040.0000\n",
      "Epoch 178/200\n",
      "24/24 [==============================] - 0s 6ms/step - loss: 10453274112.0000 - val_loss: 9579816960.0000\n",
      "Epoch 179/200\n",
      "24/24 [==============================] - 0s 4ms/step - loss: 8028898119.6800 - val_loss: 9552009216.0000\n",
      "Epoch 180/200\n",
      "24/24 [==============================] - 0s 5ms/step - loss: 9386434928.6400 - val_loss: 9541727232.0000\n",
      "Epoch 181/200\n",
      "24/24 [==============================] - 0s 5ms/step - loss: 7113336197.1200 - val_loss: 9554306048.0000\n",
      "Epoch 182/200\n",
      "24/24 [==============================] - 0s 7ms/step - loss: 7369805066.2400 - val_loss: 9556219904.0000\n",
      "Epoch 183/200\n",
      "24/24 [==============================] - 0s 8ms/step - loss: 7931728332.8000 - val_loss: 9542291456.0000\n",
      "Epoch 184/200\n",
      "24/24 [==============================] - 0s 9ms/step - loss: 8654161797.1200 - val_loss: 9543646208.0000\n",
      "Epoch 185/200\n",
      "24/24 [==============================] - 0s 5ms/step - loss: 6938731540.4800 - val_loss: 9534715904.0000\n",
      "Epoch 186/200\n",
      "24/24 [==============================] - 0s 9ms/step - loss: 6768756960.2400 - val_loss: 9547509760.0000\n",
      "Epoch 187/200\n",
      "24/24 [==============================] - 0s 14ms/step - loss: 9144027124.8000 - val_loss: 9511014400.0000\n",
      "Epoch 188/200\n",
      "24/24 [==============================] - 0s 10ms/step - loss: 12113667133.4400 - val_loss: 9513568256.0000\n",
      "Epoch 189/200\n",
      "24/24 [==============================] - 0s 15ms/step - loss: 8447484284.8000 - val_loss: 9502232576.0000\n",
      "Epoch 190/200\n",
      "24/24 [==============================] - 0s 9ms/step - loss: 9896005811.2000 - val_loss: 9481659392.0000\n",
      "Epoch 191/200\n",
      "24/24 [==============================] - 0s 8ms/step - loss: 6251452578.8800 - val_loss: 9506148352.0000\n",
      "Epoch 192/200\n",
      "24/24 [==============================] - 0s 6ms/step - loss: 10385641379.8400 - val_loss: 9493895168.0000\n",
      "Epoch 193/200\n",
      "24/24 [==============================] - 0s 7ms/step - loss: 8830728003.5200 - val_loss: 9464675328.0000\n",
      "Epoch 194/200\n",
      "24/24 [==============================] - 0s 6ms/step - loss: 9815551303.6800 - val_loss: 9459251200.0000\n",
      "Epoch 195/200\n",
      "24/24 [==============================] - 0s 6ms/step - loss: 7074347089.9200 - val_loss: 9468296192.0000\n",
      "Epoch 196/200\n",
      "24/24 [==============================] - 0s 8ms/step - loss: 7233026908.1600 - val_loss: 9467747328.0000\n",
      "Epoch 197/200\n",
      "24/24 [==============================] - 0s 6ms/step - loss: 9471461923.8400 - val_loss: 9454938112.0000\n",
      "Epoch 198/200\n",
      "24/24 [==============================] - 0s 6ms/step - loss: 7017174159.3600 - val_loss: 9443684352.0000\n",
      "Epoch 199/200\n",
      "24/24 [==============================] - 0s 7ms/step - loss: 6596714926.0800 - val_loss: 9436187648.0000\n",
      "Epoch 200/200\n",
      "24/24 [==============================] - 0s 6ms/step - loss: 6814150379.5200 - val_loss: 9431636992.0000\n",
      "dict_keys(['loss', 'val_loss'])\n"
     ]
    },
    {
     "data": {
      "image/png": "[encoded data removed]",
      "text/plain": [
       "<Figure size 432x288 with 1 Axes>"
      ]
     },
     "metadata": {
      "needs_background": "light"
     },
     "output_type": "display_data"
    }
   ],
   "source": [
    "from keras.models import Sequential\n",
    "from keras.layers import Dense\n",
    "# define the keras model\n",
    "model = Sequential()\n",
    "model.add(Dense(32, input_dim=3, activation='relu'))\n",
    "model.add(Dense(16, activation='relu'))\n",
    "model.add(Dense(8, activation='relu'))\n",
    "model.add(Dense(1))  #activation='linear'\n",
    "\n",
    "# compile the keras model\n",
    "model.compile(loss='mse', optimizer='adam')\n",
    "\n",
    "#3. with validation loss --> history graph  (Learning Curves to Diagnose Machine Learning Model Performance slide)\n",
    "history = model.fit(X_train, Y_train, epochs=200, batch_size=1, validation_split=0.33)\n",
    "# list all data in history\n",
    "print(history.history.keys())\n",
    "# summarize history for loss\n",
    "plt.plot(history.history['loss'])\n",
    "plt.plot(history.history['val_loss'])\n",
    "plt.title('model loss')\n",
    "plt.ylabel('loss')\n",
    "plt.xlabel('epoch')\n",
    "plt.legend(['train', 'test'], loc='upper left')\n",
    "plt.show()"
   ]
  },
  {
   "cell_type": "code",
   "execution_count": 13,
   "metadata": {},
   "outputs": [
    {
     "name": "stdout",
     "output_type": "stream",
     "text": [
      "The model performance for testing set\n",
      "--------------------------------------\n",
      "MAE is 112829.08125\n",
      "RMSE is 135220.78948584062\n"
     ]
    }
   ],
   "source": [
    "# model evaluation for testing set\n",
    "y_test_predict = model.predict(X_test)\n",
    "mae = mean_absolute_error(Y_test, y_test_predict)\n",
    "rmse = (np.sqrt(mean_squared_error(Y_test, y_test_predict)))\n",
    "r2 = r2_score(Y_test, y_test_predict)\n",
    "\n",
    "print(\"The model performance for testing set\")\n",
    "print(\"--------------------------------------\")\n",
    "print('MAE is {}'.format(mae))\n",
    "print('RMSE is {}'.format(rmse))"
   ]
  },
  {
   "cell_type": "code",
   "execution_count": 14,
   "metadata": {},
   "outputs": [
    {
     "data": {
      "text/plain": [
       "array([[294165.6 ],\n",
       "       [365872.6 ],\n",
       "       [284247.6 ],\n",
       "       [354064.22],\n",
       "       [379546.12],\n",
       "       [265002.53],\n",
       "       [325879.8 ],\n",
       "       [358906.75],\n",
       "       [448243.44],\n",
       "       [323841.78]], dtype=float32)"
      ]
     },
     "execution_count": 14,
     "metadata": {},
     "output_type": "execute_result"
    }
   ],
   "source": [
    "y_test_predict"
   ]
  },
  {
   "cell_type": "code",
   "execution_count": 15,
   "metadata": {},
   "outputs": [
    {
     "data": {
      "text/plain": [
       "array([469000, 287000, 464500, 299000, 573900, 229900, 329999, 599000,\n",
       "       539900, 249900])"
      ]
     },
     "execution_count": 15,
     "metadata": {},
     "output_type": "execute_result"
    }
   ],
   "source": [
    "Y_test"
   ]
  },
  {
   "cell_type": "code",
   "execution_count": 16,
   "metadata": {},
   "outputs": [
    {
     "name": "stdout",
     "output_type": "stream",
     "text": [
      "10\n",
      "10\n"
     ]
    },
    {
     "data": {
      "image/png": "[encoded data removed]",
      "text/plain": [
       "<Figure size 432x288 with 1 Axes>"
      ]
     },
     "metadata": {
      "needs_background": "light"
     },
     "output_type": "display_data"
    }
   ],
   "source": [
    "# Our predictions\n",
    "plt.scatter(Y_test,y_test_predict)\n",
    "\n",
    "# Perfect predictions\n",
    "plt.plot(Y_test,Y_test,'r')\n",
    "plt.xlabel('True Values', fontsize=15)\n",
    "plt.ylabel('Predictions', fontsize=15)\n",
    "print(len(Y_test))\n",
    "print(len(y_test_predict))"
   ]
  },
  {
   "cell_type": "code",
   "execution_count": null,
   "metadata": {},
   "outputs": [],
   "source": []
  }
 ],
 "metadata": {
  "kernelspec": {
   "display_name": "Python 3",
   "language": "python",
   "name": "python3"
  },
  "language_info": {
   "codemirror_mode": {
    "name": "ipython",
    "version": 3
   },
   "file_extension": ".py",
   "mimetype": "text/x-python",
   "name": "python",
   "nbconvert_exporter": "python",
   "pygments_lexer": "ipython3",
   "version": "3.6.13"
  }
 },
 "nbformat": 4,
 "nbformat_minor": 2
}
