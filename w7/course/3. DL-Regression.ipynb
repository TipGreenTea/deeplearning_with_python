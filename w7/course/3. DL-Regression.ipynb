{
 "cells": [
  {
   "cell_type": "markdown",
   "metadata": {},
   "source": [
    "## 3. Deep Learning Problem: Regression\n",
    "### Ex 3: Predict House Price (Small Dataset)"
   ]
  },
  {
   "cell_type": "code",
   "execution_count": 9,
   "metadata": {},
   "outputs": [],
   "source": [
    "%matplotlib inline\n",
    "import matplotlib.pyplot as plt\n",
    "import pandas as pd\n",
    "import numpy as np\n",
    "from pandas import set_option\n",
    "\n",
    "\n",
    "# data analysis and wrangling\n",
    "import pandas as pd\n",
    "import numpy as np\n",
    "import random as rnd\n",
    "\n",
    "# visualization\n",
    "import seaborn as sns\n",
    "import matplotlib.pyplot as plt\n",
    "%matplotlib inline\n",
    "\n",
    "from sklearn.model_selection import train_test_split\n",
    "\n",
    "# machine learning\n",
    "from sklearn.linear_model import LinearRegression\n",
    "from sklearn.linear_model import Ridge\n",
    "from sklearn.linear_model import Lasso\n",
    "from sklearn.linear_model import ElasticNet\n",
    "from sklearn.tree import DecisionTreeRegressor\n",
    "from sklearn.svm import SVR\n",
    "\n",
    "#deep learning\n",
    "from sklearn.metrics import r2_score\n",
    "from sklearn.metrics import mean_squared_error\n",
    "from sklearn.metrics import mean_absolute_error"
   ]
  },
  {
   "cell_type": "markdown",
   "metadata": {},
   "source": [
    "create 2 variables called X and y: <br>\n",
    "X shall be a matrix with 3 columns (sqft,bdrms,age) <br>\n",
    "y shall be a vector with 1 column (price) <br>"
   ]
  },
  {
   "cell_type": "code",
   "execution_count": 3,
   "metadata": {},
   "outputs": [],
   "source": [
    "df = pd.read_csv('housing-data.csv')"
   ]
  },
  {
   "cell_type": "code",
   "execution_count": 4,
   "metadata": {},
   "outputs": [
    {
     "data": {
      "text/html": [
       "<div>\n",
       "<style scoped>\n",
       "    .dataframe tbody tr th:only-of-type {\n",
       "        vertical-align: middle;\n",
       "    }\n",
       "\n",
       "    .dataframe tbody tr th {\n",
       "        vertical-align: top;\n",
       "    }\n",
       "\n",
       "    .dataframe thead th {\n",
       "        text-align: right;\n",
       "    }\n",
       "</style>\n",
       "<table border=\"1\" class=\"dataframe\">\n",
       "  <thead>\n",
       "    <tr style=\"text-align: right;\">\n",
       "      <th></th>\n",
       "      <th>sqft</th>\n",
       "      <th>bdrms</th>\n",
       "      <th>age</th>\n",
       "      <th>price</th>\n",
       "    </tr>\n",
       "  </thead>\n",
       "  <tbody>\n",
       "    <tr>\n",
       "      <th>0</th>\n",
       "      <td>2104</td>\n",
       "      <td>3</td>\n",
       "      <td>70</td>\n",
       "      <td>399900</td>\n",
       "    </tr>\n",
       "    <tr>\n",
       "      <th>1</th>\n",
       "      <td>1600</td>\n",
       "      <td>3</td>\n",
       "      <td>28</td>\n",
       "      <td>329900</td>\n",
       "    </tr>\n",
       "    <tr>\n",
       "      <th>2</th>\n",
       "      <td>2400</td>\n",
       "      <td>3</td>\n",
       "      <td>44</td>\n",
       "      <td>369000</td>\n",
       "    </tr>\n",
       "    <tr>\n",
       "      <th>3</th>\n",
       "      <td>1416</td>\n",
       "      <td>2</td>\n",
       "      <td>49</td>\n",
       "      <td>232000</td>\n",
       "    </tr>\n",
       "    <tr>\n",
       "      <th>4</th>\n",
       "      <td>3000</td>\n",
       "      <td>4</td>\n",
       "      <td>75</td>\n",
       "      <td>539900</td>\n",
       "    </tr>\n",
       "  </tbody>\n",
       "</table>\n",
       "</div>"
      ],
      "text/plain": [
       "   sqft  bdrms  age   price\n",
       "0  2104      3   70  399900\n",
       "1  1600      3   28  329900\n",
       "2  2400      3   44  369000\n",
       "3  1416      2   49  232000\n",
       "4  3000      4   75  539900"
      ]
     },
     "execution_count": 4,
     "metadata": {},
     "output_type": "execute_result"
    }
   ],
   "source": [
    "df.head()"
   ]
  },
  {
   "cell_type": "code",
   "execution_count": 5,
   "metadata": {},
   "outputs": [
    {
     "data": {
      "text/plain": [
       "(47, 4)"
      ]
     },
     "execution_count": 5,
     "metadata": {},
     "output_type": "execute_result"
    }
   ],
   "source": [
    "df.shape"
   ]
  },
  {
   "cell_type": "code",
   "execution_count": 6,
   "metadata": {},
   "outputs": [
    {
     "data": {
      "image/png": "[encoded data removed]",
      "text/plain": [
       "<Figure size 432x288 with 4 Axes>"
      ]
     },
     "metadata": {
      "needs_background": "light"
     },
     "output_type": "display_data"
    }
   ],
   "source": [
    "df.hist()\n",
    "plt.show()"
   ]
  },
  {
   "cell_type": "code",
   "execution_count": 7,
   "metadata": {},
   "outputs": [],
   "source": [
    "from sklearn.preprocessing import MinMaxScaler\n",
    "array = df.values\n",
    "# separate array into input and output components\n",
    "X = array[:,0:3]\n",
    "Y = array[:,3]"
   ]
  },
  {
   "cell_type": "code",
   "execution_count": 8,
   "metadata": {},
   "outputs": [
    {
     "data": {
      "text/plain": [
       "array([[0.34528406, 0.5       , 0.87837838],\n",
       "       [0.20628792, 0.5       , 0.31081081],\n",
       "       [0.42691671, 0.5       , 0.52702703],\n",
       "       [0.1555433 , 0.25      , 0.59459459],\n",
       "       [0.59238831, 0.75      , 0.94594595],\n",
       "       [0.31246553, 0.75      , 0.75675676],\n",
       "       [0.18808605, 0.5       , 0.09459459],\n",
       "       [0.15857694, 0.5       , 0.7027027 ],\n",
       "       [0.145615  , 0.5       , 0.12162162],\n",
       "       [0.17705461, 0.5       , 0.13513514],\n",
       "       [0.30005516, 0.75      , 0.02702703],\n",
       "       [0.31660232, 0.5       , 0.2972973 ],\n",
       "       [0.28626586, 0.5       , 0.54054054],\n",
       "       [1.        , 1.        , 0.59459459],\n",
       "       [0.11472697, 0.5       , 0.71621622],\n",
       "       [0.39933811, 0.75      , 0.97297297],\n",
       "       [0.12906784, 0.25      , 0.77027027],\n",
       "       [0.10590182, 0.5       , 0.98648649],\n",
       "       [0.48455598, 0.75      , 0.        ],\n",
       "       [0.60093767, 0.75      , 0.21621622],\n",
       "       [0.25234418, 0.5       , 0.52702703],\n",
       "       [0.28571429, 0.25      , 1.        ],\n",
       "       [0.20739106, 0.5       , 0.10810811],\n",
       "       [0.30612245, 0.75      , 0.64864865],\n",
       "       [0.83783784, 0.5       , 0.41891892],\n",
       "       [0.06839493, 0.5       , 0.74324324],\n",
       "       [0.16712631, 0.5       , 0.32432432],\n",
       "       [0.46166575, 0.5       , 0.10810811],\n",
       "       [0.37175951, 0.5       , 0.31081081],\n",
       "       [0.49227799, 0.5       , 0.27027027],\n",
       "       [0.27220077, 0.25      , 0.47297297],\n",
       "       [0.04081633, 0.        , 0.        ],\n",
       "       [0.32763376, 0.75      , 0.94594595],\n",
       "       [0.63017099, 0.5       , 0.83783784],\n",
       "       [0.26447876, 0.75      , 0.25675676],\n",
       "       [0.1613348 , 0.5       , 0.60810811],\n",
       "       [0.10672918, 0.5       , 0.22972973],\n",
       "       [0.35300607, 0.75      , 0.31081081],\n",
       "       [0.92746828, 0.75      , 0.82432432],\n",
       "       [0.36127965, 0.75      , 0.51351351],\n",
       "       [0.22393822, 0.25      , 0.47297297],\n",
       "       [0.38223938, 0.5       , 0.43243243],\n",
       "       [0.47297297, 0.75      , 0.7027027 ],\n",
       "       [0.09597352, 0.5       , 0.95945946],\n",
       "       [0.        , 0.25      , 0.87837838],\n",
       "       [0.27578599, 0.75      , 0.7972973 ],\n",
       "       [0.09680088, 0.5       , 0.08108108]])"
      ]
     },
     "execution_count": 8,
     "metadata": {},
     "output_type": "execute_result"
    }
   ],
   "source": [
    "scaler = MinMaxScaler()\n",
    "rescaledX = scaler.fit_transform(X)\n",
    "X = rescaledX\n",
    "X"
   ]
  },
  {
   "cell_type": "code",
   "execution_count": 29,
   "metadata": {},
   "outputs": [
    {
     "name": "stdout",
     "output_type": "stream",
     "text": [
      "The model performance for testing set\n",
      "--------------------------------------\n",
      "MAE is 72373.38495240992\n",
      "RMSE is 92761.70337516276\n"
     ]
    }
   ],
   "source": [
    "X_train, X_test, Y_train, Y_test = train_test_split(X, Y, test_size=0.2,random_state=42)\n",
    "\n",
    "#Different Regression Machine Learning Methods\n",
    "lin_model = LinearRegression()\n",
    "#lin_model = Ridge()\n",
    "#lin_model = Lasso()\n",
    "#lin_model = ElasticNet()\n",
    "#lin_model = DecisionTreeRegressor()\n",
    "#lin_model = SVR()\n",
    "lin_model.fit(X_train, Y_train)\n",
    "\n",
    "# model evaluation for testing set\n",
    "y_test_predict = lin_model.predict(X_test)\n",
    "mae = mean_absolute_error(Y_test, y_test_predict)\n",
    "rmse = (np.sqrt(mean_squared_error(Y_test, y_test_predict)))\n",
    "r2 = r2_score(Y_test, y_test_predict)\n",
    "\n",
    "print(\"The model performance for testing set\")\n",
    "print(\"--------------------------------------\")\n",
    "print('MAE is {}'.format(mae))\n",
    "print('RMSE is {}'.format(rmse))"
   ]
  },
  {
   "cell_type": "code",
   "execution_count": 30,
   "metadata": {},
   "outputs": [],
   "source": [
    "#Visualize the Predicted Price VS. the Actual Price\n",
    "#df = pd.DataFrame({'Actual': Y_test, 'Predicted': y_test_predict})\n",
    "#df.plot(kind='line',figsize=(18,8))\n",
    "#plt.grid(which='major', linestyle='-', linewidth='0.5', color='green')\n",
    "#plt.grid(which='minor', linestyle=':', linewidth='0.5', color='black')\n",
    "#plt.show()"
   ]
  },
  {
   "cell_type": "code",
   "execution_count": 31,
   "metadata": {},
   "outputs": [
    {
     "name": "stdout",
     "output_type": "stream",
     "text": [
      "10\n",
      "10\n"
     ]
    },
    {
     "data": {
      "image/png": "[encoded data removed]",
      "text/plain": [
       "<Figure size 432x288 with 1 Axes>"
      ]
     },
     "metadata": {
      "needs_background": "light"
     },
     "output_type": "display_data"
    }
   ],
   "source": [
    "# Our predictions\n",
    "plt.scatter(Y_test,y_test_predict)\n",
    "\n",
    "# Perfect predictions\n",
    "plt.plot(Y_test,Y_test,'r')\n",
    "print(len(Y_test))\n",
    "print(len(y_test_predict))"
   ]
  },
  {
   "cell_type": "markdown",
   "metadata": {},
   "source": [
    "### Deep Learning Model"
   ]
  },
  {
   "cell_type": "code",
   "execution_count": 50,
   "metadata": {},
   "outputs": [
    {
     "name": "stdout",
     "output_type": "stream",
     "text": [
      "Epoch 1/200\n",
      "24/24 [==============================] - 1s 8ms/step - loss: 123922793431.0400 - val_loss: 113054277632.0000\n",
      "Epoch 2/200\n",
      "24/24 [==============================] - 0s 3ms/step - loss: 126692039393.2800 - val_loss: 113053876224.0000\n",
      "Epoch 3/200\n",
      "24/24 [==============================] - 0s 4ms/step - loss: 112130091417.6000 - val_loss: 113053229056.0000\n",
      "Epoch 4/200\n",
      "24/24 [==============================] - 0s 4ms/step - loss: 127433389506.5600 - val_loss: 113052123136.0000\n",
      "Epoch 5/200\n",
      "24/24 [==============================] - 0s 3ms/step - loss: 150454368993.2800 - val_loss: 113050083328.0000\n",
      "Epoch 6/200\n",
      "24/24 [==============================] - 0s 4ms/step - loss: 132537632358.4000 - val_loss: 113046765568.0000\n",
      "Epoch 7/200\n",
      "24/24 [==============================] - 0s 10ms/step - loss: 139498039869.4400 - val_loss: 113041006592.0000\n",
      "Epoch 8/200\n",
      "24/24 [==============================] - 0s 3ms/step - loss: 92791649566.7200 - val_loss: 113032110080.0000\n",
      "Epoch 9/200\n",
      "24/24 [==============================] - 0s 3ms/step - loss: 130950624378.8800 - val_loss: 113017954304.0000\n",
      "Epoch 10/200\n",
      "24/24 [==============================] - 0s 3ms/step - loss: 107491387637.7600 - val_loss: 112998612992.0000\n",
      "Epoch 11/200\n",
      "24/24 [==============================] - 0s 3ms/step - loss: 114533968117.7600 - val_loss: 112969424896.0000\n",
      "Epoch 12/200\n",
      "24/24 [==============================] - 0s 3ms/step - loss: 131320332288.0000 - val_loss: 112931160064.0000\n",
      "Epoch 13/200\n",
      "24/24 [==============================] - 0s 5ms/step - loss: 127967276236.8000 - val_loss: 112880836608.0000\n",
      "Epoch 14/200\n",
      "24/24 [==============================] - 0s 4ms/step - loss: 102981651660.8000 - val_loss: 112815652864.0000\n",
      "Epoch 15/200\n",
      "24/24 [==============================] - 0s 5ms/step - loss: 96662022062.0800 - val_loss: 112731209728.0000\n",
      "Epoch 16/200\n",
      "24/24 [==============================] - 0s 6ms/step - loss: 101548766330.8800 - val_loss: 112623501312.0000\n",
      "Epoch 17/200\n",
      "24/24 [==============================] - 0s 4ms/step - loss: 152676136550.4000 - val_loss: 112491986944.0000\n",
      "Epoch 18/200\n",
      "24/24 [==============================] - 0s 3ms/step - loss: 95162605895.6800 - val_loss: 112342597632.0000\n",
      "Epoch 19/200\n",
      "24/24 [==============================] - 0s 4ms/step - loss: 130882549432.3200 - val_loss: 112150609920.0000\n",
      "Epoch 20/200\n",
      "24/24 [==============================] - 0s 4ms/step - loss: 129255485931.5200 - val_loss: 111931088896.0000\n",
      "Epoch 21/200\n",
      "24/24 [==============================] - 0s 3ms/step - loss: 110474357309.4400 - val_loss: 111689809920.0000\n",
      "Epoch 22/200\n",
      "24/24 [==============================] - 0s 3ms/step - loss: 105775036989.4400 - val_loss: 111402106880.0000\n",
      "Epoch 23/200\n",
      "24/24 [==============================] - 0s 3ms/step - loss: 118507443978.2400 - val_loss: 111055790080.0000\n",
      "Epoch 24/200\n",
      "24/24 [==============================] - 0s 4ms/step - loss: 140338317230.0800 - val_loss: 110679080960.0000\n",
      "Epoch 25/200\n",
      "24/24 [==============================] - 0s 3ms/step - loss: 105555594444.8000 - val_loss: 110256676864.0000\n",
      "Epoch 26/200\n",
      "24/24 [==============================] - 0s 3ms/step - loss: 98892714147.8400 - val_loss: 109792075776.0000\n",
      "Epoch 27/200\n",
      "24/24 [==============================] - 0s 4ms/step - loss: 123571316162.5600 - val_loss: 109219528704.0000\n",
      "Epoch 28/200\n",
      "24/24 [==============================] - 0s 3ms/step - loss: 118506814504.9600 - val_loss: 108645629952.0000\n",
      "Epoch 29/200\n",
      "24/24 [==============================] - 0s 3ms/step - loss: 105140073922.5600 - val_loss: 107991744512.0000\n",
      "Epoch 30/200\n",
      "24/24 [==============================] - 0s 4ms/step - loss: 137520978984.9600 - val_loss: 107245330432.0000\n",
      "Epoch 31/200\n",
      "24/24 [==============================] - 0s 3ms/step - loss: 111021873233.9200 - val_loss: 106473906176.0000\n",
      "Epoch 32/200\n",
      "24/24 [==============================] - 0s 3ms/step - loss: 108324685824.0000 - val_loss: 105618243584.0000\n",
      "Epoch 33/200\n",
      "24/24 [==============================] - 0s 4ms/step - loss: 122350172569.6000 - val_loss: 104702771200.0000\n",
      "Epoch 34/200\n",
      "24/24 [==============================] - 0s 3ms/step - loss: 110238565662.7200 - val_loss: 103682220032.0000\n",
      "Epoch 35/200\n",
      "24/24 [==============================] - 0s 4ms/step - loss: 86905612533.7600 - val_loss: 102706085888.0000\n",
      "Epoch 36/200\n",
      "24/24 [==============================] - 0s 4ms/step - loss: 117939540951.0400 - val_loss: 101481742336.0000\n",
      "Epoch 37/200\n",
      "24/24 [==============================] - 0s 4ms/step - loss: 127039842549.7600 - val_loss: 100200906752.0000\n",
      "Epoch 38/200\n",
      "24/24 [==============================] - 0s 3ms/step - loss: 95097313525.7600 - val_loss: 98942885888.0000\n",
      "Epoch 39/200\n",
      "24/24 [==============================] - 0s 3ms/step - loss: 83139702292.4800 - val_loss: 97630937088.0000\n",
      "Epoch 40/200\n",
      "24/24 [==============================] - 0s 3ms/step - loss: 91872979025.9200 - val_loss: 96058245120.0000\n",
      "Epoch 41/200\n",
      "24/24 [==============================] - 0s 3ms/step - loss: 108785817026.5600 - val_loss: 94542454784.0000\n",
      "Epoch 42/200\n",
      "24/24 [==============================] - 0s 3ms/step - loss: 121102570946.5600 - val_loss: 92847865856.0000\n",
      "Epoch 43/200\n",
      "24/24 [==============================] - 0s 3ms/step - loss: 81601901527.0400 - val_loss: 91262148608.0000\n",
      "Epoch 44/200\n",
      "24/24 [==============================] - 0s 3ms/step - loss: 95365693112.3200 - val_loss: 89441222656.0000\n",
      "Epoch 45/200\n",
      "24/24 [==============================] - 0s 3ms/step - loss: 129313834926.0800 - val_loss: 87539810304.0000\n",
      "Epoch 46/200\n",
      "24/24 [==============================] - 0s 3ms/step - loss: 90337414512.6400 - val_loss: 85566603264.0000\n",
      "Epoch 47/200\n",
      "24/24 [==============================] - 0s 3ms/step - loss: 107078764789.7600 - val_loss: 83552059392.0000\n",
      "Epoch 48/200\n",
      "24/24 [==============================] - 0s 3ms/step - loss: 103412715192.3200 - val_loss: 81471389696.0000\n",
      "Epoch 49/200\n",
      "24/24 [==============================] - 0s 3ms/step - loss: 100240660561.9200 - val_loss: 79403368448.0000\n",
      "Epoch 50/200\n",
      "24/24 [==============================] - 0s 3ms/step - loss: 69568316538.8800 - val_loss: 77335756800.0000\n",
      "Epoch 51/200\n",
      "24/24 [==============================] - 0s 3ms/step - loss: 78878157946.8800 - val_loss: 74995802112.0000\n",
      "Epoch 52/200\n",
      "24/24 [==============================] - 0s 3ms/step - loss: 63145025699.8400 - val_loss: 72824840192.0000\n",
      "Epoch 53/200\n",
      "24/24 [==============================] - 0s 8ms/step - loss: 92819354091.5200 - val_loss: 70371860480.0000\n",
      "Epoch 54/200\n",
      "24/24 [==============================] - 0s 4ms/step - loss: 78890738155.5200 - val_loss: 68106215424.0000\n",
      "Epoch 55/200\n",
      "24/24 [==============================] - 0s 3ms/step - loss: 56037415976.9600 - val_loss: 65719459840.0000\n",
      "Epoch 56/200\n",
      "24/24 [==============================] - 0s 3ms/step - loss: 52672872120.3200 - val_loss: 63322689536.0000\n",
      "Epoch 57/200\n",
      "24/24 [==============================] - 0s 3ms/step - loss: 76809889054.7200 - val_loss: 60844650496.0000\n",
      "Epoch 58/200\n",
      "24/24 [==============================] - 0s 3ms/step - loss: 77398198353.9200 - val_loss: 58304937984.0000\n",
      "Epoch 59/200\n",
      "24/24 [==============================] - 0s 3ms/step - loss: 62872594186.2400 - val_loss: 55970701312.0000\n",
      "Epoch 60/200\n",
      "24/24 [==============================] - 0s 3ms/step - loss: 50736057712.6400 - val_loss: 53704880128.0000\n",
      "Epoch 61/200\n",
      "24/24 [==============================] - 0s 3ms/step - loss: 51351101276.1600 - val_loss: 51135782912.0000\n",
      "Epoch 62/200\n",
      "24/24 [==============================] - 0s 3ms/step - loss: 36078164008.9600 - val_loss: 48918278144.0000\n",
      "Epoch 63/200\n",
      "24/24 [==============================] - 0s 3ms/step - loss: 43878407782.4000 - val_loss: 46455107584.0000\n",
      "Epoch 64/200\n",
      "24/24 [==============================] - 0s 3ms/step - loss: 45294490501.1200 - val_loss: 44104753152.0000\n",
      "Epoch 65/200\n",
      "24/24 [==============================] - 0s 3ms/step - loss: 47775647375.3600 - val_loss: 41754054656.0000\n",
      "Epoch 66/200\n",
      "24/24 [==============================] - 0s 3ms/step - loss: 46807468851.2000 - val_loss: 39587098624.0000\n",
      "Epoch 67/200\n",
      "24/24 [==============================] - 0s 3ms/step - loss: 38416627957.7600 - val_loss: 37504716800.0000\n",
      "Epoch 68/200\n"
     ]
    },
    {
     "name": "stdout",
     "output_type": "stream",
     "text": [
      "24/24 [==============================] - 0s 3ms/step - loss: 40016605429.7600 - val_loss: 35462295552.0000\n",
      "Epoch 69/200\n",
      "24/24 [==============================] - 0s 4ms/step - loss: 38398952366.0800 - val_loss: 33392494592.0000\n",
      "Epoch 70/200\n",
      "24/24 [==============================] - 0s 3ms/step - loss: 27232279961.6000 - val_loss: 31560497152.0000\n",
      "Epoch 71/200\n",
      "24/24 [==============================] - 0s 3ms/step - loss: 39081963847.6800 - val_loss: 29587154944.0000\n",
      "Epoch 72/200\n",
      "24/24 [==============================] - 0s 3ms/step - loss: 47689655275.5200 - val_loss: 27807688704.0000\n",
      "Epoch 73/200\n",
      "24/24 [==============================] - 0s 3ms/step - loss: 23397703454.7200 - val_loss: 26434525184.0000\n",
      "Epoch 74/200\n",
      "24/24 [==============================] - 0s 3ms/step - loss: 15586561034.2400 - val_loss: 24861497344.0000\n",
      "Epoch 75/200\n",
      "24/24 [==============================] - 0s 3ms/step - loss: 22456375091.2000 - val_loss: 23226986496.0000\n",
      "Epoch 76/200\n",
      "24/24 [==============================] - 0s 3ms/step - loss: 25196288081.9200 - val_loss: 21881337856.0000\n",
      "Epoch 77/200\n",
      "24/24 [==============================] - 0s 3ms/step - loss: 27025695866.8800 - val_loss: 20548581376.0000\n",
      "Epoch 78/200\n",
      "24/24 [==============================] - 0s 3ms/step - loss: 21864345313.2800 - val_loss: 19330560000.0000\n",
      "Epoch 79/200\n",
      "24/24 [==============================] - 0s 3ms/step - loss: 27928949635.8400 - val_loss: 18243274752.0000\n",
      "Epoch 80/200\n",
      "24/24 [==============================] - 0s 3ms/step - loss: 18507718220.8000 - val_loss: 17322002432.0000\n",
      "Epoch 81/200\n",
      "24/24 [==============================] - 0s 3ms/step - loss: 14478158074.8800 - val_loss: 16375917568.0000\n",
      "Epoch 82/200\n",
      "24/24 [==============================] - 0s 3ms/step - loss: 17645674777.6000 - val_loss: 15551900672.0000\n",
      "Epoch 83/200\n",
      "24/24 [==============================] - 0s 3ms/step - loss: 12529420779.5200 - val_loss: 14851468288.0000\n",
      "Epoch 84/200\n",
      "24/24 [==============================] - 0s 3ms/step - loss: 27848567685.1200 - val_loss: 14085177344.0000\n",
      "Epoch 85/200\n",
      "24/24 [==============================] - 0s 3ms/step - loss: 9649607356.1600 - val_loss: 13577290752.0000\n",
      "Epoch 86/200\n",
      "24/24 [==============================] - 0s 3ms/step - loss: 10764444098.5600 - val_loss: 13008140288.0000\n",
      "Epoch 87/200\n",
      "24/24 [==============================] - 0s 3ms/step - loss: 9298616360.9600 - val_loss: 12544072704.0000\n",
      "Epoch 88/200\n",
      "24/24 [==============================] - 0s 3ms/step - loss: 7228742430.7200 - val_loss: 12114655232.0000\n",
      "Epoch 89/200\n",
      "24/24 [==============================] - 0s 3ms/step - loss: 9490146073.6000 - val_loss: 11730401280.0000\n",
      "Epoch 90/200\n",
      "24/24 [==============================] - 0s 3ms/step - loss: 12564959539.2000 - val_loss: 11356000256.0000\n",
      "Epoch 91/200\n",
      "24/24 [==============================] - 0s 3ms/step - loss: 15482543841.2800 - val_loss: 11096571904.0000\n",
      "Epoch 92/200\n",
      "24/24 [==============================] - 0s 3ms/step - loss: 10929020646.4000 - val_loss: 10863192064.0000\n",
      "Epoch 93/200\n",
      "24/24 [==============================] - 0s 3ms/step - loss: 9848669096.6400 - val_loss: 10660960256.0000\n",
      "Epoch 94/200\n",
      "24/24 [==============================] - 0s 3ms/step - loss: 8222230855.6800 - val_loss: 10528363520.0000\n",
      "Epoch 95/200\n",
      "24/24 [==============================] - 0s 3ms/step - loss: 10220519813.1200 - val_loss: 10387308544.0000\n",
      "Epoch 96/200\n",
      "24/24 [==============================] - 0s 3ms/step - loss: 9931932385.2800 - val_loss: 10240828416.0000\n",
      "Epoch 97/200\n",
      "24/24 [==============================] - 0s 3ms/step - loss: 11414649241.6000 - val_loss: 10131733504.0000\n",
      "Epoch 98/200\n",
      "24/24 [==============================] - 0s 3ms/step - loss: 4734468454.4000 - val_loss: 10079492096.0000\n",
      "Epoch 99/200\n",
      "24/24 [==============================] - 0s 3ms/step - loss: 7819702589.4400 - val_loss: 9995618304.0000\n",
      "Epoch 100/200\n",
      "24/24 [==============================] - 0s 3ms/step - loss: 8557364039.6800 - val_loss: 9942716416.0000\n",
      "Epoch 101/200\n",
      "24/24 [==============================] - 0s 8ms/step - loss: 6951292405.7600 - val_loss: 9889689600.0000\n",
      "Epoch 102/200\n",
      "24/24 [==============================] - 0s 3ms/step - loss: 6010818611.2000 - val_loss: 9866442752.0000\n",
      "Epoch 103/200\n",
      "24/24 [==============================] - 0s 3ms/step - loss: 4798920427.5200 - val_loss: 9838801920.0000\n",
      "Epoch 104/200\n",
      "24/24 [==============================] - 0s 3ms/step - loss: 10197759613.4400 - val_loss: 9802307584.0000\n",
      "Epoch 105/200\n",
      "24/24 [==============================] - 0s 3ms/step - loss: 6612104591.3600 - val_loss: 9786014720.0000\n",
      "Epoch 106/200\n",
      "24/24 [==============================] - 0s 3ms/step - loss: 8183966289.9200 - val_loss: 9775242240.0000\n",
      "Epoch 107/200\n",
      "24/24 [==============================] - 0s 3ms/step - loss: 7695040653.9200 - val_loss: 9766779904.0000\n",
      "Epoch 108/200\n",
      "24/24 [==============================] - 0s 3ms/step - loss: 7977808194.0800 - val_loss: 9760917504.0000\n",
      "Epoch 109/200\n",
      "24/24 [==============================] - 0s 3ms/step - loss: 7628806758.4000 - val_loss: 9758223360.0000\n",
      "Epoch 110/200\n",
      "24/24 [==============================] - 0s 3ms/step - loss: 4512420812.8000 - val_loss: 9753978880.0000\n",
      "Epoch 111/200\n",
      "24/24 [==============================] - 0s 4ms/step - loss: 5652849909.7600 - val_loss: 9754639360.0000\n",
      "Epoch 112/200\n",
      "24/24 [==============================] - 0s 3ms/step - loss: 10992204871.6800 - val_loss: 9750939648.0000\n",
      "Epoch 113/200\n",
      "24/24 [==============================] - 0s 3ms/step - loss: 5650842281.6000 - val_loss: 9752325120.0000\n",
      "Epoch 114/200\n",
      "24/24 [==============================] - 0s 3ms/step - loss: 6151659706.2400 - val_loss: 9744867328.0000\n",
      "Epoch 115/200\n",
      "24/24 [==============================] - 0s 3ms/step - loss: 5538015334.4000 - val_loss: 9753536512.0000\n",
      "Epoch 116/200\n",
      "24/24 [==============================] - 0s 3ms/step - loss: 7320903208.9600 - val_loss: 9746988032.0000\n",
      "Epoch 117/200\n",
      "24/24 [==============================] - 0s 3ms/step - loss: 7020817840.6400 - val_loss: 9747252224.0000\n",
      "Epoch 118/200\n",
      "24/24 [==============================] - 0s 4ms/step - loss: 5948590760.9600 - val_loss: 9757079552.0000\n",
      "Epoch 119/200\n",
      "24/24 [==============================] - 0s 3ms/step - loss: 7557349621.7600 - val_loss: 9758792704.0000\n",
      "Epoch 120/200\n",
      "24/24 [==============================] - 0s 3ms/step - loss: 15568835358.7200 - val_loss: 9759489024.0000\n",
      "Epoch 121/200\n",
      "24/24 [==============================] - 0s 3ms/step - loss: 10832152463.3600 - val_loss: 9761177600.0000\n",
      "Epoch 122/200\n",
      "24/24 [==============================] - 0s 4ms/step - loss: 5237217300.4800 - val_loss: 9753038848.0000\n",
      "Epoch 123/200\n",
      "24/24 [==============================] - 0s 4ms/step - loss: 10066002603.5200 - val_loss: 9763569664.0000\n",
      "Epoch 124/200\n",
      "24/24 [==============================] - 0s 3ms/step - loss: 6794542827.5200 - val_loss: 9746142208.0000\n",
      "Epoch 125/200\n",
      "24/24 [==============================] - 0s 3ms/step - loss: 6452723133.4400 - val_loss: 9733260288.0000\n",
      "Epoch 126/200\n",
      "24/24 [==============================] - 0s 4ms/step - loss: 6199497574.4000 - val_loss: 9733060608.0000\n",
      "Epoch 127/200\n",
      "24/24 [==============================] - 0s 3ms/step - loss: 5673416540.1600 - val_loss: 9727187968.0000\n",
      "Epoch 128/200\n",
      "24/24 [==============================] - 0s 3ms/step - loss: 10115958696.9600 - val_loss: 9738268672.0000\n",
      "Epoch 129/200\n",
      "24/24 [==============================] - 0s 4ms/step - loss: 8912799211.5200 - val_loss: 9726923776.0000\n",
      "Epoch 130/200\n",
      "24/24 [==============================] - 0s 3ms/step - loss: 6886767056.9600 - val_loss: 9744239616.0000\n",
      "Epoch 131/200\n",
      "24/24 [==============================] - 0s 4ms/step - loss: 11258509554.2400 - val_loss: 9734996992.0000\n",
      "Epoch 132/200\n",
      "24/24 [==============================] - 0s 4ms/step - loss: 5896911349.7600 - val_loss: 9728615424.0000\n",
      "Epoch 133/200\n",
      "24/24 [==============================] - 0s 4ms/step - loss: 7273478108.1600 - val_loss: 9725508608.0000\n",
      "Epoch 134/200\n",
      "24/24 [==============================] - 0s 3ms/step - loss: 4121411240.9600 - val_loss: 9701190656.0000\n",
      "Epoch 135/200\n",
      "24/24 [==============================] - 0s 3ms/step - loss: 8906281758.7200 - val_loss: 9704778752.0000\n",
      "Epoch 136/200\n"
     ]
    },
    {
     "name": "stdout",
     "output_type": "stream",
     "text": [
      "24/24 [==============================] - 0s 4ms/step - loss: 8208580991.3600 - val_loss: 9711473664.0000\n",
      "Epoch 137/200\n",
      "24/24 [==============================] - 0s 3ms/step - loss: 6193480089.6000 - val_loss: 9697313792.0000\n",
      "Epoch 138/200\n",
      "24/24 [==============================] - 0s 3ms/step - loss: 4864381726.4000 - val_loss: 9704784896.0000\n",
      "Epoch 139/200\n",
      "24/24 [==============================] - 0s 3ms/step - loss: 9125231293.4400 - val_loss: 9694446592.0000\n",
      "Epoch 140/200\n",
      "24/24 [==============================] - 0s 3ms/step - loss: 10243008496.6400 - val_loss: 9717471232.0000\n",
      "Epoch 141/200\n",
      "24/24 [==============================] - 0s 3ms/step - loss: 4709285688.3200 - val_loss: 9679513600.0000\n",
      "Epoch 142/200\n",
      "24/24 [==============================] - 0s 3ms/step - loss: 5632228474.8800 - val_loss: 9677942784.0000\n",
      "Epoch 143/200\n",
      "24/24 [==============================] - 0s 3ms/step - loss: 7151235097.6000 - val_loss: 9684231168.0000\n",
      "Epoch 144/200\n",
      "24/24 [==============================] - 0s 3ms/step - loss: 6222280478.7200 - val_loss: 9661600768.0000\n",
      "Epoch 145/200\n",
      "24/24 [==============================] - 0s 3ms/step - loss: 8250071274.2400 - val_loss: 9653032960.0000\n",
      "Epoch 146/200\n",
      "24/24 [==============================] - 0s 3ms/step - loss: 8153011411.2000 - val_loss: 9658546176.0000\n",
      "Epoch 147/200\n",
      "24/24 [==============================] - 0s 3ms/step - loss: 6447153909.7600 - val_loss: 9650152448.0000\n",
      "Epoch 148/200\n",
      "24/24 [==============================] - 0s 3ms/step - loss: 7510946242.5600 - val_loss: 9616614400.0000\n",
      "Epoch 149/200\n",
      "24/24 [==============================] - 0s 7ms/step - loss: 4882765772.8000 - val_loss: 9611094016.0000\n",
      "Epoch 150/200\n",
      "24/24 [==============================] - 0s 3ms/step - loss: 7772829736.9600 - val_loss: 9613703168.0000\n",
      "Epoch 151/200\n",
      "24/24 [==============================] - 0s 3ms/step - loss: 9895837347.8400 - val_loss: 9622925312.0000\n",
      "Epoch 152/200\n",
      "24/24 [==============================] - 0s 3ms/step - loss: 9214532766.7200 - val_loss: 9629245440.0000\n",
      "Epoch 153/200\n",
      "24/24 [==============================] - 0s 3ms/step - loss: 7678368752.6400 - val_loss: 9595668480.0000\n",
      "Epoch 154/200\n",
      "24/24 [==============================] - 0s 3ms/step - loss: 8636000680.9600 - val_loss: 9618941952.0000\n",
      "Epoch 155/200\n",
      "24/24 [==============================] - 0s 3ms/step - loss: 6363961774.0800 - val_loss: 9610004480.0000\n",
      "Epoch 156/200\n",
      "24/24 [==============================] - 0s 3ms/step - loss: 4698616237.7600 - val_loss: 9573431296.0000\n",
      "Epoch 157/200\n",
      "24/24 [==============================] - 0s 3ms/step - loss: 8538115539.2000 - val_loss: 9584490496.0000\n",
      "Epoch 158/200\n",
      "24/24 [==============================] - 0s 3ms/step - loss: 3812879261.1200 - val_loss: 9579563008.0000\n",
      "Epoch 159/200\n",
      "24/24 [==============================] - 0s 3ms/step - loss: 8229394033.9200 - val_loss: 9559388160.0000\n",
      "Epoch 160/200\n",
      "24/24 [==============================] - 0s 3ms/step - loss: 9855575818.2400 - val_loss: 9574382592.0000\n",
      "Epoch 161/200\n",
      "24/24 [==============================] - 0s 3ms/step - loss: 6980724469.7600 - val_loss: 9538920448.0000\n",
      "Epoch 162/200\n",
      "24/24 [==============================] - 0s 3ms/step - loss: 6761763549.9400 - val_loss: 9568729088.0000\n",
      "Epoch 163/200\n",
      "24/24 [==============================] - 0s 3ms/step - loss: 7227695925.7600 - val_loss: 9562748928.0000\n",
      "Epoch 164/200\n",
      "24/24 [==============================] - 0s 3ms/step - loss: 10319297515.5200 - val_loss: 9541475328.0000\n",
      "Epoch 165/200\n",
      "24/24 [==============================] - 0s 3ms/step - loss: 5567366111.3600 - val_loss: 9560626176.0000\n",
      "Epoch 166/200\n",
      "24/24 [==============================] - 0s 3ms/step - loss: 9327153886.7200 - val_loss: 9532056576.0000\n",
      "Epoch 167/200\n",
      "24/24 [==============================] - 0s 4ms/step - loss: 5599406392.3200 - val_loss: 9500002304.0000\n",
      "Epoch 168/200\n",
      "24/24 [==============================] - 0s 4ms/step - loss: 7954644172.8000 - val_loss: 9500071936.0000\n",
      "Epoch 169/200\n",
      "24/24 [==============================] - 0s 3ms/step - loss: 7862165811.2000 - val_loss: 9490914304.0000\n",
      "Epoch 170/200\n",
      "24/24 [==============================] - 0s 3ms/step - loss: 6278032954.8800 - val_loss: 9505085440.0000\n",
      "Epoch 171/200\n",
      "24/24 [==============================] - 0s 3ms/step - loss: 7016908840.9600 - val_loss: 9467652096.0000\n",
      "Epoch 172/200\n",
      "24/24 [==============================] - 0s 3ms/step - loss: 5728990509.4400 - val_loss: 9479111680.0000\n",
      "Epoch 173/200\n",
      "24/24 [==============================] - 0s 4ms/step - loss: 6267274732.8000 - val_loss: 9488647168.0000\n",
      "Epoch 174/200\n",
      "24/24 [==============================] - 0s 3ms/step - loss: 5125378403.8400 - val_loss: 9476111360.0000\n",
      "Epoch 175/200\n",
      "24/24 [==============================] - 0s 3ms/step - loss: 5487310141.4400 - val_loss: 9488924672.0000\n",
      "Epoch 176/200\n",
      "24/24 [==============================] - 0s 3ms/step - loss: 6808700776.9600 - val_loss: 9473946624.0000\n",
      "Epoch 177/200\n",
      "24/24 [==============================] - 0s 3ms/step - loss: 6858679951.3600 - val_loss: 9455515648.0000\n",
      "Epoch 178/200\n",
      "24/24 [==============================] - 0s 4ms/step - loss: 5132425668.4800 - val_loss: 9450164224.0000\n",
      "Epoch 179/200\n",
      "24/24 [==============================] - 0s 4ms/step - loss: 4421335710.7200 - val_loss: 9450241024.0000\n",
      "Epoch 180/200\n",
      "24/24 [==============================] - 0s 3ms/step - loss: 10284956528.6400 - val_loss: 9441256448.0000\n",
      "Epoch 181/200\n",
      "24/24 [==============================] - 0s 3ms/step - loss: 3816193530.8800 - val_loss: 9435128832.0000\n",
      "Epoch 182/200\n",
      "24/24 [==============================] - 0s 3ms/step - loss: 8292762848.0000 - val_loss: 9403100160.0000\n",
      "Epoch 183/200\n",
      "24/24 [==============================] - 0s 3ms/step - loss: 4662667494.4000 - val_loss: 9390373888.0000\n",
      "Epoch 184/200\n",
      "24/24 [==============================] - 0s 3ms/step - loss: 6645389612.8000 - val_loss: 9432718336.0000\n",
      "Epoch 185/200\n",
      "24/24 [==============================] - 0s 3ms/step - loss: 8049703239.6800 - val_loss: 9418223616.0000\n",
      "Epoch 186/200\n",
      "24/24 [==============================] - 0s 3ms/step - loss: 5658411613.4400 - val_loss: 9409189888.0000\n",
      "Epoch 187/200\n",
      "24/24 [==============================] - 0s 3ms/step - loss: 7648351970.5600 - val_loss: 9392211968.0000\n",
      "Epoch 188/200\n",
      "24/24 [==============================] - 0s 3ms/step - loss: 7390353710.4000 - val_loss: 9394817024.0000\n",
      "Epoch 189/200\n",
      "24/24 [==============================] - 0s 3ms/step - loss: 12793101045.7600 - val_loss: 9397552128.0000\n",
      "Epoch 190/200\n",
      "24/24 [==============================] - 0s 4ms/step - loss: 9110687319.0400 - val_loss: 9364199424.0000\n",
      "Epoch 191/200\n",
      "24/24 [==============================] - 0s 4ms/step - loss: 6872111196.1600 - val_loss: 9350030336.0000\n",
      "Epoch 192/200\n",
      "24/24 [==============================] - 0s 3ms/step - loss: 10009018593.2800 - val_loss: 9370139648.0000\n",
      "Epoch 193/200\n",
      "24/24 [==============================] - 0s 3ms/step - loss: 7009511787.5200 - val_loss: 9330020352.0000\n",
      "Epoch 194/200\n",
      "24/24 [==============================] - 0s 3ms/step - loss: 12024706887.6800 - val_loss: 9355099136.0000\n",
      "Epoch 195/200\n",
      "24/24 [==============================] - 0s 3ms/step - loss: 10825633218.5600 - val_loss: 9340192768.0000\n",
      "Epoch 196/200\n",
      "24/24 [==============================] - 0s 4ms/step - loss: 8764076592.6400 - val_loss: 9317748736.0000\n",
      "Epoch 197/200\n",
      "24/24 [==============================] - 0s 8ms/step - loss: 8823372748.8000 - val_loss: 9315537920.0000\n",
      "Epoch 198/200\n",
      "24/24 [==============================] - 0s 3ms/step - loss: 6963201423.3600 - val_loss: 9284467712.0000\n",
      "Epoch 199/200\n",
      "24/24 [==============================] - 0s 3ms/step - loss: 8417448632.3200 - val_loss: 9298281472.0000\n",
      "Epoch 200/200\n",
      "24/24 [==============================] - 0s 3ms/step - loss: 7039483842.5600 - val_loss: 9309932544.0000\n",
      "dict_keys(['loss', 'val_loss'])\n"
     ]
    },
    {
     "data": {
      "image/png": "[encoded data removed]",
      "text/plain": [
       "<Figure size 432x288 with 1 Axes>"
      ]
     },
     "metadata": {
      "needs_background": "light"
     },
     "output_type": "display_data"
    }
   ],
   "source": [
    "from keras.models import Sequential\n",
    "from keras.layers import Dense\n",
    "# define the keras model\n",
    "model = Sequential()\n",
    "model.add(Dense(32, input_dim=3, activation='relu'))\n",
    "model.add(Dense(16, activation='relu'))\n",
    "model.add(Dense(8, activation='relu'))\n",
    "model.add(Dense(1))  #activation='linear'\n",
    "\n",
    "# compile the keras model\n",
    "model.compile(loss='mse', optimizer='adam')\n",
    "\n",
    "#3. with validation loss --> history graph  (Learning Curves to Diagnose Machine Learning Model Performance slide)\n",
    "history = model.fit(X_train, Y_train, epochs=200, batch_size=1, validation_split=0.33)\n",
    "# list all data in history\n",
    "print(history.history.keys())\n",
    "# summarize history for loss\n",
    "plt.plot(history.history['loss'])\n",
    "plt.plot(history.history['val_loss'])\n",
    "plt.title('model loss')\n",
    "plt.ylabel('loss')\n",
    "plt.xlabel('epoch')\n",
    "plt.legend(['train', 'test'], loc='upper left')\n",
    "plt.show()"
   ]
  },
  {
   "cell_type": "code",
   "execution_count": 51,
   "metadata": {},
   "outputs": [
    {
     "name": "stdout",
     "output_type": "stream",
     "text": [
      "WARNING:tensorflow:9 out of the last 9 calls to <function Model.make_predict_function.<locals>.predict_function at 0x1580238c8> triggered tf.function retracing. Tracing is expensive and the excessive number of tracings could be due to (1) creating @tf.function repeatedly in a loop, (2) passing tensors with different shapes, (3) passing Python objects instead of tensors. For (1), please define your @tf.function outside of the loop. For (2), @tf.function has experimental_relax_shapes=True option that relaxes argument shapes that can avoid unnecessary retracing. For (3), please refer to https://www.tensorflow.org/guide/function#controlling_retracing and https://www.tensorflow.org/api_docs/python/tf/function for  more details.\n",
      "The model performance for testing set\n",
      "--------------------------------------\n",
      "MAE is 111547.0625\n",
      "RMSE is 133662.29109325723\n"
     ]
    }
   ],
   "source": [
    "# model evaluation for testing set\n",
    "y_test_predict = model.predict(X_test)\n",
    "mae = mean_absolute_error(Y_test, y_test_predict)\n",
    "rmse = (np.sqrt(mean_squared_error(Y_test, y_test_predict)))\n",
    "r2 = r2_score(Y_test, y_test_predict)\n",
    "\n",
    "print(\"The model performance for testing set\")\n",
    "print(\"--------------------------------------\")\n",
    "print('MAE is {}'.format(mae))\n",
    "print('RMSE is {}'.format(rmse))"
   ]
  },
  {
   "cell_type": "code",
   "execution_count": 52,
   "metadata": {},
   "outputs": [
    {
     "data": {
      "text/plain": [
       "array([[296322.53],\n",
       "       [367032.03],\n",
       "       [284363.44],\n",
       "       [352855.66],\n",
       "       [383473.  ],\n",
       "       [264897.94],\n",
       "       [326388.22],\n",
       "       [361900.22],\n",
       "       [450145.9 ],\n",
       "       [322779.3 ]], dtype=float32)"
      ]
     },
     "execution_count": 52,
     "metadata": {},
     "output_type": "execute_result"
    }
   ],
   "source": [
    "y_test_predict"
   ]
  },
  {
   "cell_type": "code",
   "execution_count": 53,
   "metadata": {},
   "outputs": [
    {
     "data": {
      "text/plain": [
       "array([469000, 287000, 464500, 299000, 573900, 229900, 329999, 599000,\n",
       "       539900, 249900])"
      ]
     },
     "execution_count": 53,
     "metadata": {},
     "output_type": "execute_result"
    }
   ],
   "source": [
    "Y_test"
   ]
  },
  {
   "cell_type": "code",
   "execution_count": 54,
   "metadata": {},
   "outputs": [
    {
     "name": "stdout",
     "output_type": "stream",
     "text": [
      "10\n",
      "10\n"
     ]
    },
    {
     "data": {
      "image/png": "[encoded data removed]",
      "text/plain": [
       "<Figure size 432x288 with 1 Axes>"
      ]
     },
     "metadata": {
      "needs_background": "light"
     },
     "output_type": "display_data"
    }
   ],
   "source": [
    "# Our predictions\n",
    "plt.scatter(Y_test,y_test_predict)\n",
    "\n",
    "# Perfect predictions\n",
    "plt.plot(Y_test,Y_test,'r')\n",
    "print(len(Y_test))\n",
    "print(len(y_test_predict))"
   ]
  },
  {
   "cell_type": "code",
   "execution_count": 56,
   "metadata": {},
   "outputs": [
    {
     "data": {
      "image/png": "[encoded data removed]",
      "text/plain": [
       "<Figure size 720x720 with 1 Axes>"
      ]
     },
     "metadata": {
      "needs_background": "light"
     },
     "output_type": "display_data"
    }
   ],
   "source": [
    "plt.figure(figsize=(10,10))\n",
    "plt.scatter(Y_test, y_test_predict, c='crimson')\n",
    "\n",
    "p1 = max(max(y_test_predict), max(Y_test))\n",
    "p2 = min(min(y_test_predict), min(Y_test))\n",
    "plt.plot([p1, p2], [p1, p2], 'b-')\n",
    "plt.xlabel('True Values', fontsize=15)\n",
    "plt.ylabel('Predictions', fontsize=15)\n",
    "plt.axis('equal')\n",
    "plt.show()"
   ]
  },
  {
   "cell_type": "code",
   "execution_count": null,
   "metadata": {},
   "outputs": [],
   "source": []
  }
 ],
 "metadata": {
  "kernelspec": {
   "display_name": "Python 3",
   "language": "python",
   "name": "python3"
  },
  "language_info": {
   "codemirror_mode": {
    "name": "ipython",
    "version": 3
   },
   "file_extension": ".py",
   "mimetype": "text/x-python",
   "name": "python",
   "nbconvert_exporter": "python",
   "pygments_lexer": "ipython3",
   "version": "3.6.13"
  }
 },
 "nbformat": 4,
 "nbformat_minor": 2
}
