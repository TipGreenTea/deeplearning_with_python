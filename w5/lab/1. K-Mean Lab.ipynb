{
 "cells": [
  {
   "cell_type": "markdown",
   "metadata": {},
   "source": [
    "## User Knowledge\n",
    "### Student's knowledge status about the subject of Electrical DC Machines.\n",
    "The data contains real information about the student's knowledge status about the subject of Electrical DC Machines. It has been obtained from UCI ML Repository.\n",
    "<br>\n",
    "The details of each feature are provided below: <br>\n",
    "1. STG: The degree of study time for goal object materails <br>\n",
    "2. SCG: The degree of repetition number of user for goal object materails <br>\n",
    "3. STR: The degree of study time of user for related objects with goal object <br>\n",
    "4. LPR: The exam performance of user for related objects with goal object <br>\n",
    "5. PEG: The exam performance of user for goal objects\n",
    "\n",
    "To do:\n",
    "1. Select 2 pairs of features such as (LPR and PEG) and (STG and STR) <br>\n",
    "2. Perform Clustering based on these 2 features of (LPR and PEG) and visualize the result <br>\n",
    "3. Perform Clustering based on these 2 features of (STG and STR) and visualize the result <br>"
   ]
  },
  {
   "cell_type": "code",
   "execution_count": null,
   "metadata": {},
   "outputs": [],
   "source": []
  }
 ],
 "metadata": {
  "kernelspec": {
   "display_name": "Python 3",
   "language": "python",
   "name": "python3"
  },
  "language_info": {
   "codemirror_mode": {
    "name": "ipython",
    "version": 3
   },
   "file_extension": ".py",
   "mimetype": "text/x-python",
   "name": "python",
   "nbconvert_exporter": "python",
   "pygments_lexer": "ipython3",
   "version": "3.6.8"
  }
 },
 "nbformat": 4,
 "nbformat_minor": 2
}
